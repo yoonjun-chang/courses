{
 "cells": [
  {
   "cell_type": "code",
   "execution_count": 6,
   "id": "ed32c05e",
   "metadata": {},
   "outputs": [
    {
     "name": "stdout",
     "output_type": "stream",
     "text": [
      "Enter a number:4\n",
      "Enter a number:5\n",
      "Enter a number:bad data\n",
      "invalid input\n",
      "Enter a number:7\n",
      "Enter a number:done\n",
      "Total:  16 Count:  3 Average:  5.333333333333333\n"
     ]
    }
   ],
   "source": [
    "count = 0\n",
    "average = 0\n",
    "total = 0\n",
    "\n",
    "\n",
    "while True:\n",
    "    try:\n",
    "        num = input(\"Enter a number:\")\n",
    "\n",
    "        if num == 'done':\n",
    "            break\n",
    "\n",
    "        num = int(num)\n",
    "\n",
    "        total += num\n",
    "        count += 1\n",
    "        average = total / count\n",
    "\n",
    "\n",
    "\n",
    "    except:\n",
    "        print(\"invalid input\")\n",
    "        \n",
    "print(\"Total: \",total, \"Count: \",count, \"Average: \",average)\n"
   ]
  },
  {
   "cell_type": "code",
   "execution_count": 9,
   "id": "91ce21c5",
   "metadata": {},
   "outputs": [
    {
     "name": "stdout",
     "output_type": "stream",
     "text": [
      "Enter a number:6\n",
      "Enter a number:5\n",
      "Enter a number:7\n",
      "Enter a number:10\n",
      "Enter a number:20\n",
      "Enter a number:30\n",
      "Enter a number:-1\n",
      "Enter a number:99\n",
      "Enter a number:500\n",
      "Enter a number:-600\n",
      "Enter a number:done\n",
      "Maximum:  500 Minimum:  -600\n"
     ]
    }
   ],
   "source": [
    "max_value = 0\n",
    "min_value = 0\n",
    "\n",
    "while True:\n",
    "    try:\n",
    "        num = input(\"Enter a number:\")\n",
    "        if num == 'done':\n",
    "            break\n",
    "        num = int(num)\n",
    "        if num > max_value:\n",
    "            max_value = num\n",
    "        if num < min_value:\n",
    "            min_value = num\n",
    "        \n",
    "    except:\n",
    "        print(\"invalid input\")\n",
    "        \n",
    "print(\"Maximum: \",max_value, \"Minimum: \", min_value)"
   ]
  },
  {
   "cell_type": "code",
   "execution_count": 1,
   "id": "42ef0e51",
   "metadata": {},
   "outputs": [],
   "source": [
    "fruit = 'banana'"
   ]
  },
  {
   "cell_type": "code",
   "execution_count": 2,
   "id": "aa438a3d",
   "metadata": {},
   "outputs": [],
   "source": [
    "letter = fruit[1]"
   ]
  },
  {
   "cell_type": "code",
   "execution_count": 3,
   "id": "e1f9044a",
   "metadata": {},
   "outputs": [
    {
     "name": "stdout",
     "output_type": "stream",
     "text": [
      "a\n"
     ]
    }
   ],
   "source": [
    "print(letter)"
   ]
  },
  {
   "cell_type": "code",
   "execution_count": 4,
   "id": "492d6e05",
   "metadata": {},
   "outputs": [],
   "source": [
    "letter = fruit[0]"
   ]
  },
  {
   "cell_type": "code",
   "execution_count": 5,
   "id": "6528b4f3",
   "metadata": {},
   "outputs": [
    {
     "name": "stdout",
     "output_type": "stream",
     "text": [
      "b\n"
     ]
    }
   ],
   "source": [
    "print(letter)"
   ]
  },
  {
   "cell_type": "code",
   "execution_count": 6,
   "id": "a01ffde4",
   "metadata": {},
   "outputs": [
    {
     "data": {
      "text/plain": [
       "6"
      ]
     },
     "execution_count": 6,
     "metadata": {},
     "output_type": "execute_result"
    }
   ],
   "source": [
    "len(fruit)"
   ]
  },
  {
   "cell_type": "code",
   "execution_count": 7,
   "id": "e9f561f8",
   "metadata": {},
   "outputs": [
    {
     "name": "stdout",
     "output_type": "stream",
     "text": [
      "b\n",
      "a\n",
      "n\n",
      "a\n",
      "n\n",
      "a\n"
     ]
    }
   ],
   "source": [
    "index = 0\n",
    "while index < len(fruit):\n",
    "    letter = fruit[index]\n",
    "    print(letter)\n",
    "    index += 1"
   ]
  },
  {
   "cell_type": "code",
   "execution_count": 8,
   "id": "120b3247",
   "metadata": {},
   "outputs": [
    {
     "name": "stdout",
     "output_type": "stream",
     "text": [
      "a\n",
      "n\n",
      "a\n",
      "n\n",
      "a\n",
      "b\n"
     ]
    }
   ],
   "source": [
    "index = len(fruit)\n",
    "while index > 0:\n",
    "    letter = fruit[index - 1]\n",
    "    print(letter)\n",
    "    index -= 1"
   ]
  },
  {
   "cell_type": "code",
   "execution_count": 9,
   "id": "dc769ba6",
   "metadata": {},
   "outputs": [
    {
     "name": "stdout",
     "output_type": "stream",
     "text": [
      "b\n",
      "a\n",
      "n\n",
      "a\n",
      "n\n",
      "a\n"
     ]
    }
   ],
   "source": [
    "for a_letter in fruit:\n",
    "    print(a_letter)"
   ]
  },
  {
   "cell_type": "code",
   "execution_count": 14,
   "id": "176cd698",
   "metadata": {},
   "outputs": [
    {
     "name": "stdout",
     "output_type": "stream",
     "text": [
      "Python\n"
     ]
    }
   ],
   "source": [
    "a_string = 'Monty Python'\n",
    "print(a_string[6:])"
   ]
  },
  {
   "cell_type": "code",
   "execution_count": 15,
   "id": "4ab48562",
   "metadata": {},
   "outputs": [
    {
     "name": "stdout",
     "output_type": "stream",
     "text": [
      "banana\n"
     ]
    }
   ],
   "source": [
    "print(fruit[:])"
   ]
  },
  {
   "cell_type": "code",
   "execution_count": 16,
   "id": "a071d0ac",
   "metadata": {},
   "outputs": [
    {
     "name": "stdout",
     "output_type": "stream",
     "text": [
      "Monty Python\n"
     ]
    }
   ],
   "source": [
    "print(a_string[:])"
   ]
  },
  {
   "cell_type": "code",
   "execution_count": 22,
   "id": "8becfed2",
   "metadata": {},
   "outputs": [
    {
     "name": "stdout",
     "output_type": "stream",
     "text": [
      "Enter a word:banana\n",
      "Enter a letter:a\n",
      "3\n"
     ]
    }
   ],
   "source": [
    "s = input(\"Enter a word:\")\n",
    "l = input(\"Enter a letter:\")\n",
    "\n",
    "def count(word,letter):\n",
    "    total = 0\n",
    "    for char in word:\n",
    "        if char == letter:\n",
    "            total += 1\n",
    "    print(total)\n",
    "count(s,l)"
   ]
  },
  {
   "cell_type": "code",
   "execution_count": 29,
   "id": "bd21b304",
   "metadata": {},
   "outputs": [
    {
     "name": "stdout",
     "output_type": "stream",
     "text": [
      "Your word, pineapples, comes after banana.\n"
     ]
    }
   ],
   "source": [
    "word = 'PINEAPPLES'\n",
    "word = word.lower()\n",
    "\n",
    "if word < 'banana':\n",
    "    print('Your word, ' + word + ', comes before banana.')\n",
    "elif word > 'banana':\n",
    "    print('Your word, ' + word + ', comes after banana.')\n",
    "else:\n",
    "    ('All right, bananas.')"
   ]
  },
  {
   "cell_type": "code",
   "execution_count": 30,
   "id": "90126123",
   "metadata": {},
   "outputs": [
    {
     "data": {
      "text/plain": [
       "['__add__',\n",
       " '__class__',\n",
       " '__contains__',\n",
       " '__delattr__',\n",
       " '__dir__',\n",
       " '__doc__',\n",
       " '__eq__',\n",
       " '__format__',\n",
       " '__ge__',\n",
       " '__getattribute__',\n",
       " '__getitem__',\n",
       " '__getnewargs__',\n",
       " '__gt__',\n",
       " '__hash__',\n",
       " '__init__',\n",
       " '__init_subclass__',\n",
       " '__iter__',\n",
       " '__le__',\n",
       " '__len__',\n",
       " '__lt__',\n",
       " '__mod__',\n",
       " '__mul__',\n",
       " '__ne__',\n",
       " '__new__',\n",
       " '__reduce__',\n",
       " '__reduce_ex__',\n",
       " '__repr__',\n",
       " '__rmod__',\n",
       " '__rmul__',\n",
       " '__setattr__',\n",
       " '__sizeof__',\n",
       " '__str__',\n",
       " '__subclasshook__',\n",
       " 'capitalize',\n",
       " 'casefold',\n",
       " 'center',\n",
       " 'count',\n",
       " 'encode',\n",
       " 'endswith',\n",
       " 'expandtabs',\n",
       " 'find',\n",
       " 'format',\n",
       " 'format_map',\n",
       " 'index',\n",
       " 'isalnum',\n",
       " 'isalpha',\n",
       " 'isascii',\n",
       " 'isdecimal',\n",
       " 'isdigit',\n",
       " 'isidentifier',\n",
       " 'islower',\n",
       " 'isnumeric',\n",
       " 'isprintable',\n",
       " 'isspace',\n",
       " 'istitle',\n",
       " 'isupper',\n",
       " 'join',\n",
       " 'ljust',\n",
       " 'lower',\n",
       " 'lstrip',\n",
       " 'maketrans',\n",
       " 'partition',\n",
       " 'removeprefix',\n",
       " 'removesuffix',\n",
       " 'replace',\n",
       " 'rfind',\n",
       " 'rindex',\n",
       " 'rjust',\n",
       " 'rpartition',\n",
       " 'rsplit',\n",
       " 'rstrip',\n",
       " 'split',\n",
       " 'splitlines',\n",
       " 'startswith',\n",
       " 'strip',\n",
       " 'swapcase',\n",
       " 'title',\n",
       " 'translate',\n",
       " 'upper',\n",
       " 'zfill']"
      ]
     },
     "execution_count": 30,
     "metadata": {},
     "output_type": "execute_result"
    }
   ],
   "source": [
    "dir(word)"
   ]
  },
  {
   "cell_type": "code",
   "execution_count": 31,
   "id": "a2248a55",
   "metadata": {},
   "outputs": [
    {
     "data": {
      "text/plain": [
       "'Pineapples'"
      ]
     },
     "execution_count": 31,
     "metadata": {},
     "output_type": "execute_result"
    }
   ],
   "source": [
    "word.capitalize()"
   ]
  },
  {
   "cell_type": "code",
   "execution_count": 32,
   "id": "db03b47f",
   "metadata": {},
   "outputs": [
    {
     "data": {
      "text/plain": [
       "'PINEAPPLES'"
      ]
     },
     "execution_count": 32,
     "metadata": {},
     "output_type": "execute_result"
    }
   ],
   "source": [
    "word.upper()"
   ]
  },
  {
   "cell_type": "code",
   "execution_count": 4,
   "id": "fe3b8ed3",
   "metadata": {},
   "outputs": [
    {
     "data": {
      "text/plain": [
       "2"
      ]
     },
     "execution_count": 4,
     "metadata": {},
     "output_type": "execute_result"
    }
   ],
   "source": [
    "word = 'banana'\n",
    "substring = 'a'\n",
    "word.count(substring,2,6)"
   ]
  },
  {
   "cell_type": "code",
   "execution_count": 5,
   "id": "da5821b1",
   "metadata": {},
   "outputs": [
    {
     "name": "stdout",
     "output_type": "stream",
     "text": [
      "In 5 years I have spotted 0.11 camelssss.\n"
     ]
    }
   ],
   "source": [
    "temp = 5\n",
    "temp1 = 0.11\n",
    "temp2 = 'camelssss'\n",
    "\n",
    "print(\"In %d years I have spotted %g %s.\" %(temp, temp1, temp2))"
   ]
  },
  {
   "cell_type": "code",
   "execution_count": 20,
   "id": "d3898c0e",
   "metadata": {},
   "outputs": [
    {
     "name": "stdout",
     "output_type": "stream",
     "text": [
      "0.8475\n"
     ]
    }
   ],
   "source": [
    "str = 'X-DSPAM-Confidence: 0.8475 '\n",
    "fpos = str.find(':')\n",
    "epos = len(str)\n",
    "temp = str[fpos + 1:epos-1]\n",
    "temp = float(temp)\n",
    "print(temp)\n"
   ]
  },
  {
   "cell_type": "code",
   "execution_count": 2,
   "id": "3a379c72",
   "metadata": {},
   "outputs": [
    {
     "name": "stdout",
     "output_type": "stream",
     "text": [
      "9 8\n"
     ]
    }
   ],
   "source": [
    "i = 8\n",
    "j = 9\n",
    "i,j = j,i\n",
    "print(i,j)"
   ]
  },
  {
   "cell_type": "code",
   "execution_count": 1,
   "id": "c550c748",
   "metadata": {},
   "outputs": [
    {
     "ename": "NameError",
     "evalue": "name 'sqrt' is not defined",
     "output_type": "error",
     "traceback": [
      "\u001b[1;31m---------------------------------------------------------------------------\u001b[0m",
      "\u001b[1;31mNameError\u001b[0m                                 Traceback (most recent call last)",
      "Input \u001b[1;32mIn [1]\u001b[0m, in \u001b[0;36m<cell line: 1>\u001b[1;34m()\u001b[0m\n\u001b[1;32m----> 1\u001b[0m \u001b[43msqrt\u001b[49m(\u001b[38;5;241m2\u001b[39m)\n",
      "\u001b[1;31mNameError\u001b[0m: name 'sqrt' is not defined"
     ]
    }
   ],
   "source": [
    "sqrt(2)"
   ]
  },
  {
   "cell_type": "code",
   "execution_count": 3,
   "id": "92e927e4",
   "metadata": {},
   "outputs": [
    {
     "data": {
      "text/plain": [
       "1.4142135623730951"
      ]
     },
     "execution_count": 3,
     "metadata": {},
     "output_type": "execute_result"
    }
   ],
   "source": [
    "import math\n",
    "math.sqrt(2)"
   ]
  },
  {
   "cell_type": "code",
   "execution_count": 14,
   "id": "33c40b7c",
   "metadata": {},
   "outputs": [
    {
     "data": {
      "text/plain": [
       "12.566370614359172"
      ]
     },
     "execution_count": 14,
     "metadata": {},
     "output_type": "execute_result"
    }
   ],
   "source": [
    "import math\n",
    "\n",
    "def circle_area(r):\n",
    "    area = math.pi * r**2\n",
    "    return area\n",
    "\n",
    "circle_area(2)"
   ]
  },
  {
   "cell_type": "code",
   "execution_count": 15,
   "id": "4046feff",
   "metadata": {},
   "outputs": [
    {
     "data": {
      "text/plain": [
       "28.274333882308138"
      ]
     },
     "execution_count": 15,
     "metadata": {},
     "output_type": "execute_result"
    }
   ],
   "source": [
    "circle_area(3)"
   ]
  },
  {
   "cell_type": "code",
   "execution_count": 21,
   "id": "c92f1760",
   "metadata": {},
   "outputs": [
    {
     "name": "stdout",
     "output_type": "stream",
     "text": [
      "12.566370614359172\n"
     ]
    }
   ],
   "source": [
    "temp = circle_area(2)\n",
    "print(temp)"
   ]
  },
  {
   "cell_type": "code",
   "execution_count": 22,
   "id": "f60239ed",
   "metadata": {},
   "outputs": [
    {
     "data": {
      "text/plain": [
       "12.566370614359172"
      ]
     },
     "execution_count": 22,
     "metadata": {},
     "output_type": "execute_result"
    }
   ],
   "source": [
    "temp"
   ]
  },
  {
   "cell_type": "code",
   "execution_count": 26,
   "id": "ed47a7b7",
   "metadata": {},
   "outputs": [
    {
     "name": "stdout",
     "output_type": "stream",
     "text": [
      "6 2 0 0 2\n"
     ]
    }
   ],
   "source": [
    "def quad(a,b,c,x):\n",
    "    return a*x**2 + b*x + c\n",
    "\n",
    "print(quad(1,-7,12,1), quad(1,-7,12,2), quad(1,-7,12,3), quad(1,-7,12,4), quad(1,-7,12,5))"
   ]
  },
  {
   "cell_type": "code",
   "execution_count": 6,
   "id": "16e4717f",
   "metadata": {},
   "outputs": [
    {
     "name": "stdout",
     "output_type": "stream",
     "text": [
      "a= 1\n",
      "b= -7\n",
      "c= 12\n",
      "x= 1\n",
      "result= 6\n"
     ]
    }
   ],
   "source": [
    "def quad(a,b,c,x):\n",
    "    result = a*x**2 + b*x + c\n",
    "    print(\"a=\",a)\n",
    "    print(\"b=\",b)\n",
    "    print(\"c=\",c)\n",
    "    print(\"x=\",x)\n",
    "    print(\"result=\",result)\n",
    "    \n",
    "quad(1,-7,12,1)"
   ]
  },
  {
   "cell_type": "code",
   "execution_count": 4,
   "id": "1e9ad37c",
   "metadata": {},
   "outputs": [
    {
     "data": {
      "text/plain": [
       "True"
      ]
     },
     "execution_count": 4,
     "metadata": {},
     "output_type": "execute_result"
    }
   ],
   "source": [
    "def divisible(m,n):\n",
    "    return m%n == 0\n",
    "\n",
    "divisible(4,2)"
   ]
  },
  {
   "cell_type": "code",
   "execution_count": 8,
   "id": "799222cb",
   "metadata": {},
   "outputs": [
    {
     "data": {
      "text/plain": [
       "False"
      ]
     },
     "execution_count": 8,
     "metadata": {},
     "output_type": "execute_result"
    }
   ],
   "source": [
    "divisible(5,3)"
   ]
  },
  {
   "cell_type": "code",
   "execution_count": 12,
   "id": "d71fde69",
   "metadata": {
    "scrolled": true
   },
   "outputs": [
    {
     "name": "stdout",
     "output_type": "stream",
     "text": [
      "fizz\n",
      "shucks\n",
      "buzz\n",
      "fizzbuzz\n"
     ]
    }
   ],
   "source": [
    "def fb(n):\n",
    "    if divisible(n,15):\n",
    "        print(\"fizzbuzz\")\n",
    "\n",
    "    if divisible(n,5) and not divisible(n,3):\n",
    "        print(\"buzz\")\n",
    "        \n",
    "    if divisible(n,3) and not divisible(n,5):\n",
    "        print(\"fizz\")\n",
    "  \n",
    "    if not (divisible(n,5) or divisible(n,3)):\n",
    "        print(\"shucks\")\n",
    "\n",
    "fb(6)\n",
    "fb(7)\n",
    "fb(10)\n",
    "fb(15)\n",
    "    "
   ]
  },
  {
   "cell_type": "code",
   "execution_count": 4,
   "id": "8bf09e09",
   "metadata": {},
   "outputs": [],
   "source": [
    "def sleep_in(weekday,vacation):\n",
    "    return weekday == False or vacation == True"
   ]
  },
  {
   "cell_type": "code",
   "execution_count": 9,
   "id": "d6fd1b32",
   "metadata": {},
   "outputs": [
    {
     "name": "stdout",
     "output_type": "stream",
     "text": [
      "True\n",
      "False\n",
      "True\n",
      "False\n"
     ]
    }
   ],
   "source": [
    "print(sleep_in(True,True))\n",
    "print(sleep_in(True,False))\n",
    "print(sleep_in(False,True))\n",
    "print(sleep_in(False,False))"
   ]
  },
  {
   "cell_type": "code",
   "execution_count": 1,
   "id": "58546963",
   "metadata": {},
   "outputs": [
    {
     "name": "stdout",
     "output_type": "stream",
     "text": [
      "True\n",
      "False\n",
      "False\n",
      "True\n"
     ]
    }
   ],
   "source": [
    "def monkey_trouble(a_smile,b_smile):\n",
    "    return (a_smile and b_smile) or not (a_smile or b_smile)\n",
    "\n",
    "print(monkey_trouble(True,True))\n",
    "print(monkey_trouble(True,False))\n",
    "print(monkey_trouble(False,True))\n",
    "print(monkey_trouble(False,False))"
   ]
  },
  {
   "cell_type": "code",
   "execution_count": 9,
   "id": "08acc16d",
   "metadata": {},
   "outputs": [
    {
     "name": "stdout",
     "output_type": "stream",
     "text": [
      "3\n",
      "5\n",
      "8\n"
     ]
    }
   ],
   "source": [
    "def sum_double(a,b):\n",
    "    sum = a+b\n",
    "    if a == b:\n",
    "        sum *= 2\n",
    "    return sum\n",
    "\n",
    "print(sum_double(1, 2))\n",
    "print(sum_double(3, 2)) \n",
    "print(sum_double(2, 2)) "
   ]
  },
  {
   "cell_type": "code",
   "execution_count": 12,
   "id": "2918607d",
   "metadata": {},
   "outputs": [
    {
     "name": "stdout",
     "output_type": "stream",
     "text": [
      "2\n",
      "11\n",
      "0\n",
      "6\n"
     ]
    }
   ],
   "source": [
    "def diff21(n):\n",
    "    if n < 21:\n",
    "        return abs(21-n)\n",
    "    else:\n",
    "        return (abs(21-n)) *2\n",
    "\n",
    "print(diff21(19))\n",
    "print(diff21(10))\n",
    "print(diff21(21))\n",
    "print(diff21(24))"
   ]
  },
  {
   "cell_type": "code",
   "execution_count": 15,
   "id": "cebaa8af",
   "metadata": {},
   "outputs": [
    {
     "name": "stdout",
     "output_type": "stream",
     "text": [
      "4\n"
     ]
    }
   ],
   "source": [
    "inp = (input())"
   ]
  },
  {
   "cell_type": "code",
   "execution_count": 16,
   "id": "2249363f",
   "metadata": {},
   "outputs": [
    {
     "data": {
      "text/plain": [
       "str"
      ]
     },
     "execution_count": 16,
     "metadata": {},
     "output_type": "execute_result"
    }
   ],
   "source": [
    "type(inp)"
   ]
  },
  {
   "cell_type": "code",
   "execution_count": 17,
   "id": "08fb0c2e",
   "metadata": {},
   "outputs": [
    {
     "data": {
      "text/plain": [
       "float"
      ]
     },
     "execution_count": 17,
     "metadata": {},
     "output_type": "execute_result"
    }
   ],
   "source": [
    "inp = float(inp)\n",
    "type(inp)"
   ]
  },
  {
   "cell_type": "code",
   "execution_count": 20,
   "id": "acda0d18",
   "metadata": {},
   "outputs": [
    {
     "name": "stdout",
     "output_type": "stream",
     "text": [
      "muffin\n",
      "muffin\n",
      "cupcake\n"
     ]
    },
    {
     "ename": "NameError",
     "evalue": "name 'cupcake' is not defined",
     "output_type": "error",
     "traceback": [
      "\u001b[1;31m---------------------------------------------------------------------------\u001b[0m",
      "\u001b[1;31mNameError\u001b[0m                                 Traceback (most recent call last)",
      "Input \u001b[1;32mIn [20]\u001b[0m, in \u001b[0;36m<cell line: 4>\u001b[1;34m()\u001b[0m\n\u001b[0;32m     10\u001b[0m \tmuffins \u001b[38;5;241m-\u001b[39m\u001b[38;5;241m=\u001b[39m \u001b[38;5;241m1\u001b[39m\n\u001b[0;32m     11\u001b[0m \u001b[38;5;28;01melse\u001b[39;00m:\n\u001b[1;32m---> 12\u001b[0m \tcupcake \u001b[38;5;241m-\u001b[39m\u001b[38;5;241m=\u001b[39m \u001b[38;5;241m1\u001b[39m\n\u001b[0;32m     14\u001b[0m \u001b[38;5;28;01mif\u001b[39;00m muffins \u001b[38;5;241m==\u001b[39m \u001b[38;5;241m0\u001b[39m \u001b[38;5;129;01mor\u001b[39;00m cupcakes \u001b[38;5;241m==\u001b[39m \u001b[38;5;241m0\u001b[39m:\n\u001b[0;32m     15\u001b[0m \t\u001b[38;5;28mprint\u001b[39m(\u001b[38;5;124m\"\u001b[39m\u001b[38;5;124mOut of stocks\u001b[39m\u001b[38;5;124m\"\u001b[39m)\n",
      "\u001b[1;31mNameError\u001b[0m: name 'cupcake' is not defined"
     ]
    }
   ],
   "source": [
    "muffins = 3\n",
    "cupcakes = 2\n",
    "\n",
    "while True:\n",
    "\tinp = input()\n",
    "\tif inp == '0':\n",
    "\t\tbreak\n",
    "\t\n",
    "\tif inp == 'muffin':\n",
    "\t\tmuffins -= 1\n",
    "\telse:\n",
    "\t\tcupcakes -= 1\n",
    "\t\n",
    "\tif muffins == 0 or cupcakes == 0:\n",
    "\t\tprint(\"Out of stocks\")\n",
    "\t\tprint(\"muffins:\",muffins,\"cupcakes:\",cupcakes)\n",
    "\t\tbreak\n",
    "        \n",
    "print(\"muffins:\",muffins,\"cupcakes:\",cupcakes)"
   ]
  },
  {
   "cell_type": "code",
   "execution_count": 22,
   "id": "445e2a2c",
   "metadata": {},
   "outputs": [
    {
     "name": "stdout",
     "output_type": "stream",
     "text": [
      "duck\n",
      "duck\n",
      "goose\n",
      "2\n"
     ]
    }
   ],
   "source": [
    "count = 0\n",
    "\n",
    "while True:\n",
    "\tinp = input()\n",
    "\tif inp == 'goose':\n",
    "\t\tbreak\n",
    "\tif inp == 'duck':\n",
    "\t\tcount += 1\n",
    "\t\t\n",
    "print(count)"
   ]
  },
  {
   "cell_type": "code",
   "execution_count": 25,
   "id": "33b02529",
   "metadata": {},
   "outputs": [
    {
     "name": "stdout",
     "output_type": "stream",
     "text": [
      "5\n"
     ]
    }
   ],
   "source": [
    "i = 0\n",
    "j = 1\n",
    "n = 6\n",
    "\n",
    "while n-2 > 0:\n",
    "\tk = i+j\n",
    "\ti = j\n",
    "\tj = k\n",
    "\tn -= 1\n",
    "print(k)"
   ]
  },
  {
   "cell_type": "code",
   "execution_count": 33,
   "id": "d9492ae1",
   "metadata": {},
   "outputs": [
    {
     "data": {
      "text/plain": [
       "13"
      ]
     },
     "execution_count": 33,
     "metadata": {},
     "output_type": "execute_result"
    }
   ],
   "source": [
    "def fibonacci(n):\n",
    "    i = 0\n",
    "    j = 1\n",
    "    while n-2 > 0:\n",
    "        k = i+j\n",
    "        i = j\n",
    "        j = k\n",
    "        n -= 1\n",
    "    return k\n",
    "\n",
    "fibonacci(8)"
   ]
  },
  {
   "cell_type": "code",
   "execution_count": 36,
   "id": "1629f7fe",
   "metadata": {},
   "outputs": [
    {
     "name": "stdout",
     "output_type": "stream",
     "text": [
      "aa\n",
      "ab\n",
      "ac\n",
      "ba\n",
      "bb\n",
      "bc\n",
      "ca\n",
      "cb\n",
      "cc\n"
     ]
    }
   ],
   "source": [
    "letters = ['a','b','c']\n",
    "\n",
    "for i in letters:\n",
    "\tfor j in letters:\n",
    "\t\tprint(i+j)"
   ]
  },
  {
   "cell_type": "code",
   "execution_count": 10,
   "id": "8857bc3c",
   "metadata": {},
   "outputs": [
    {
     "name": "stdout",
     "output_type": "stream",
     "text": [
      "0\n",
      "1\n",
      "2\n",
      "3\n",
      "4\n"
     ]
    }
   ],
   "source": [
    "i = 0\n",
    "while i < 5:\n",
    "    print(i)\n",
    "    i = i + 1\n",
    "    "
   ]
  },
  {
   "cell_type": "code",
   "execution_count": 11,
   "id": "bc80542b",
   "metadata": {},
   "outputs": [
    {
     "name": "stdout",
     "output_type": "stream",
     "text": [
      "0\n",
      "1\n",
      "2\n",
      "3\n",
      "4\n",
      "5\n"
     ]
    }
   ],
   "source": [
    "i = 0\n",
    "while i <= 5:\n",
    "    print(i)\n",
    "    i = i + 1\n",
    "    "
   ]
  },
  {
   "cell_type": "code",
   "execution_count": 12,
   "id": "da496d34",
   "metadata": {},
   "outputs": [
    {
     "name": "stdout",
     "output_type": "stream",
     "text": [
      "1\n",
      "2\n",
      "3\n",
      "4\n",
      "5\n"
     ]
    }
   ],
   "source": [
    "i = 0\n",
    "while i < 5:\n",
    "    i = i + 1\n",
    "    print(i)"
   ]
  },
  {
   "cell_type": "code",
   "execution_count": 13,
   "id": "a41d44dc",
   "metadata": {},
   "outputs": [
    {
     "name": "stdout",
     "output_type": "stream",
     "text": [
      "1\n",
      "2\n",
      "3\n",
      "4\n",
      "5\n",
      "6\n"
     ]
    }
   ],
   "source": [
    "i = 0\n",
    "while i <= 5:\n",
    "    i = i + 1\n",
    "    print(i)"
   ]
  },
  {
   "cell_type": "code",
   "execution_count": 3,
   "id": "97527e49",
   "metadata": {},
   "outputs": [
    {
     "name": "stdout",
     "output_type": "stream",
     "text": [
      "Enter an integer: \n",
      "Try again\n",
      "Enter an integer: r\n",
      "Try again\n",
      "Enter an integer: d\n",
      "Try again\n",
      "Enter an integer: f\n",
      "Try again\n",
      "Enter an integer: h\n",
      "Try again\n",
      "Enter an integer: 4.3\n",
      "Try again\n",
      "Enter an integer: 1/2\n",
      "Try again\n",
      "Enter an integer: 1\n",
      "Valid input\n"
     ]
    }
   ],
   "source": [
    "while True:\n",
    "    try:\n",
    "        inp = int(input(\"Enter an integer: \"))\n",
    "        break\n",
    "    except:\n",
    "        print(\"Try again\")\n",
    "print(\"Valid input\")"
   ]
  },
  {
   "cell_type": "code",
   "execution_count": null,
   "id": "895e2ddc",
   "metadata": {},
   "outputs": [],
   "source": [
    "def avg_the_list(n_list):\n",
    "    total = 0\n",
    "    for i in n_list:\n",
    "        total+=i\n",
    "    return total/len(n_list)\n",
    "\n",
    "test_list = [1,2,3,4,5]\n",
    "print(avg_the_list(test_list))"
   ]
  },
  {
   "cell_type": "code",
   "execution_count": 3,
   "id": "ac469e47",
   "metadata": {
    "scrolled": false
   },
   "outputs": [
    {
     "name": "stdout",
     "output_type": "stream",
     "text": [
      "5.4\n"
     ]
    }
   ],
   "source": [
    "def avg_the_odds(n_list):\n",
    "    total = 0\n",
    "    n = 0\n",
    "    for i in n_list:\n",
    "        if i%2 != 0:\n",
    "            total += i\n",
    "            n += 1\n",
    "    return total/n\n",
    "\n",
    "test_list = [1,2,3,4,5,7,11]\n",
    "print(avg_the_odds(test_list))"
   ]
  },
  {
   "cell_type": "code",
   "execution_count": 6,
   "id": "d3c7708e",
   "metadata": {},
   "outputs": [
    {
     "name": "stdout",
     "output_type": "stream",
     "text": [
      "127\n"
     ]
    }
   ],
   "source": [
    "def largest(n_list):\n",
    "    max = 0\n",
    "    for i in n_list:\n",
    "        if i > max:\n",
    "            max = i\n",
    "    return max\n",
    "\n",
    "list = [1,-5,16,76,127,4]\n",
    "print(largest(list))"
   ]
  },
  {
   "cell_type": "code",
   "execution_count": 8,
   "id": "17605fac",
   "metadata": {},
   "outputs": [
    {
     "name": "stdout",
     "output_type": "stream",
     "text": [
      "-5\n"
     ]
    }
   ],
   "source": [
    "def smallest(n_list):\n",
    "    min = 0\n",
    "    for i in n_list:\n",
    "        if i < min:\n",
    "            min = i\n",
    "    return min\n",
    "\n",
    "list = [1,-5,16,76,127,4]\n",
    "print(smallest(list))"
   ]
  },
  {
   "cell_type": "code",
   "execution_count": 1,
   "id": "911950a6",
   "metadata": {},
   "outputs": [
    {
     "name": "stdout",
     "output_type": "stream",
     "text": [
      "o\n"
     ]
    }
   ],
   "source": [
    "my_name = \"Yoonjun Chang\"\n",
    "second = my_name[1]\n",
    "print(second)"
   ]
  },
  {
   "cell_type": "code",
   "execution_count": 6,
   "id": "ce105163",
   "metadata": {},
   "outputs": [
    {
     "data": {
      "text/plain": [
       "13"
      ]
     },
     "execution_count": 6,
     "metadata": {},
     "output_type": "execute_result"
    }
   ],
   "source": [
    "len(my_name)"
   ]
  },
  {
   "cell_type": "code",
   "execution_count": 9,
   "id": "f3bad56e",
   "metadata": {},
   "outputs": [
    {
     "data": {
      "text/plain": [
       "'g'"
      ]
     },
     "execution_count": 9,
     "metadata": {},
     "output_type": "execute_result"
    }
   ],
   "source": [
    "my_name[len(my_name)-1]"
   ]
  },
  {
   "cell_type": "code",
   "execution_count": 22,
   "id": "7c7b78fa",
   "metadata": {},
   "outputs": [
    {
     "name": "stdout",
     "output_type": "stream",
     "text": [
      "Y\n",
      "o\n",
      "o\n",
      "n\n",
      "j\n",
      "u\n",
      "n\n",
      " \n",
      "C\n",
      "h\n",
      "a\n",
      "n\n",
      "g\n"
     ]
    }
   ],
   "source": [
    "i = 0\n",
    "while i < len(my_name):\n",
    "    print(my_name[i])\n",
    "    i+=1    "
   ]
  },
  {
   "cell_type": "code",
   "execution_count": 23,
   "id": "058f7147",
   "metadata": {},
   "outputs": [
    {
     "name": "stdout",
     "output_type": "stream",
     "text": [
      "Y\n",
      "o\n",
      "o\n",
      "n\n",
      "j\n",
      "u\n",
      "n\n",
      " \n",
      "C\n",
      "h\n",
      "a\n",
      "n\n",
      "g\n"
     ]
    }
   ],
   "source": [
    "for i in my_name:\n",
    "    print(i)"
   ]
  },
  {
   "cell_type": "code",
   "execution_count": 7,
   "id": "e106cb73",
   "metadata": {},
   "outputs": [
    {
     "name": "stdout",
     "output_type": "stream",
     "text": [
      "n C\n"
     ]
    }
   ],
   "source": [
    "straddle = my_name[6:9]\n",
    "print(straddle)"
   ]
  },
  {
   "cell_type": "code",
   "execution_count": 98,
   "id": "d756fd75",
   "metadata": {},
   "outputs": [
    {
     "name": "stdout",
     "output_type": "stream",
     "text": [
      "Yoonjun\n",
      "Chang\n"
     ]
    }
   ],
   "source": [
    "my_name = \"Yoonjun Chang\"\n",
    "blank_pos = my_name.find(\" \")\n",
    "\n",
    "first_name = my_name[:7]\n",
    "last_name = my_name[8:]\n",
    "\n",
    "print(first_name)\n",
    "print(last_name)"
   ]
  },
  {
   "cell_type": "code",
   "execution_count": 25,
   "id": "b000ce51",
   "metadata": {},
   "outputs": [
    {
     "data": {
      "text/plain": [
       "True"
      ]
     },
     "execution_count": 25,
     "metadata": {},
     "output_type": "execute_result"
    }
   ],
   "source": [
    "my_name = \"Yoonjun Chang\"\n",
    "blank_pos = 7\n",
    "blank_pos_2 = my_name.find(' ')\n",
    "blank_pos == blank_pos_2\n"
   ]
  },
  {
   "cell_type": "code",
   "execution_count": 8,
   "id": "c751416b",
   "metadata": {},
   "outputs": [
    {
     "name": "stdout",
     "output_type": "stream",
     "text": [
      "Yoonjun chang\n",
      "YOONJUN CHANG\n"
     ]
    }
   ],
   "source": [
    "lower_name = my_name.lower()\n",
    "cap_name = lower_name.capitalize()\n",
    "upper_name = lower_name.upper()\n",
    "\n",
    "print(cap_name)\n",
    "print(upper_name)"
   ]
  },
  {
   "cell_type": "code",
   "execution_count": 21,
   "id": "bdc2661d",
   "metadata": {},
   "outputs": [
    {
     "data": {
      "text/plain": [
       "False"
      ]
     },
     "execution_count": 21,
     "metadata": {},
     "output_type": "execute_result"
    }
   ],
   "source": [
    "def check(name):\n",
    "    return name[-3:] == \"sen\" or name[-3:] == \"son\" #string.endswith(\"text\")\n",
    "\n",
    "check(\"Smith\")    "
   ]
  },
  {
   "cell_type": "code",
   "execution_count": 1,
   "id": "4c12f81a",
   "metadata": {},
   "outputs": [
    {
     "name": "stdout",
     "output_type": "stream",
     "text": [
      "Abc\n"
     ]
    }
   ],
   "source": [
    "s= \"abc\"\n",
    "s = \"A\" + s[1:]\n",
    "print(s)"
   ]
  },
  {
   "cell_type": "code",
   "execution_count": 6,
   "id": "5c0c72a9",
   "metadata": {},
   "outputs": [
    {
     "name": "stdout",
     "output_type": "stream",
     "text": [
      "Ueia\n"
     ]
    }
   ],
   "source": [
    "vowel = \"aeiouAEIOU\"\n",
    "temp = \"Use this fact\"\n",
    "\n",
    "new_string = \"\"\n",
    "\n",
    "for i in temp:\n",
    "    if i in vowel:\n",
    "        new_string+=i\n",
    "        \n",
    "print(new_string)"
   ]
  },
  {
   "cell_type": "code",
   "execution_count": 8,
   "id": "daea3057",
   "metadata": {},
   "outputs": [
    {
     "name": "stdout",
     "output_type": "stream",
     "text": [
      "Enter a filename: file.py\n",
      "py\n"
     ]
    }
   ],
   "source": [
    "file = input(\"Enter a filename: \")\n",
    "\n",
    "pos = file.find('.')\n",
    "fileName = file[pos+1:]\n",
    "\n",
    "print(fileName)"
   ]
  },
  {
   "cell_type": "code",
   "execution_count": 6,
   "id": "55a515d2",
   "metadata": {},
   "outputs": [
    {
     "name": "stdout",
     "output_type": "stream",
     "text": [
      "['Alaska', 'Washington', 'Oregon', 'California']\n"
     ]
    }
   ],
   "source": [
    "west_coast = ['Alaska','Washington','Oregon','California']\n",
    "print(west_coast)"
   ]
  },
  {
   "cell_type": "code",
   "execution_count": 7,
   "id": "17dcd701",
   "metadata": {},
   "outputs": [
    {
     "name": "stdout",
     "output_type": "stream",
     "text": [
      "Alaska\n",
      "Washington\n",
      "Oregon\n",
      "California\n"
     ]
    }
   ],
   "source": [
    "for state in west_coast:\n",
    "    print(state)"
   ]
  },
  {
   "cell_type": "code",
   "execution_count": 8,
   "id": "3dd87cab",
   "metadata": {},
   "outputs": [
    {
     "name": "stdout",
     "output_type": "stream",
     "text": [
      "Washington\n"
     ]
    }
   ],
   "source": [
    "print(west_coast[1])"
   ]
  },
  {
   "cell_type": "code",
   "execution_count": 10,
   "id": "78caecde",
   "metadata": {},
   "outputs": [
    {
     "name": "stdout",
     "output_type": "stream",
     "text": [
      "4\n"
     ]
    }
   ],
   "source": [
    "print(len(west_coast))"
   ]
  },
  {
   "cell_type": "code",
   "execution_count": 14,
   "id": "d500babd",
   "metadata": {},
   "outputs": [
    {
     "name": "stdout",
     "output_type": "stream",
     "text": [
      "range(0, 4)\n",
      "4\n",
      "<class 'range'>\n"
     ]
    }
   ],
   "source": [
    "print(range(4))\n",
    "print(len(range(4)))\n",
    "print(type(range(4)))"
   ]
  },
  {
   "cell_type": "code",
   "execution_count": 15,
   "id": "5404f078",
   "metadata": {},
   "outputs": [
    {
     "name": "stdout",
     "output_type": "stream",
     "text": [
      "['Alaska', 'Washington', 'Oregon', 'California', 'Florida', 'Georgia', 'South Carolina']\n"
     ]
    }
   ],
   "source": [
    "opposite_corner = ['Florida','Georgia','South Carolina']\n",
    "corners = west_coast + opposite_corner\n",
    "print(corners)"
   ]
  },
  {
   "cell_type": "code",
   "execution_count": 16,
   "id": "2d7ec36c",
   "metadata": {},
   "outputs": [
    {
     "name": "stdout",
     "output_type": "stream",
     "text": [
      "['Alaska', 'Washington', 'Oregon', 'California', 'Florida', 'Georgia', 'South Carolina', 'North Carolina']\n"
     ]
    }
   ],
   "source": [
    "corners.append('North Carolina')\n",
    "print(corners)"
   ]
  },
  {
   "cell_type": "code",
   "execution_count": 17,
   "id": "85196f5f",
   "metadata": {},
   "outputs": [
    {
     "name": "stdout",
     "output_type": "stream",
     "text": [
      "['Alaska', 'Washington', 'Oregon', 'California', 'Alabama', 'Florida', 'Georgia', 'South Carolina', 'North Carolina']\n"
     ]
    }
   ],
   "source": [
    "corners.insert(4,'Alabama')\n",
    "print(corners)"
   ]
  },
  {
   "cell_type": "code",
   "execution_count": 22,
   "id": "16fafdc3",
   "metadata": {},
   "outputs": [
    {
     "name": "stdout",
     "output_type": "stream",
     "text": [
      "True True True\n",
      "True True False\n",
      "True False True\n",
      "True False False\n",
      "False True True\n",
      "False True False\n",
      "False False True\n",
      "False False False\n"
     ]
    }
   ],
   "source": [
    "bool_values = [True,False]\n",
    "\n",
    "for p in bool_values:\n",
    "    for q in bool_values:\n",
    "        for r in bool_values:\n",
    "            print(p,q,r)"
   ]
  },
  {
   "cell_type": "code",
   "execution_count": 61,
   "id": "70403e2f",
   "metadata": {},
   "outputs": [
    {
     "name": "stdout",
     "output_type": "stream",
     "text": [
      "[89, 76, 63, 0, 15, 71, 69, 29, 43, 28, 6, 52, 11, 13, 100, 74, 19, 12, 1, 16]\n"
     ]
    }
   ],
   "source": [
    "import random\n",
    "randlist = list()\n",
    "\n",
    "for i in range(20):\n",
    "    randlist.append(random.randint(0,100))\n",
    "\n",
    "print(randlist)"
   ]
  },
  {
   "cell_type": "code",
   "execution_count": 62,
   "id": "017a2d99",
   "metadata": {},
   "outputs": [
    {
     "name": "stdout",
     "output_type": "stream",
     "text": [
      "[0, 1, 6, 11, 12, 13, 15, 16, 19, 28, 29, 43, 52, 63, 69, 71, 74, 76, 89, 100]\n"
     ]
    }
   ],
   "source": [
    "randlist.sort()\n",
    "print(randlist)"
   ]
  },
  {
   "cell_type": "code",
   "execution_count": 63,
   "id": "b6d33b45",
   "metadata": {},
   "outputs": [
    {
     "name": "stdout",
     "output_type": "stream",
     "text": [
      "None\n"
     ]
    }
   ],
   "source": [
    "sorted_list = randlist.sort()\n",
    "print(sorted_list)"
   ]
  },
  {
   "cell_type": "code",
   "execution_count": 67,
   "id": "385a0012",
   "metadata": {},
   "outputs": [
    {
     "name": "stdout",
     "output_type": "stream",
     "text": [
      "None\n",
      "[0, 1, 6, 11, 12, 13, 15, 16, 19, 28, 29, 43, 52, 63, 69, 71, 74, 76, 89, 100, 1, 1, 1]\n"
     ]
    }
   ],
   "source": [
    "appended_list = randlist.append(1)\n",
    "print(appended_list)\n",
    "print(randlist)"
   ]
  },
  {
   "cell_type": "code",
   "execution_count": 65,
   "id": "c7eedbf1",
   "metadata": {},
   "outputs": [],
   "source": [
    "#sort and append functions are void functions\n",
    "#if you do append right side of statement"
   ]
  },
  {
   "cell_type": "code",
   "execution_count": 17,
   "id": "e7d38551",
   "metadata": {},
   "outputs": [
    {
     "data": {
      "text/plain": [
       "4"
      ]
     },
     "execution_count": 17,
     "metadata": {},
     "output_type": "execute_result"
    }
   ],
   "source": [
    "list = [1,2,2,3,2,4]\n",
    "var = 2\n",
    "\n",
    "def how_many_a_in_li(a,li):\n",
    "    count = 0\n",
    "    for i in li:\n",
    "        if i == a:\n",
    "            count += 1\n",
    "    return count\n",
    "\n",
    "how_many_a_in_li('a','Mary had a little lamb')"
   ]
  },
  {
   "cell_type": "code",
   "execution_count": 27,
   "id": "687cd888",
   "metadata": {},
   "outputs": [
    {
     "name": "stdout",
     "output_type": "stream",
     "text": [
      "[1, 2, 3, 4, 5, 6]\n",
      "[1, 2, 3, [4, 5, 6]]\n"
     ]
    }
   ],
   "source": [
    "list1 = [1,2,3]\n",
    "list2 = [4,5,6]\n",
    "\n",
    "list3 = list1+list2\n",
    "print(list3)\n",
    "\n",
    "list1.append(list2)\n",
    "print(list1)\n"
   ]
  },
  {
   "cell_type": "code",
   "execution_count": 18,
   "id": "f2ed321c",
   "metadata": {},
   "outputs": [
    {
     "name": "stdout",
     "output_type": "stream",
     "text": [
      "[1, 2, 3, 4, 5]\n"
     ]
    }
   ],
   "source": [
    "list = [1,2,3,3,4,1,5,5,5]\n",
    "def undup(l):\n",
    "    index = l[0]\n",
    "    new_list = []\n",
    "    for i in l:\n",
    "        if i == index:\n",
    "            continue\n",
    "        else:\n",
    "            new_list.append(i)\n",
    "            index = i\n",
    "    return new_list\n",
    "\n",
    "print(sorted(undup(list)))"
   ]
  },
  {
   "cell_type": "code",
   "execution_count": 5,
   "id": "25888597",
   "metadata": {},
   "outputs": [
    {
     "data": {
      "text/plain": [
       "['y', 'o', 'u']"
      ]
     },
     "execution_count": 5,
     "metadata": {},
     "output_type": "execute_result"
    }
   ],
   "source": [
    "list = \"yyyooouu\"\n",
    "\n",
    "def undup(l):\n",
    "    final = []\n",
    "    for i in l:\n",
    "        if i not in final:\n",
    "            final.append(i)\n",
    "    return final\n",
    "\n",
    "undup(list)"
   ]
  },
  {
   "cell_type": "code",
   "execution_count": null,
   "id": "7ae61d28",
   "metadata": {},
   "outputs": [],
   "source": [
    "list = [1,2,3,4,5]\n",
    "\n",
    "def numres(nl):\n",
    "    sum = 0\n",
    "    for i in nl:\n",
    "        sum += i\n",
    "    return [len(nl),sum,sum/len(nl)]\n",
    "\n",
    "print(numres(list)) "
   ]
  },
  {
   "cell_type": "code",
   "execution_count": 12,
   "id": "f11231eb",
   "metadata": {
    "scrolled": true
   },
   "outputs": [
    {
     "name": "stdout",
     "output_type": "stream",
     "text": [
      "[1, ['a', 'b', ['x', 'y']]]\n"
     ]
    }
   ],
   "source": [
    "xlist = [1,[\"a\",\"b\",[\"x\",\"y\"]]]\n",
    "print(xlist)"
   ]
  },
  {
   "cell_type": "code",
   "execution_count": 15,
   "id": "7318a938",
   "metadata": {},
   "outputs": [
    {
     "name": "stdout",
     "output_type": "stream",
     "text": [
      "1\n"
     ]
    }
   ],
   "source": [
    "print(xlist[0])"
   ]
  },
  {
   "cell_type": "code",
   "execution_count": 16,
   "id": "deb3d69d",
   "metadata": {},
   "outputs": [
    {
     "name": "stdout",
     "output_type": "stream",
     "text": [
      "b\n"
     ]
    }
   ],
   "source": [
    "print(xlist[1][1])"
   ]
  },
  {
   "cell_type": "code",
   "execution_count": 22,
   "id": "64a66590",
   "metadata": {},
   "outputs": [
    {
     "name": "stdout",
     "output_type": "stream",
     "text": [
      "y\n"
     ]
    }
   ],
   "source": [
    "print(xlist[1][2][1])"
   ]
  },
  {
   "cell_type": "code",
   "execution_count": 5,
   "id": "b1877732",
   "metadata": {},
   "outputs": [
    {
     "name": "stdout",
     "output_type": "stream",
     "text": [
      "3 1 2\n"
     ]
    }
   ],
   "source": [
    "a=1\n",
    "b=2\n",
    "c=3\n",
    "a,b,c = c,a,b\n",
    "print(a,b,c)"
   ]
  },
  {
   "cell_type": "code",
   "execution_count": null,
   "id": "f11e05e4",
   "metadata": {},
   "outputs": [],
   "source": []
  }
 ],
 "metadata": {
  "kernelspec": {
   "display_name": "Python 3 (ipykernel)",
   "language": "python",
   "name": "python3"
  },
  "language_info": {
   "codemirror_mode": {
    "name": "ipython",
    "version": 3
   },
   "file_extension": ".py",
   "mimetype": "text/x-python",
   "name": "python",
   "nbconvert_exporter": "python",
   "pygments_lexer": "ipython3",
   "version": "3.9.12"
  }
 },
 "nbformat": 4,
 "nbformat_minor": 5
}
