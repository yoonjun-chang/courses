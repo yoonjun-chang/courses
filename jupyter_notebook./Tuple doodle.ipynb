{
 "cells": [
  {
   "cell_type": "code",
   "execution_count": 1,
   "id": "4e358cc9",
   "metadata": {},
   "outputs": [
    {
     "name": "stdout",
     "output_type": "stream",
     "text": [
      "('a', 'b', 'c') <class 'tuple'>\n",
      "('a', 'b', 'c') <class 'tuple'>\n"
     ]
    }
   ],
   "source": [
    "tup1 = 'a','b','c'\n",
    "tup2 = ('a','b','c')\n",
    "\n",
    "print(tup1,type(tup1))\n",
    "print(tup2,type(tup2))"
   ]
  },
  {
   "cell_type": "code",
   "execution_count": 2,
   "id": "a482b9aa",
   "metadata": {},
   "outputs": [
    {
     "name": "stdout",
     "output_type": "stream",
     "text": [
      "a\n",
      "('a', 'b')\n"
     ]
    }
   ],
   "source": [
    "print(tup1[0])\n",
    "print(tup1[:2])"
   ]
  },
  {
   "cell_type": "code",
   "execution_count": 3,
   "id": "5777d258",
   "metadata": {},
   "outputs": [
    {
     "name": "stdout",
     "output_type": "stream",
     "text": [
      "('a', 'b', 'c', 1, 2, 3)\n",
      "('a', 'b', 'c', 'a', 'b', 'c')\n",
      "('a', 'b', 'c', 1, 2, 3, 'a', 'b', 'c', 1, 2, 3)\n"
     ]
    }
   ],
   "source": [
    "tup3 = (1,2,3)\n",
    "\n",
    "print(tup1 + tup3)\n",
    "print(tup1*2)\n",
    "print((tup1+tup3)*2)"
   ]
  },
  {
   "cell_type": "code",
   "execution_count": 4,
   "id": "1b2582a8",
   "metadata": {},
   "outputs": [
    {
     "ename": "TypeError",
     "evalue": "'tuple' object does not support item assignment",
     "output_type": "error",
     "traceback": [
      "\u001b[1;31m---------------------------------------------------------------------------\u001b[0m",
      "\u001b[1;31mTypeError\u001b[0m                                 Traceback (most recent call last)",
      "Input \u001b[1;32mIn [4]\u001b[0m, in \u001b[0;36m<cell line: 1>\u001b[1;34m()\u001b[0m\n\u001b[1;32m----> 1\u001b[0m \u001b[43mtup1\u001b[49m\u001b[43m[\u001b[49m\u001b[38;5;241;43m0\u001b[39;49m\u001b[43m]\u001b[49m \u001b[38;5;241m=\u001b[39m \u001b[38;5;124m'\u001b[39m\u001b[38;5;124me\u001b[39m\u001b[38;5;124m'\u001b[39m\n\u001b[0;32m      2\u001b[0m \u001b[38;5;28mprint\u001b[39m(tup1[\u001b[38;5;241m0\u001b[39m])\n",
      "\u001b[1;31mTypeError\u001b[0m: 'tuple' object does not support item assignment"
     ]
    }
   ],
   "source": [
    "tup1[0] = 'e'\n",
    "print(tup1[0])"
   ]
  },
  {
   "cell_type": "code",
   "execution_count": 5,
   "id": "74215c87",
   "metadata": {},
   "outputs": [
    {
     "name": "stdout",
     "output_type": "stream",
     "text": [
      "('a', [1, 2, 3], 'b', 'c')\n",
      "('a', ['d', 2, 3], 'b', 'c')\n"
     ]
    }
   ],
   "source": [
    "tup4 = ('a',[1,2,3],'b','c')\n",
    "print(tup4)\n",
    "\n",
    "tup4[1][0] = 'd'\n",
    "print(tup4)"
   ]
  },
  {
   "cell_type": "code",
   "execution_count": 6,
   "id": "4ce03e47",
   "metadata": {},
   "outputs": [
    {
     "name": "stdout",
     "output_type": "stream",
     "text": [
      "<class 'tuple'>\n",
      "<class 'list'>\n",
      "<class 'tuple'>\n"
     ]
    }
   ],
   "source": [
    "print(type(tup4))\n",
    "tup4 = list(tup4)\n",
    "print(type(tup4))\n",
    "tup4 = tuple(tup4)\n",
    "print(type(tup4))"
   ]
  },
  {
   "cell_type": "code",
   "execution_count": 7,
   "id": "b3fe5deb",
   "metadata": {},
   "outputs": [
    {
     "name": "stdout",
     "output_type": "stream",
     "text": [
      "(4, 5, 11, 12)\n"
     ]
    }
   ],
   "source": [
    "ta = (5,4,12,11)\n",
    "\n",
    "def tsort(t):\n",
    "    t = list(t)\n",
    "    t.sort()\n",
    "    t = tuple(t)\n",
    "    return t\n",
    "\n",
    "print(tsort(ta))    "
   ]
  },
  {
   "cell_type": "code",
   "execution_count": 8,
   "id": "4c8418b6",
   "metadata": {},
   "outputs": [
    {
     "name": "stdout",
     "output_type": "stream",
     "text": [
      "('a', 'b', 'c')\n",
      "a b c\n"
     ]
    }
   ],
   "source": [
    "print(tup1)\n",
    "var1,var2,var3 = tup1\n",
    "print(var1,var2,var3)"
   ]
  },
  {
   "cell_type": "code",
   "execution_count": 9,
   "id": "22bce6a8",
   "metadata": {},
   "outputs": [
    {
     "name": "stdout",
     "output_type": "stream",
     "text": [
      "False\n",
      "False\n",
      "True\n"
     ]
    }
   ],
   "source": [
    "ta = (1,2,30000)\n",
    "tb = (1,3,0)\n",
    "\n",
    "print(ta == tb)\n",
    "print(ta > tb)\n",
    "print(ta < tb)"
   ]
  },
  {
   "cell_type": "code",
   "execution_count": null,
   "id": "580f4282",
   "metadata": {},
   "outputs": [],
   "source": []
  }
 ],
 "metadata": {
  "kernelspec": {
   "display_name": "Python 3 (ipykernel)",
   "language": "python",
   "name": "python3"
  },
  "language_info": {
   "codemirror_mode": {
    "name": "ipython",
    "version": 3
   },
   "file_extension": ".py",
   "mimetype": "text/x-python",
   "name": "python",
   "nbconvert_exporter": "python",
   "pygments_lexer": "ipython3",
   "version": "3.10.6"
  }
 },
 "nbformat": 4,
 "nbformat_minor": 5
}
