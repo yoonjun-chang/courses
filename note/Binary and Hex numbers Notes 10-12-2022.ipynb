{
 "cells": [
  {
   "cell_type": "code",
   "execution_count": 11,
   "id": "3601362f",
   "metadata": {},
   "outputs": [
    {
     "data": {
      "text/plain": [
       "'0x23'"
      ]
     },
     "execution_count": 11,
     "metadata": {},
     "output_type": "execute_result"
    }
   ],
   "source": [
    "hex(35) #base of 16"
   ]
  },
  {
   "cell_type": "code",
   "execution_count": 12,
   "id": "10acecac",
   "metadata": {},
   "outputs": [
    {
     "data": {
      "text/plain": [
       "'0b100011'"
      ]
     },
     "execution_count": 12,
     "metadata": {},
     "output_type": "execute_result"
    }
   ],
   "source": [
    "bin(35) #base of 2"
   ]
  },
  {
   "cell_type": "code",
   "execution_count": 13,
   "id": "9e18afcb",
   "metadata": {},
   "outputs": [
    {
     "data": {
      "text/plain": [
       "'0xff'"
      ]
     },
     "execution_count": 13,
     "metadata": {},
     "output_type": "execute_result"
    }
   ],
   "source": [
    "hex(255) #binary 1111 1111 "
   ]
  },
  {
   "cell_type": "code",
   "execution_count": 14,
   "id": "9d032f90",
   "metadata": {},
   "outputs": [
    {
     "name": "stdout",
     "output_type": "stream",
     "text": [
      "0b11110011 0xf3\n"
     ]
    }
   ],
   "source": [
    "print(bin(243), hex(243))"
   ]
  },
  {
   "cell_type": "code",
   "execution_count": 21,
   "id": "c241b2ed",
   "metadata": {},
   "outputs": [
    {
     "name": "stdout",
     "output_type": "stream",
     "text": [
      "413 0x19d\n"
     ]
    }
   ],
   "source": [
    "print(int('110011101',2),hex(int('110011101',2))) #hex->int converstion #1"
   ]
  },
  {
   "cell_type": "code",
   "execution_count": 22,
   "id": "3a4fb132",
   "metadata": {},
   "outputs": [
    {
     "data": {
      "text/plain": [
       "'0x19d'"
      ]
     },
     "execution_count": 22,
     "metadata": {},
     "output_type": "execute_result"
    }
   ],
   "source": [
    "hex(0b110011101) #hex->int converstion #2"
   ]
  },
  {
   "cell_type": "code",
   "execution_count": 23,
   "id": "e7ead7a4",
   "metadata": {},
   "outputs": [
    {
     "name": "stdout",
     "output_type": "stream",
     "text": [
      "413\n"
     ]
    }
   ],
   "source": [
    "print(0x19d) #print always prints decimal value"
   ]
  },
  {
   "cell_type": "code",
   "execution_count": 31,
   "id": "e9b1dc41",
   "metadata": {},
   "outputs": [
    {
     "name": "stdout",
     "output_type": "stream",
     "text": [
      "2812\n"
     ]
    }
   ],
   "source": [
    "print(0xafc)"
   ]
  },
  {
   "cell_type": "code",
   "execution_count": 32,
   "id": "bb05029a",
   "metadata": {},
   "outputs": [
    {
     "data": {
      "text/plain": [
       "2812"
      ]
     },
     "execution_count": 32,
     "metadata": {},
     "output_type": "execute_result"
    }
   ],
   "source": [
    "int('afc',16)"
   ]
  },
  {
   "cell_type": "code",
   "execution_count": 33,
   "id": "49972e01",
   "metadata": {},
   "outputs": [
    {
     "data": {
      "text/plain": [
       "2812"
      ]
     },
     "execution_count": 33,
     "metadata": {},
     "output_type": "execute_result"
    }
   ],
   "source": [
    "int(0xafc)"
   ]
  },
  {
   "cell_type": "code",
   "execution_count": 34,
   "id": "965413f8",
   "metadata": {},
   "outputs": [
    {
     "data": {
      "text/plain": [
       "'0b101011111100'"
      ]
     },
     "execution_count": 34,
     "metadata": {},
     "output_type": "execute_result"
    }
   ],
   "source": [
    "(bin(0xafc)) #1010 1111 1100\n",
    "             #10    15   12"
   ]
  },
  {
   "cell_type": "code",
   "execution_count": 35,
   "id": "3cbe01c0",
   "metadata": {},
   "outputs": [
    {
     "data": {
      "text/plain": [
       "'A'"
      ]
     },
     "execution_count": 35,
     "metadata": {},
     "output_type": "execute_result"
    }
   ],
   "source": [
    "chr(65)"
   ]
  },
  {
   "cell_type": "code",
   "execution_count": 38,
   "id": "9c487c55",
   "metadata": {},
   "outputs": [
    {
     "data": {
      "text/plain": [
       "'A'"
      ]
     },
     "execution_count": 38,
     "metadata": {},
     "output_type": "execute_result"
    }
   ],
   "source": [
    "chr(0x41)"
   ]
  },
  {
   "cell_type": "code",
   "execution_count": 39,
   "id": "a06126d4",
   "metadata": {},
   "outputs": [
    {
     "data": {
      "text/plain": [
       "65"
      ]
     },
     "execution_count": 39,
     "metadata": {},
     "output_type": "execute_result"
    }
   ],
   "source": [
    "ord('A')"
   ]
  },
  {
   "cell_type": "code",
   "execution_count": 49,
   "id": "9299653a",
   "metadata": {},
   "outputs": [
    {
     "name": "stdout",
     "output_type": "stream",
     "text": [
      "H 72 0x48\n",
      "e 101 0x65\n",
      "l 108 0x6c\n",
      "l 108 0x6c\n",
      "o 111 0x6f\n",
      ", 44 0x2c\n",
      "  32 0x20\n",
      "w 119 0x77\n",
      "o 111 0x6f\n",
      "r 114 0x72\n",
      "l 108 0x6c\n",
      "d 100 0x64\n"
     ]
    }
   ],
   "source": [
    "s = \"Hello, world\"\n",
    "for c in s:\n",
    "    print(c, int(ord(c)), hex(ord(c)))"
   ]
  },
  {
   "cell_type": "code",
   "execution_count": 57,
   "id": "2599eefd",
   "metadata": {},
   "outputs": [
    {
     "data": {
      "text/plain": [
       "'😭'"
      ]
     },
     "execution_count": 57,
     "metadata": {},
     "output_type": "execute_result"
    }
   ],
   "source": [
    "chr(0x1f62d)"
   ]
  },
  {
   "cell_type": "code",
   "execution_count": 58,
   "id": "80372ef7",
   "metadata": {},
   "outputs": [
    {
     "data": {
      "text/plain": [
       "128557"
      ]
     },
     "execution_count": 58,
     "metadata": {},
     "output_type": "execute_result"
    }
   ],
   "source": [
    "ord('😭')"
   ]
  },
  {
   "cell_type": "code",
   "execution_count": 60,
   "id": "c6c3276a",
   "metadata": {
    "scrolled": true
   },
   "outputs": [
    {
     "data": {
      "text/plain": [
       "'0x1f62d'"
      ]
     },
     "execution_count": 60,
     "metadata": {},
     "output_type": "execute_result"
    }
   ],
   "source": [
    "hex(128557)"
   ]
  },
  {
   "cell_type": "code",
   "execution_count": 62,
   "id": "ecaf34e9",
   "metadata": {},
   "outputs": [
    {
     "name": "stdout",
     "output_type": "stream",
     "text": [
      "보 48372 0xbcf4\n",
      "낸 45240 0xb0b8\n",
      "  32 0x20\n",
      "사 49324 0xc0ac\n",
      "람 46988 0xb78c\n"
     ]
    }
   ],
   "source": [
    "h = \"보낸 사람\"\n",
    "\n",
    "for c in h:\n",
    "    print(c, int(ord(c)), hex(ord(c)))"
   ]
  },
  {
   "cell_type": "code",
   "execution_count": 63,
   "id": "5dca3d0b",
   "metadata": {},
   "outputs": [],
   "source": [
    "import unicodedata"
   ]
  },
  {
   "cell_type": "code",
   "execution_count": 64,
   "id": "13465c72",
   "metadata": {},
   "outputs": [
    {
     "data": {
      "text/plain": [
       "'HANGUL SYLLABLE BO'"
      ]
     },
     "execution_count": 64,
     "metadata": {},
     "output_type": "execute_result"
    }
   ],
   "source": [
    "unicodedata.name('보')"
   ]
  },
  {
   "cell_type": "code",
   "execution_count": 65,
   "id": "cb3043d1",
   "metadata": {},
   "outputs": [
    {
     "name": "stdout",
     "output_type": "stream",
     "text": [
      "HANGUL SYLLABLE BO\n",
      "HANGUL SYLLABLE NAEN\n",
      "SPACE\n",
      "HANGUL SYLLABLE SA\n",
      "HANGUL SYLLABLE RAM\n"
     ]
    }
   ],
   "source": [
    "for c in h:\n",
    "    print(unicodedata.name(c))"
   ]
  },
  {
   "cell_type": "code",
   "execution_count": 73,
   "id": "e2d49eb4",
   "metadata": {},
   "outputs": [
    {
     "name": "stdout",
     "output_type": "stream",
     "text": [
      "黄 40644 0x9ec4\n",
      "湘 28248 0x6e58\n",
      "云 20113 0x4e91\n",
      "黄 CJK UNIFIED IDEOGRAPH-9EC4\n",
      "湘 CJK UNIFIED IDEOGRAPH-6E58\n",
      "云 CJK UNIFIED IDEOGRAPH-4E91\n"
     ]
    }
   ],
   "source": [
    "c = \"黄湘云\"\n",
    "\n",
    "for s in c:\n",
    "    print(s, int(ord(s)), hex(ord(s)))\n",
    "\n",
    "for s in c:\n",
    "    print(s,unicodedata.name(s))"
   ]
  },
  {
   "cell_type": "code",
   "execution_count": 72,
   "id": "ddbda0c5",
   "metadata": {},
   "outputs": [
    {
     "name": "stdout",
     "output_type": "stream",
     "text": [
      "マ 12510 0x30de\n",
      "ク 12463 0x30af\n",
      "ド 12489 0x30c9\n",
      "ナ 12490 0x30ca\n",
      "ル 12523 0x30eb\n",
      "ド 12489 0x30c9\n",
      "マ KATAKANA LETTER MA\n",
      "ク KATAKANA LETTER KU\n",
      "ド KATAKANA LETTER DO\n",
      "ナ KATAKANA LETTER NA\n",
      "ル KATAKANA LETTER RU\n",
      "ド KATAKANA LETTER DO\n"
     ]
    }
   ],
   "source": [
    "m = \"マクドナルド\"\n",
    "\n",
    "for s in m:\n",
    "    print(s, int(ord(s)), hex(ord(s)))\n",
    "\n",
    "for s in m:\n",
    "    print(s,unicodedata.name(s))"
   ]
  },
  {
   "cell_type": "code",
   "execution_count": 74,
   "id": "33a66b4b",
   "metadata": {},
   "outputs": [],
   "source": [
    "intab = \"aeiou\"\n",
    "outtab = \"12345\"\n",
    "trantab = str.maketrans(intab,outtab)"
   ]
  },
  {
   "cell_type": "code",
   "execution_count": 75,
   "id": "0d6bd863",
   "metadata": {},
   "outputs": [
    {
     "name": "stdout",
     "output_type": "stream",
     "text": [
      "{97: 49, 101: 50, 105: 51, 111: 52, 117: 53}\n"
     ]
    }
   ],
   "source": [
    "print(trantab)"
   ]
  },
  {
   "cell_type": "code",
   "execution_count": 76,
   "id": "ae59fb38",
   "metadata": {},
   "outputs": [
    {
     "name": "stdout",
     "output_type": "stream",
     "text": [
      "Th3s 3s 1 str3ng w3th v4w2ls\n"
     ]
    }
   ],
   "source": [
    "s = \"This is a string with vowels\"\n",
    "s2 = s.translate(trantab)\n",
    "print(s2)"
   ]
  },
  {
   "cell_type": "code",
   "execution_count": 78,
   "id": "6faa8b91",
   "metadata": {},
   "outputs": [
    {
     "name": "stdout",
     "output_type": "stream",
     "text": [
      "Th3s 3s 1 str3ng w3th v4w2ls\n"
     ]
    }
   ],
   "source": [
    "tt = {0x61:0x31, 0x65:0x32, 0x69:0x33, 0x6F:0x34, 0x75:0x35}\n",
    "s3 = s.translate(tt)\n",
    "print(s3)"
   ]
  },
  {
   "cell_type": "code",
   "execution_count": null,
   "id": "8f59e083",
   "metadata": {},
   "outputs": [],
   "source": []
  }
 ],
 "metadata": {
  "kernelspec": {
   "display_name": "Python 3 (ipykernel)",
   "language": "python",
   "name": "python3"
  },
  "language_info": {
   "codemirror_mode": {
    "name": "ipython",
    "version": 3
   },
   "file_extension": ".py",
   "mimetype": "text/x-python",
   "name": "python",
   "nbconvert_exporter": "python",
   "pygments_lexer": "ipython3",
   "version": "3.10.6"
  }
 },
 "nbformat": 4,
 "nbformat_minor": 5
}
