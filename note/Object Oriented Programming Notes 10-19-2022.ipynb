{
 "cells": [
  {
   "cell_type": "code",
   "execution_count": 1,
   "id": "945c9341",
   "metadata": {},
   "outputs": [],
   "source": [
    "class counter:    \n",
    "    def __init__(self):\n",
    "        self.x = 0\n",
    "        \n",
    "    def increment(self):\n",
    "        self.x += 1\n",
    "    \n",
    "    def decrement(self):\n",
    "        self.x -= 1\n",
    "    \n",
    "    def get(self):\n",
    "        print(\"Current value:\",self.x)       "
   ]
  },
  {
   "cell_type": "code",
   "execution_count": 2,
   "id": "8dce4f30",
   "metadata": {},
   "outputs": [
    {
     "name": "stdout",
     "output_type": "stream",
     "text": [
      "Current value: 0\n"
     ]
    }
   ],
   "source": [
    "joe = counter()\n",
    "joe.get()"
   ]
  },
  {
   "cell_type": "code",
   "execution_count": 3,
   "id": "3b20f86b",
   "metadata": {},
   "outputs": [
    {
     "name": "stdout",
     "output_type": "stream",
     "text": [
      "Current value: 1\n"
     ]
    }
   ],
   "source": [
    "joe.increment()\n",
    "joe.get()"
   ]
  },
  {
   "cell_type": "code",
   "execution_count": 4,
   "id": "b5654484",
   "metadata": {},
   "outputs": [
    {
     "name": "stdout",
     "output_type": "stream",
     "text": [
      "Current value: 26\n"
     ]
    }
   ],
   "source": [
    "for i in range(25):\n",
    "    joe.increment()\n",
    "joe.get()"
   ]
  },
  {
   "cell_type": "code",
   "execution_count": 5,
   "id": "dc79f6ac",
   "metadata": {},
   "outputs": [
    {
     "name": "stdout",
     "output_type": "stream",
     "text": [
      "Current value: 25\n"
     ]
    }
   ],
   "source": [
    "joe.decrement()\n",
    "joe.get()"
   ]
  },
  {
   "cell_type": "code",
   "execution_count": 7,
   "id": "c4b3e008",
   "metadata": {},
   "outputs": [],
   "source": [
    "#subclass\n",
    "class loud_counter(counter):\n",
    "    def get(self):\n",
    "        print(\"CURRENT VALUE:\",self.x)"
   ]
  },
  {
   "cell_type": "code",
   "execution_count": 8,
   "id": "7af0f476",
   "metadata": {},
   "outputs": [
    {
     "name": "stdout",
     "output_type": "stream",
     "text": [
      "CURRENT VALUE: 0\n"
     ]
    }
   ],
   "source": [
    "jane = loud_counter()\n",
    "jane.get()"
   ]
  },
  {
   "cell_type": "code",
   "execution_count": 10,
   "id": "39cf0150",
   "metadata": {},
   "outputs": [
    {
     "name": "stdout",
     "output_type": "stream",
     "text": [
      "CURRENT VALUE: 2\n"
     ]
    }
   ],
   "source": [
    "jane.increment()\n",
    "jane.get()"
   ]
  },
  {
   "cell_type": "code",
   "execution_count": 11,
   "id": "9d813272",
   "metadata": {},
   "outputs": [
    {
     "name": "stdout",
     "output_type": "stream",
     "text": [
      "Current value: 0\n",
      "Current value: 1\n"
     ]
    }
   ],
   "source": [
    "tom = counter()\n",
    "tom.get()\n",
    "tom.increment()\n",
    "tom.get()"
   ]
  },
  {
   "cell_type": "code",
   "execution_count": 40,
   "id": "890d569d",
   "metadata": {},
   "outputs": [],
   "source": [
    "class WeatherForecast:\n",
    "    #constructor/initializer\n",
    "    def __init__(self, skies, high, low):\n",
    "        self.skies = skies\n",
    "        self.high = high\n",
    "        self.low = low\n",
    "    \n",
    "    #setters\n",
    "    def set_skies(self, skies):\n",
    "        self.skies = skies\n",
    "    def set_high(self, high):\n",
    "        self.high = high\n",
    "    def set_low(self, low):\n",
    "        self.low = low\n",
    "        \n",
    "    #getters\n",
    "    def get_skies(self):\n",
    "        return self.skies\n",
    "    def get_high(self):\n",
    "        return self.high\n",
    "    def get_low(self):\n",
    "        return self.low"
   ]
  },
  {
   "cell_type": "code",
   "execution_count": 27,
   "id": "2647883e",
   "metadata": {},
   "outputs": [
    {
     "name": "stdout",
     "output_type": "stream",
     "text": [
      "Clear\n",
      "75\n",
      "45\n"
     ]
    }
   ],
   "source": [
    "june_22 = WeatherForecast('Clear',75,45)\n",
    "print(june_22.get_skies())\n",
    "print(june_22.get_high())\n",
    "print(june_22.get_low())"
   ]
  },
  {
   "cell_type": "code",
   "execution_count": 28,
   "id": "719dfd87",
   "metadata": {},
   "outputs": [
    {
     "name": "stdout",
     "output_type": "stream",
     "text": [
      "Rainy\n",
      "70\n",
      "40\n"
     ]
    }
   ],
   "source": [
    "june_22.set_skies(\"Rainy\")\n",
    "june_22.set_high(70)\n",
    "june_22.set_low(40)\n",
    "\n",
    "print(june_22.get_skies())\n",
    "print(june_22.get_high())\n",
    "print(june_22.get_low())"
   ]
  },
  {
   "cell_type": "code",
   "execution_count": 34,
   "id": "81283f84",
   "metadata": {},
   "outputs": [
    {
     "name": "stdout",
     "output_type": "stream",
     "text": [
      "Cloudy\n"
     ]
    }
   ],
   "source": [
    "june_22.skies = \"Cloudy\"\n",
    "print(june_22.skies)"
   ]
  },
  {
   "cell_type": "code",
   "execution_count": 93,
   "id": "150c7fb4",
   "metadata": {},
   "outputs": [],
   "source": [
    "class LocalWeatherForecast(WeatherForecast):\n",
    "    def __init__(self, loc, skies, high, low):\n",
    "        WeatherForecast.__init__(self, skies, high, low)\n",
    "        self.loc = loc\n",
    "    def set_loc(self, loc):\n",
    "        self.loc = loc\n",
    "    def get_loc(self):\n",
    "        return self.loc\n",
    "    def get_skies(self):\n",
    "        string = \"The weather in \" + self.loc + \" is \" + self.skies\n",
    "        return string"
   ]
  },
  {
   "cell_type": "code",
   "execution_count": 94,
   "id": "b7f5316a",
   "metadata": {},
   "outputs": [],
   "source": [
    "june_23 = LocalWeatherForecast(\"Olympia\",\"Clear Blue\",70,40)"
   ]
  },
  {
   "cell_type": "code",
   "execution_count": 87,
   "id": "a5027abb",
   "metadata": {},
   "outputs": [
    {
     "name": "stdout",
     "output_type": "stream",
     "text": [
      "Olympia\n",
      "Clear Blue\n",
      "70\n",
      "40\n"
     ]
    }
   ],
   "source": [
    "print(june_23.get_loc())\n",
    "print(june_23.get_skies())\n",
    "print(june_23.get_high())\n",
    "print(june_23.get_low())"
   ]
  },
  {
   "cell_type": "code",
   "execution_count": 95,
   "id": "68a770d8",
   "metadata": {},
   "outputs": [
    {
     "name": "stdout",
     "output_type": "stream",
     "text": [
      "The weather in Olympia is Clear Blue\n"
     ]
    }
   ],
   "source": [
    "print(june_23.get_skies())"
   ]
  },
  {
   "cell_type": "code",
   "execution_count": 129,
   "id": "ab606d16",
   "metadata": {},
   "outputs": [],
   "source": [
    "class ASet:\n",
    "    def __init__(self):\n",
    "        self.the_set = set()\n",
    "        \n",
    "    def add(self, val):\n",
    "        self.the_set.add(val)\n",
    "    def discard(self, val):\n",
    "        self.the_set.discard(val)  #discard vs remove (discard doesn't raise an error if val doesn't exist in set)\n",
    "    def display(self):\n",
    "        print(self.the_set)    "
   ]
  },
  {
   "cell_type": "code",
   "execution_count": 148,
   "id": "bd461253",
   "metadata": {},
   "outputs": [],
   "source": [
    "a = ASet()"
   ]
  },
  {
   "cell_type": "code",
   "execution_count": 149,
   "id": "749f066a",
   "metadata": {},
   "outputs": [
    {
     "name": "stdout",
     "output_type": "stream",
     "text": [
      "{1, 2, 3, 'e', 4, 5, 'a', 'b', 'd', 'c'}\n"
     ]
    }
   ],
   "source": [
    "lst = ['a','b','c','d','e',1,2,3,4,5]\n",
    "for i in lst:\n",
    "    a.add(i)\n",
    "a.display()"
   ]
  },
  {
   "cell_type": "code",
   "execution_count": 150,
   "id": "96886f35",
   "metadata": {},
   "outputs": [],
   "source": [
    "class IntSet(ASet):\n",
    "    def add(self,val):\n",
    "        if isinstance(val,int):\n",
    "            self.the_set.add(val)"
   ]
  },
  {
   "cell_type": "code",
   "execution_count": 153,
   "id": "02704f16",
   "metadata": {},
   "outputs": [
    {
     "name": "stdout",
     "output_type": "stream",
     "text": [
      "{1, 2, 3, 4, 5}\n"
     ]
    }
   ],
   "source": [
    "lst = ['a','b','c','d','e',1,2,3,4,5]\n",
    "ints_1 = IntSet()\n",
    "\n",
    "for i in lst:\n",
    "    ints_1.add(i)\n",
    "ints_1.display()"
   ]
  },
  {
   "cell_type": "code",
   "execution_count": null,
   "id": "ea315545",
   "metadata": {},
   "outputs": [],
   "source": []
  }
 ],
 "metadata": {
  "kernelspec": {
   "display_name": "Python 3 (ipykernel)",
   "language": "python",
   "name": "python3"
  },
  "language_info": {
   "codemirror_mode": {
    "name": "ipython",
    "version": 3
   },
   "file_extension": ".py",
   "mimetype": "text/x-python",
   "name": "python",
   "nbconvert_exporter": "python",
   "pygments_lexer": "ipython3",
   "version": "3.10.6"
  }
 },
 "nbformat": 4,
 "nbformat_minor": 5
}
