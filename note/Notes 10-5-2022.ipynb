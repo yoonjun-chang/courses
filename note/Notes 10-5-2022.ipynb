{
 "cells": [
  {
   "cell_type": "code",
   "execution_count": 1,
   "id": "3d5b8d18",
   "metadata": {},
   "outputs": [
    {
     "name": "stdout",
     "output_type": "stream",
     "text": [
      "{'Joe': 175, 'Tom': 190, 'Dick': 150}\n"
     ]
    }
   ],
   "source": [
    "d = {\"Joe\" : 175, \"Tom\" : 190, \"Dick\" : 150}\n",
    "print(d)"
   ]
  },
  {
   "cell_type": "code",
   "execution_count": 2,
   "id": "0baae594",
   "metadata": {},
   "outputs": [
    {
     "name": "stdout",
     "output_type": "stream",
     "text": [
      "{'Joe': 175, 'Tom': 190, 'Dick': 150, 'Harry': 180}\n"
     ]
    }
   ],
   "source": [
    "d[\"Harry\"] = 180\n",
    "print(d)"
   ]
  },
  {
   "cell_type": "code",
   "execution_count": 3,
   "id": "21eb044f",
   "metadata": {},
   "outputs": [
    {
     "name": "stdout",
     "output_type": "stream",
     "text": [
      "{'Tom': 190, 'Dick': 150, 'Harry': 180}\n"
     ]
    }
   ],
   "source": [
    "d.pop(\"Joe\") #or del d[\"Joe\"]\n",
    "print(d)"
   ]
  },
  {
   "cell_type": "code",
   "execution_count": 4,
   "id": "f812f8b3",
   "metadata": {},
   "outputs": [
    {
     "name": "stdout",
     "output_type": "stream",
     "text": [
      "150\n"
     ]
    }
   ],
   "source": [
    "print(d[\"Dick\"])"
   ]
  },
  {
   "cell_type": "code",
   "execution_count": 5,
   "id": "1cf386c0",
   "metadata": {},
   "outputs": [
    {
     "name": "stdout",
     "output_type": "stream",
     "text": [
      "520\n"
     ]
    }
   ],
   "source": [
    "sum = 0\n",
    "for values in d.values(): \n",
    "    sum += values\n",
    "print(sum)"
   ]
  },
  {
   "cell_type": "code",
   "execution_count": 6,
   "id": "f3950c19",
   "metadata": {
    "scrolled": false
   },
   "outputs": [
    {
     "name": "stdout",
     "output_type": "stream",
     "text": [
      "dict_items([('Tom', 190), ('Dick', 150), ('Harry', 180)]) <class 'dict_items'>\n"
     ]
    }
   ],
   "source": [
    "returned_items = d.items()\n",
    "print(returned_items, type(returned_items))"
   ]
  },
  {
   "cell_type": "code",
   "execution_count": 7,
   "id": "c2828869",
   "metadata": {},
   "outputs": [
    {
     "name": "stdout",
     "output_type": "stream",
     "text": [
      "('Tom', 190)\n",
      "('Dick', 150)\n",
      "('Harry', 180)\n"
     ]
    }
   ],
   "source": [
    "for item in returned_items:\n",
    "    print(item)"
   ]
  },
  {
   "cell_type": "code",
   "execution_count": 8,
   "id": "7e0387f8",
   "metadata": {},
   "outputs": [
    {
     "name": "stdout",
     "output_type": "stream",
     "text": [
      "Error\n"
     ]
    }
   ],
   "source": [
    "try:\n",
    "    print(returned_items[0])\n",
    "except:\n",
    "    print(\"Error\")"
   ]
  },
  {
   "cell_type": "code",
   "execution_count": 9,
   "id": "86d24c12",
   "metadata": {},
   "outputs": [
    {
     "name": "stdout",
     "output_type": "stream",
     "text": [
      "('Tom', 190)\n"
     ]
    }
   ],
   "source": [
    "print(list(returned_items)[0])"
   ]
  },
  {
   "cell_type": "code",
   "execution_count": 10,
   "id": "09340d78",
   "metadata": {},
   "outputs": [
    {
     "name": "stdout",
     "output_type": "stream",
     "text": [
      "('Dick', 150)\n"
     ]
    }
   ],
   "source": [
    "print(sorted(returned_items)[0])"
   ]
  },
  {
   "cell_type": "code",
   "execution_count": 12,
   "id": "92ae218d",
   "metadata": {},
   "outputs": [
    {
     "name": "stdout",
     "output_type": "stream",
     "text": [
      "M 1\n",
      "i 4\n",
      "s 4\n",
      "p 2\n"
     ]
    }
   ],
   "source": [
    "s = \"Mississippi\"\n",
    "d = {}\n",
    "for l in s:\n",
    "    if l in d:\n",
    "        d[l] += 1\n",
    "    else:\n",
    "        d[l] = 1\n",
    "        \n",
    "for key in d.keys():\n",
    "    print(key,d[key])"
   ]
  },
  {
   "cell_type": "code",
   "execution_count": 18,
   "id": "7c5129a4",
   "metadata": {},
   "outputs": [
    {
     "name": "stdout",
     "output_type": "stream",
     "text": [
      "M 1\n",
      "i 4\n",
      "s 4\n",
      "p 2\n"
     ]
    }
   ],
   "source": [
    "s = \"Mississippi\"\n",
    "d = {}\n",
    "\n",
    "for l in s:\n",
    "    d[l] = d.get(l,0) + 1\n",
    "    \n",
    "for key in d.keys():\n",
    "    print(key,d[key])   "
   ]
  },
  {
   "cell_type": "code",
   "execution_count": 29,
   "id": "fda4c67b",
   "metadata": {},
   "outputs": [
    {
     "name": "stdout",
     "output_type": "stream",
     "text": [
      "31\n",
      "1267650600228229401496703205376\n",
      "1 2\n",
      "2 6\n",
      "6 5\n",
      "7 3\n",
      "5 2\n",
      "0 6\n",
      "8 1\n",
      "9 2\n",
      "4 2\n",
      "3 2\n"
     ]
    }
   ],
   "source": [
    "s = str(2**100)\n",
    "d = {}\n",
    "\n",
    "for l in s:\n",
    "    d[l] = d.get(l,0) + 1\n",
    "    \n",
    "sum = 0\n",
    "for key in d.keys():\n",
    "    sum += d[key]\n",
    "print(sum)\n",
    "print(s)\n",
    "for key in d.keys():\n",
    "    print(key,d[key])"
   ]
  },
  {
   "cell_type": "code",
   "execution_count": 47,
   "id": "1a7cfb9c",
   "metadata": {},
   "outputs": [
    {
     "name": "stdout",
     "output_type": "stream",
     "text": [
      "T 1\n",
      "h 1\n",
      "i 3\n",
      "s 3\n",
      "  6\n",
      "j 1\n",
      "u 1\n",
      "t 2\n",
      "a 2\n",
      "p 1\n",
      "r 2\n",
      "o 3\n",
      "f 2\n",
      "g 1\n",
      "e 2\n",
      "n 1\n",
      "l 1\n",
      "y 1\n"
     ]
    }
   ],
   "source": [
    "s = \"This is just a proof of generality\"\n",
    "l = list(s)\n",
    "d = {}\n",
    "\n",
    "for i in l:\n",
    "    d[i] = d.get(i,0) + 1\n",
    "\n",
    "for key in d.keys():\n",
    "    print(key,d[key])"
   ]
  },
  {
   "cell_type": "code",
   "execution_count": 62,
   "id": "72d32153",
   "metadata": {},
   "outputs": [
    {
     "name": "stdout",
     "output_type": "stream",
     "text": [
      "[('Dick', 2), ('Harry', 3), ('Tom', 1)]\n",
      "<class 'list'>\n"
     ]
    }
   ],
   "source": [
    "d = {\"Tom\":1, \"Dick\":2, \"Harry\":3}\n",
    "li = list(d.items())\n",
    "li.sort()\n",
    "print(li)"
   ]
  },
  {
   "cell_type": "code",
   "execution_count": 61,
   "id": "3d44dc3f",
   "metadata": {},
   "outputs": [
    {
     "name": "stdout",
     "output_type": "stream",
     "text": [
      "[(2, 'Dick'), (3, 'Harry'), (1, 'Tom')]\n"
     ]
    }
   ],
   "source": [
    "reverse = []\n",
    "\n",
    "for key,value in li:\n",
    "    reverse.append((value,key))\n",
    "\n",
    "print(reverse)"
   ]
  },
  {
   "cell_type": "code",
   "execution_count": 63,
   "id": "9cda97ad",
   "metadata": {},
   "outputs": [
    {
     "name": "stdout",
     "output_type": "stream",
     "text": [
      "{2: 'Dick', 3: 'Harry', 1: 'Tom'} <class 'dict'>\n"
     ]
    }
   ],
   "source": [
    "rev_d = dict(reverse)\n",
    "print(rev_d, type(rev_d))"
   ]
  },
  {
   "cell_type": "code",
   "execution_count": null,
   "id": "c8f1d15f",
   "metadata": {},
   "outputs": [],
   "source": []
  }
 ],
 "metadata": {
  "kernelspec": {
   "display_name": "Python 3 (ipykernel)",
   "language": "python",
   "name": "python3"
  },
  "language_info": {
   "codemirror_mode": {
    "name": "ipython",
    "version": 3
   },
   "file_extension": ".py",
   "mimetype": "text/x-python",
   "name": "python",
   "nbconvert_exporter": "python",
   "pygments_lexer": "ipython3",
   "version": "3.10.6"
  }
 },
 "nbformat": 4,
 "nbformat_minor": 5
}
