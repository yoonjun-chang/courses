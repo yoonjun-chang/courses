{
 "cells": [
  {
   "cell_type": "code",
   "execution_count": 2,
   "id": "daa6ab3c",
   "metadata": {},
   "outputs": [],
   "source": [
    "import re"
   ]
  },
  {
   "cell_type": "code",
   "execution_count": 3,
   "id": "29493b5a",
   "metadata": {},
   "outputs": [
    {
     "name": "stdout",
     "output_type": "stream",
     "text": [
      "Yes\n"
     ]
    }
   ],
   "source": [
    "s = \"Tom and Jerry\"\n",
    "if re.search(\"om\", s):\n",
    "    print(\"Yes\")\n",
    "else:\n",
    "    print(\"No\")"
   ]
  },
  {
   "cell_type": "code",
   "execution_count": 4,
   "id": "733f1dd3",
   "metadata": {},
   "outputs": [
    {
     "name": "stdout",
     "output_type": "stream",
     "text": [
      "No\n"
     ]
    }
   ],
   "source": [
    "if re.search(\"re\", s):\n",
    "    print(\"Yes\")\n",
    "else:\n",
    "    print(\"No\")"
   ]
  },
  {
   "cell_type": "code",
   "execution_count": 5,
   "id": "0aacd103",
   "metadata": {},
   "outputs": [
    {
     "name": "stdout",
     "output_type": "stream",
     "text": [
      "Yes\n"
     ]
    }
   ],
   "source": [
    "#one space after m\n",
    "if re.search(\"m \",s):\n",
    "    print(\"Yes\")\n",
    "else:\n",
    "    print(\"No\")"
   ]
  },
  {
   "cell_type": "code",
   "execution_count": 6,
   "id": "23d72b6b",
   "metadata": {},
   "outputs": [
    {
     "name": "stdout",
     "output_type": "stream",
     "text": [
      "No\n"
     ]
    }
   ],
   "source": [
    "#two spaces after m\n",
    "if re.search(\"m  \",s):\n",
    "    print(\"Yes\")\n",
    "else:\n",
    "    print(\"No\")"
   ]
  },
  {
   "cell_type": "code",
   "execution_count": 7,
   "id": "3d6de02b",
   "metadata": {},
   "outputs": [
    {
     "name": "stdout",
     "output_type": "stream",
     "text": [
      "<re.Match object; span=(2, 3), match='m'> <class 're.Match'>\n"
     ]
    }
   ],
   "source": [
    "r = re.search(\"m\", s)\n",
    "print(r, type(r))"
   ]
  },
  {
   "cell_type": "code",
   "execution_count": 10,
   "id": "cfa20a19",
   "metadata": {},
   "outputs": [
    {
     "name": "stdout",
     "output_type": "stream",
     "text": [
      "None\n"
     ]
    }
   ],
   "source": [
    "print(re.search(\"x\", s))"
   ]
  },
  {
   "cell_type": "code",
   "execution_count": 14,
   "id": "321a42fe",
   "metadata": {},
   "outputs": [
    {
     "name": "stdout",
     "output_type": "stream",
     "text": [
      "No\n"
     ]
    }
   ],
   "source": [
    "#^- beginning of the string\n",
    "#$- end of the string\n",
    "if re.search(\"^er\", s):\n",
    "    print(\"Yes\")\n",
    "else:\n",
    "    print(\"No\")"
   ]
  },
  {
   "cell_type": "code",
   "execution_count": 15,
   "id": "addf936f",
   "metadata": {},
   "outputs": [
    {
     "name": "stdout",
     "output_type": "stream",
     "text": [
      "Yes\n"
     ]
    }
   ],
   "source": [
    "if re.search(\"ry$\", s):\n",
    "    print(\"Yes\")\n",
    "else:\n",
    "    print(\"No\")"
   ]
  },
  {
   "cell_type": "code",
   "execution_count": 19,
   "id": "36c2c92d",
   "metadata": {},
   "outputs": [
    {
     "name": "stdout",
     "output_type": "stream",
     "text": [
      "Yes\n",
      "No\n",
      "Yes\n",
      "No\n"
     ]
    }
   ],
   "source": [
    "if re.search(\"^To\", s):\n",
    "    print(\"Yes\")\n",
    "else:\n",
    "    print(\"No\")\n",
    "    \n",
    "if re.search(\"^to\", s):\n",
    "    print(\"Yes\")\n",
    "else:\n",
    "    print(\"No\")\n",
    "\n",
    "if re.search(\"y$\", s):\n",
    "    print(\"Yes\")\n",
    "else:\n",
    "    print(\"No\")\n",
    "    \n",
    "if re.search(\"rY$\", s):\n",
    "    print(\"Yes\")\n",
    "else:\n",
    "    print(\"No\")    "
   ]
  },
  {
   "cell_type": "code",
   "execution_count": 23,
   "id": "df31e1ea",
   "metadata": {},
   "outputs": [
    {
     "name": "stdout",
     "output_type": "stream",
     "text": [
      "Yes\n",
      "No\n",
      "No\n"
     ]
    }
   ],
   "source": [
    "#dot(.) is 'any' character\n",
    "#allows for specific number of any characters in a string\n",
    "    \n",
    "if re.search(\"J...y$\", s):\n",
    "    print(\"Yes\")\n",
    "else:\n",
    "    print(\"No\")\n",
    "    \n",
    "if re.search(\"J..y$\", s):\n",
    "    print(\"Yes\")\n",
    "else:\n",
    "    print(\"No\")  \n",
    "    \n",
    "if re.search(\"J....y$\", s):\n",
    "    print(\"Yes\")\n",
    "else:\n",
    "    print(\"No\")  "
   ]
  },
  {
   "cell_type": "markdown",
   "id": "07569790",
   "metadata": {},
   "source": [
    "# Doodle"
   ]
  },
  {
   "cell_type": "code",
   "execution_count": 26,
   "id": "dbd83a06",
   "metadata": {},
   "outputs": [
    {
     "name": "stdout",
     "output_type": "stream",
     "text": [
      "Yes\n",
      "No\n"
     ]
    }
   ],
   "source": [
    "if re.search(\"^T.. \", s):\n",
    "    print(\"Yes\")\n",
    "else:\n",
    "    print(\"No\")  \n",
    "    \n",
    "if re.search(\"^T... \", s):\n",
    "    print(\"Yes\")\n",
    "else:\n",
    "    print(\"No\")  "
   ]
  },
  {
   "cell_type": "code",
   "execution_count": 34,
   "id": "9455b06f",
   "metadata": {},
   "outputs": [
    {
     "name": "stdout",
     "output_type": "stream",
     "text": [
      "Yes\n",
      "Yes\n",
      "No\n"
     ]
    }
   ],
   "source": [
    "#to allow one or more of any characters, place '+'\n",
    "#to allow zero or more of any characters, place '*'\n",
    "\n",
    "if re.search(\"J.+y$\", s):\n",
    "    print(\"Yes\")\n",
    "else:\n",
    "    print(\"No\")\n",
    "    \n",
    "if re.search(\"J.*y$\", s):\n",
    "    print(\"Yes\")\n",
    "else:\n",
    "    print(\"No\")  \n",
    "\n",
    "if re.search(\".+T$\", s):\n",
    "    print(\"Yes\")\n",
    "else:\n",
    "    print(\"No\")  "
   ]
  },
  {
   "cell_type": "code",
   "execution_count": 40,
   "id": "a792b50a",
   "metadata": {
    "scrolled": true
   },
   "outputs": [
    {
     "name": "stdout",
     "output_type": "stream",
     "text": [
      "Yes\n",
      "Yes\n",
      "No\n"
     ]
    }
   ],
   "source": [
    "if re.search(\".*T\", s):\n",
    "    print(\"Yes\")\n",
    "else:\n",
    "    print(\"No\")  \n",
    "\n",
    "if re.search(\"y.*\", s):\n",
    "    print(\"Yes\")\n",
    "else:\n",
    "    print(\"No\") \n",
    "    \n",
    "if re.search(\"y.+\", s):\n",
    "    print(\"Yes\")\n",
    "else:\n",
    "    print(\"No\")"
   ]
  },
  {
   "cell_type": "markdown",
   "id": "2fbe7a19",
   "metadata": {},
   "source": [
    "# Doodle"
   ]
  },
  {
   "cell_type": "code",
   "execution_count": 42,
   "id": "1178325d",
   "metadata": {},
   "outputs": [
    {
     "name": "stdout",
     "output_type": "stream",
     "text": [
      "Yes\n",
      "No\n"
     ]
    }
   ],
   "source": [
    "if re.search(\"^.*T\", s):\n",
    "    print(\"Yes\")\n",
    "else:\n",
    "    print(\"No\")\n",
    "\n",
    "if re.search(\"^.+T\", s):\n",
    "    print(\"Yes\")\n",
    "else:\n",
    "    print(\"No\")"
   ]
  },
  {
   "cell_type": "code",
   "execution_count": 47,
   "id": "6d17c621",
   "metadata": {},
   "outputs": [
    {
     "name": "stdout",
     "output_type": "stream",
     "text": [
      "Yes\n",
      "No\n"
     ]
    }
   ],
   "source": [
    "#[A-Z] - any capitalized characters\n",
    "#[a-z] - any lowercase characters\n",
    "#[0-9] - any digits\n",
    "\n",
    "if re.search(\"J[a-z]*$\", s):\n",
    "    print(\"Yes\")\n",
    "else:\n",
    "    print(\"No\")\n",
    "    \n",
    "if re.search(\"J[0-9]*$\", s):\n",
    "    print(\"Yes\")\n",
    "else:\n",
    "    print(\"No\")"
   ]
  },
  {
   "cell_type": "markdown",
   "id": "6e902e15",
   "metadata": {},
   "source": [
    "# Doodle"
   ]
  },
  {
   "cell_type": "code",
   "execution_count": 59,
   "id": "0106027f",
   "metadata": {},
   "outputs": [
    {
     "name": "stdout",
     "output_type": "stream",
     "text": [
      "Yes\n",
      "No\n"
     ]
    }
   ],
   "source": [
    "if re.search(\"^[A-Z]+[0-9]*\", s):\n",
    "    print(\"Yes\")\n",
    "else:\n",
    "    print(\"No\")\n",
    "\n",
    "if re.search(\"^[A-Z]+[A-Z]+\", s):\n",
    "    print(\"Yes\")\n",
    "else:\n",
    "    print(\"No\")"
   ]
  },
  {
   "cell_type": "code",
   "execution_count": 62,
   "id": "46e873f2",
   "metadata": {},
   "outputs": [
    {
     "name": "stdout",
     "output_type": "stream",
     "text": [
      "['Tom', 'Jerry']\n"
     ]
    }
   ],
   "source": [
    "#extracting -re.findall()\n",
    "list_1 = re.findall('[A-Z][a-z]+', s)\n",
    "print(list_1)"
   ]
  },
  {
   "cell_type": "markdown",
   "id": "98db6378",
   "metadata": {},
   "source": [
    "# Doodle"
   ]
  },
  {
   "cell_type": "code",
   "execution_count": 72,
   "id": "51628a74",
   "metadata": {},
   "outputs": [
    {
     "name": "stdout",
     "output_type": "stream",
     "text": [
      "['Jerry']\n"
     ]
    }
   ],
   "source": [
    "word = re.findall(\"[A-Z][a-z]+$\", s)\n",
    "print(word)"
   ]
  },
  {
   "cell_type": "code",
   "execution_count": 13,
   "id": "20f6ee8a",
   "metadata": {},
   "outputs": [
    {
     "name": "stdout",
     "output_type": "stream",
     "text": [
      "Yes\n",
      "No\n"
     ]
    }
   ],
   "source": [
    "st = \"A332asdf and random words\"\n",
    "st1 = \"A33asdf\"\n",
    "if re.search(\"[A-Z][0-9][0-9][0-9][a-z]+\", st):\n",
    "    print(\"Yes\")\n",
    "else:\n",
    "    print(\"No\")\n",
    "    \n",
    "if re.search(\"^[A-Z][0-9][0-9][0-9][a-z]+\", st1):\n",
    "    print(\"Yes\")\n",
    "else:\n",
    "    print(\"No\")"
   ]
  },
  {
   "cell_type": "code",
   "execution_count": 14,
   "id": "285fc020",
   "metadata": {},
   "outputs": [
    {
     "name": "stdout",
     "output_type": "stream",
     "text": [
      "['A332asdf']\n"
     ]
    }
   ],
   "source": [
    "list_1 = re.findall(\"^[A-Z][0-9][0-9][0-9][a-z]+\", st)\n",
    "print(list_1)"
   ]
  },
  {
   "cell_type": "code",
   "execution_count": 1,
   "id": "8d526a2e",
   "metadata": {},
   "outputs": [
    {
     "name": "stdout",
     "output_type": "stream",
     "text": [
      "PART I\n",
      "\n",
      "CHAPTER I\n",
      "\n",
      "CHAPTER II\n",
      "\n",
      "CHAPTER III\n",
      "\n",
      "CHAPTER IV\n",
      "\n",
      "CHAPTER V\n",
      "\n",
      "CHAPTER VI\n",
      "\n",
      "CHAPTER VII\n",
      "\n",
      "PART II\n",
      "\n",
      "CHAPTER I\n",
      "\n",
      "CHAPTER II\n",
      "\n",
      "CHAPTER III\n",
      "\n",
      "CHAPTER IV\n",
      "\n",
      "CHAPTER V\n",
      "\n",
      "CHAPTER VI\n",
      "\n",
      "CHAPTER VII\n",
      "\n",
      "PART III\n",
      "\n",
      "CHAPTER I\n",
      "\n",
      "CHAPTER II\n",
      "\n",
      "CHAPTER III\n",
      "\n",
      "CHAPTER IV\n",
      "\n",
      "CHAPTER V\n",
      "\n",
      "CHAPTER VI\n",
      "\n",
      "PART IV\n",
      "\n",
      "CHAPTER I\n",
      "\n",
      "CHAPTER II\n",
      "\n",
      "CHAPTER III\n",
      "\n",
      "CHAPTER IV\n",
      "\n",
      "CHAPTER V\n",
      "\n",
      "CHAPTER VI\n",
      "\n",
      "PART V\n",
      "\n",
      "CHAPTER I\n",
      "\n",
      "CHAPTER II\n",
      "\n",
      "CHAPTER III\n",
      "\n",
      "CHAPTER IV\n",
      "\n",
      "CHAPTER V\n",
      "\n",
      "PART VI\n",
      "\n",
      "CHAPTER I\n",
      "\n",
      "CHAPTER II\n",
      "\n",
      "CHAPTER III\n",
      "\n",
      "CHAPTER IV\n",
      "\n",
      "CHAPTER V\n",
      "\n",
      "CHAPTER VI\n",
      "\n",
      "CHAPTER VII\n",
      "\n",
      "CHAPTER VIII\n",
      "\n"
     ]
    }
   ],
   "source": [
    "import re\n",
    "fname = open(\"Crime and Punishment.txt\")\n",
    "\n",
    "for line in fname:\n",
    "    if re.search(\"CHAPTER|PART +[A-Z]+\", line):\n",
    "        print(line)"
   ]
  },
  {
   "cell_type": "code",
   "execution_count": 4,
   "id": "faa1ecc9",
   "metadata": {},
   "outputs": [
    {
     "name": "stdout",
     "output_type": "stream",
     "text": [
      "315\n"
     ]
    }
   ],
   "source": [
    "fname = open(\"mbox-short.txt\")\n",
    "count = 0\n",
    "for line in fname:\n",
    "    if re.search(\"\\.edu +\", line):\n",
    "        count += 1\n",
    "print(count)"
   ]
  },
  {
   "cell_type": "code",
   "execution_count": 3,
   "id": "05aba544",
   "metadata": {},
   "outputs": [
    {
     "name": "stdout",
     "output_type": "stream",
     "text": [
      "1966\n"
     ]
    }
   ],
   "source": [
    "import re\n",
    "fname = open(\"Crime and Punishment.txt\")\n",
    "\n",
    "count = 0\n",
    "for line in fname:\n",
    "    if re.search(\"[a-z]\\?\", line):\n",
    "        count += 1\n",
    "print(count)"
   ]
  },
  {
   "cell_type": "code",
   "execution_count": 28,
   "id": "3b0f95bd",
   "metadata": {},
   "outputs": [
    {
     "name": "stdout",
     "output_type": "stream",
     "text": [
      "363 641\n"
     ]
    }
   ],
   "source": [
    "#***re.findall uses list***\n",
    "fname = open(\"mbox-short.txt\")\n",
    "count = 0\n",
    "count1 = 0\n",
    "\n",
    "for line in fname:\n",
    "    found = re.findall(\" [0-9]+ \", line)\n",
    "    if len(found) > 0:\n",
    "        count += 1\n",
    "        count1 += len(found)\n",
    "        \n",
    "print(count, count1)"
   ]
  },
  {
   "cell_type": "code",
   "execution_count": 29,
   "id": "18f3a265",
   "metadata": {},
   "outputs": [],
   "source": [
    "#\\s white-space character\n",
    "#\\S non-white-space character\n",
    "#\\d any digit\n",
    "#\\D any non-digit\n",
    "#\\w any word character\n",
    "#\\W any non-word character"
   ]
  },
  {
   "cell_type": "code",
   "execution_count": 31,
   "id": "5ac118b6",
   "metadata": {},
   "outputs": [],
   "source": [
    "#instead of [a-z] you can use [aeiou] , [xyz], and so on"
   ]
  },
  {
   "cell_type": "code",
   "execution_count": 32,
   "id": "7385191e",
   "metadata": {},
   "outputs": [
    {
     "name": "stdout",
     "output_type": "stream",
     "text": [
      "[]\n"
     ]
    }
   ],
   "source": [
    "x = re.findall(\"^[AEIOU].+\", \"cat\")\n",
    "print(x)"
   ]
  },
  {
   "cell_type": "code",
   "execution_count": 33,
   "id": "6bfd5012",
   "metadata": {},
   "outputs": [
    {
     "name": "stdout",
     "output_type": "stream",
     "text": [
      "[]\n"
     ]
    }
   ],
   "source": [
    "x = re.findall(\"^[AEIOU].+\", \"B cat\")\n",
    "print(x)"
   ]
  },
  {
   "cell_type": "code",
   "execution_count": 34,
   "id": "7dada690",
   "metadata": {},
   "outputs": [
    {
     "name": "stdout",
     "output_type": "stream",
     "text": [
      "['A cat']\n"
     ]
    }
   ],
   "source": [
    "x = re.findall(\"^[AEIOU].+\", \"A cat\")\n",
    "print(x)"
   ]
  },
  {
   "cell_type": "code",
   "execution_count": 36,
   "id": "15777319",
   "metadata": {},
   "outputs": [
    {
     "name": "stdout",
     "output_type": "stream",
     "text": [
      "['<h1>TITLE</h1>']\n"
     ]
    }
   ],
   "source": [
    "#Greedy\n",
    "heading = '<h1>TITLE</h1>'\n",
    "resg = re.findall('<.*>', heading)\n",
    "print(resg)\n",
    "\n",
    "#outputs largest possible string that meets the pattern"
   ]
  },
  {
   "cell_type": "code",
   "execution_count": 39,
   "id": "95a97915",
   "metadata": {},
   "outputs": [
    {
     "name": "stdout",
     "output_type": "stream",
     "text": [
      "['<h1>', '</h1>']\n"
     ]
    }
   ],
   "source": [
    "#Non-greedy\n",
    "resg = re.findall('<.*?>', heading)\n",
    "print(resg)\n",
    "\n",
    "#'?' makes non-greedy"
   ]
  },
  {
   "cell_type": "code",
   "execution_count": 52,
   "id": "23e6bb9b",
   "metadata": {},
   "outputs": [
    {
     "data": {
      "text/plain": [
       "['8184800372']"
      ]
     },
     "execution_count": 52,
     "metadata": {},
     "output_type": "execute_result"
    }
   ],
   "source": [
    "#searching for phone numbers\n",
    "\n",
    "phone = \"8184800372\"\n",
    "re.findall(\"[0-9]+\", phone)"
   ]
  },
  {
   "cell_type": "code",
   "execution_count": 62,
   "id": "be1f90fd",
   "metadata": {},
   "outputs": [
    {
     "data": {
      "text/plain": [
       "['(818)480-0372']"
      ]
     },
     "execution_count": 62,
     "metadata": {},
     "output_type": "execute_result"
    }
   ],
   "source": [
    "phone = \"(818)480-0372\"\n",
    "re.findall(\"\\W[0-9]+\\W[0-9]+-[0-9]+\", phone)"
   ]
  },
  {
   "cell_type": "code",
   "execution_count": 54,
   "id": "315f2a3a",
   "metadata": {},
   "outputs": [
    {
     "data": {
      "text/plain": [
       "['818-480-0372']"
      ]
     },
     "execution_count": 54,
     "metadata": {},
     "output_type": "execute_result"
    }
   ],
   "source": [
    "phone = \"818-480-0372\"\n",
    "re.findall(\"[0-9]+-[0-9]+-[0-9]+\", phone)"
   ]
  },
  {
   "cell_type": "code",
   "execution_count": 63,
   "id": "5624f0d4",
   "metadata": {},
   "outputs": [
    {
     "name": "stdout",
     "output_type": "stream",
     "text": [
      "['5152349999', '(515)234-9999', '515-234-9999']\n"
     ]
    }
   ],
   "source": [
    "ph1 = \"\\d{10}\"\n",
    "#exactly 10 digits\n",
    "\n",
    "ph2 = \"\\(\\d{3}\\)\\d{3}-\\d{4}\"\n",
    "#treat parentheses as regular characters\n",
    "\n",
    "ph3 = \"\\d{3}-\\d{3}-\\d{4}\"\n",
    "\n",
    "phnos = \"xxx 5152349999 (515)234-9999 515-234-9999\"\n",
    "\n",
    "res = re.findall(ph1+\"|\"+ph2+\"|\"+ph3,phnos)\n",
    "print(res)"
   ]
  },
  {
   "cell_type": "code",
   "execution_count": null,
   "id": "0446e45a",
   "metadata": {},
   "outputs": [],
   "source": []
  }
 ],
 "metadata": {
  "kernelspec": {
   "display_name": "Python 3 (ipykernel)",
   "language": "python",
   "name": "python3"
  },
  "language_info": {
   "codemirror_mode": {
    "name": "ipython",
    "version": 3
   },
   "file_extension": ".py",
   "mimetype": "text/x-python",
   "name": "python",
   "nbconvert_exporter": "python",
   "pygments_lexer": "ipython3",
   "version": "3.10.6"
  }
 },
 "nbformat": 4,
 "nbformat_minor": 5
}
