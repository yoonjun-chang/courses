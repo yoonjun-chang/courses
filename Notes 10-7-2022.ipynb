{
 "cells": [
  {
   "cell_type": "code",
   "execution_count": 56,
   "id": "4c903f98",
   "metadata": {},
   "outputs": [
    {
     "name": "stdout",
     "output_type": "stream",
     "text": [
      "13035 13035\n"
     ]
    }
   ],
   "source": [
    "fname = open(\"Pride and Prejudice.txt\", \"r\")\n",
    "lines = []\n",
    "count = 0\n",
    "\n",
    "for line in fname:\n",
    "    lines.append(line)\n",
    "    count += 1\n",
    "\n",
    "print(len(lines), count)"
   ]
  },
  {
   "cell_type": "code",
   "execution_count": 57,
   "id": "fdf69b98",
   "metadata": {},
   "outputs": [
    {
     "data": {
      "text/plain": [
       "str"
      ]
     },
     "execution_count": 57,
     "metadata": {},
     "output_type": "execute_result"
    }
   ],
   "source": [
    "type(lines[0])"
   ]
  },
  {
   "cell_type": "code",
   "execution_count": 58,
   "id": "d8879da2",
   "metadata": {},
   "outputs": [
    {
     "name": "stdout",
     "output_type": "stream",
     "text": [
      "52.534407364787114\n"
     ]
    }
   ],
   "source": [
    "total = 0\n",
    "avg = 0\n",
    "\n",
    "for line in lines:\n",
    "    total += len(line)\n",
    "\n",
    "avg = total/len(lines) \n",
    "print(avg)"
   ]
  },
  {
   "cell_type": "code",
   "execution_count": 59,
   "id": "6e507bc0",
   "metadata": {},
   "outputs": [
    {
     "name": "stdout",
     "output_type": "stream",
     "text": [
      "0\n"
     ]
    }
   ],
   "source": [
    "count_0 = 0\n",
    "for line in lines:\n",
    "    if len(line) == 0:\n",
    "        count_0 += 1\n",
    "print(count_0)"
   ]
  },
  {
   "cell_type": "code",
   "execution_count": 60,
   "id": "2d32e3d0",
   "metadata": {},
   "outputs": [
    {
     "name": "stdout",
     "output_type": "stream",
     "text": [
      "2314\n"
     ]
    }
   ],
   "source": [
    "count_1 = 0\n",
    "for line in lines:\n",
    "    if len(line) == 1:\n",
    "        count_1 += 1\n",
    "\n",
    "print(count_1)"
   ]
  },
  {
   "cell_type": "code",
   "execution_count": 61,
   "id": "b44c791a",
   "metadata": {},
   "outputs": [
    {
     "name": "stdout",
     "output_type": "stream",
     "text": [
      "\n",
      "\n",
      "PRIDE AND PREJUDICE\n",
      "\n",
      "\n",
      "\n"
     ]
    }
   ],
   "source": [
    "short_lines = [x for x in lines if len(line) == 1]\n",
    "for i in range(3):\n",
    "    print(short_lines[i])"
   ]
  },
  {
   "cell_type": "code",
   "execution_count": 135,
   "id": "ab7f5df8",
   "metadata": {},
   "outputs": [
    {
     "name": "stdout",
     "output_type": "stream",
     "text": [
      "PRIDE\n",
      "AND\n",
      "PREJUDICE\n",
      "By\n",
      "Jane\n",
      "Austen\n",
      "Chapter\n",
      "1\n",
      "It\n",
      "is\n",
      "a\n",
      "truth\n",
      "universally\n",
      "acknowledged,\n",
      "that\n",
      "a\n",
      "single\n",
      "man\n",
      "in\n",
      "possession\n",
      "121567\n"
     ]
    }
   ],
   "source": [
    "word_list = []\n",
    "\n",
    "for line in lines:\n",
    "    words = line.split()\n",
    "    for word in words:\n",
    "        word_list.append(word)\n",
    "\n",
    "for i in range(20):\n",
    "    print(word_list[i])\n",
    "print(len(word_list))"
   ]
  },
  {
   "cell_type": "code",
   "execution_count": 123,
   "id": "0b7e175c",
   "metadata": {},
   "outputs": [
    {
     "name": "stdout",
     "output_type": "stream",
     "text": [
      "13059\n"
     ]
    }
   ],
   "source": [
    "print(len(set(word_list)))"
   ]
  },
  {
   "cell_type": "code",
   "execution_count": 124,
   "id": "b8807ce2",
   "metadata": {},
   "outputs": [
    {
     "name": "stdout",
     "output_type": "stream",
     "text": [
      "9.309058886591624\n"
     ]
    }
   ],
   "source": [
    "print(len(word_list)/len(set(word_list)))"
   ]
  },
  {
   "cell_type": "code",
   "execution_count": 139,
   "id": "2f80d202",
   "metadata": {},
   "outputs": [
    {
     "name": "stdout",
     "output_type": "stream",
     "text": [
      "3240\n",
      "0.026651969695723345\n"
     ]
    }
   ],
   "source": [
    "count = 0\n",
    "for word in word_list:\n",
    "    if word == \"and\":\n",
    "        count += 1\n",
    "\n",
    "print(count)\n",
    "print(count/len(word_list))"
   ]
  },
  {
   "cell_type": "code",
   "execution_count": 145,
   "id": "c197ba5d",
   "metadata": {},
   "outputs": [
    {
     "name": "stdout",
     "output_type": "stream",
     "text": [
      "3240\n"
     ]
    }
   ],
   "source": [
    "d = dict()\n",
    "\n",
    "for word in word_list:\n",
    "    d[word] = d.get(word,0) + 1\n",
    "    \n",
    "print(d[\"and\"])"
   ]
  },
  {
   "cell_type": "code",
   "execution_count": 147,
   "id": "b8797957",
   "metadata": {},
   "outputs": [
    {
     "name": "stdout",
     "output_type": "stream",
     "text": [
      "(1, \"'Ah!\")\n",
      "(1, \"'Bingley,\")\n",
      "(1, \"'Having\")\n",
      "(1, \"'I\")\n",
      "(1, \"'Keep\")\n",
      "(1, \"'Lady\")\n",
      "(1, \"'Lately,\")\n",
      "(1, \"'Lydia\")\n",
      "(1, \"'Mr.\")\n",
      "(1, \"'Oh!\")\n",
      "(1, \"'This\")\n",
      "(1, \"'Tis\")\n",
      "(1, \"'Yes,'\")\n",
      "(1, \"'_She_\")\n",
      "(1, \"'had\")\n",
      "(1, \"'violently\")\n",
      "(1, \"'you\")\n",
      "(1, '(Lady')\n",
      "(1, '(an')\n",
      "(1, '(by')\n",
      "(1, '(comparatively')\n",
      "(1, '(glancing')\n",
      "(1, '(if')\n",
      "(1, '(like')\n",
      "(1, '(most')\n",
      "(1, '(my')\n",
      "(1, '(unasked')\n",
      "(1, '(what')\n",
      "(1, '(who,')\n",
      "(1, '----')\n",
      "(1, '----shire,')\n",
      "(1, '1')\n",
      "(1, '10')\n",
      "(1, '11')\n",
      "(1, '12')\n",
      "(1, '13')\n",
      "(1, '14')\n",
      "(1, '15')\n",
      "(1, '15th')\n",
      "(1, '16')\n",
      "(1, '17')\n",
      "(1, '18')\n",
      "(1, '18th,')\n",
      "(1, '19')\n",
      "(1, '2')\n",
      "(1, '2.')\n",
      "(1, '20')\n",
      "(1, '21')\n",
      "(1, '22')\n",
      "(1, '23')\n"
     ]
    }
   ],
   "source": [
    "d_swapped = []\n",
    "items = d.items()\n",
    "for key,value in items:\n",
    "    d_swapped.append((value,key))\n",
    "    \n",
    "sorted_swapped = sorted(d_swapped)\n",
    "\n",
    "for i in range(50):\n",
    "    print(sorted_swapped[i])"
   ]
  },
  {
   "cell_type": "code",
   "execution_count": null,
   "id": "8c9ff48d",
   "metadata": {},
   "outputs": [],
   "source": []
  }
 ],
 "metadata": {
  "kernelspec": {
   "display_name": "Python 3 (ipykernel)",
   "language": "python",
   "name": "python3"
  },
  "language_info": {
   "codemirror_mode": {
    "name": "ipython",
    "version": 3
   },
   "file_extension": ".py",
   "mimetype": "text/x-python",
   "name": "python",
   "nbconvert_exporter": "python",
   "pygments_lexer": "ipython3",
   "version": "3.10.6"
  }
 },
 "nbformat": 4,
 "nbformat_minor": 5
}
