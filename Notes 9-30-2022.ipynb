{
 "cells": [
  {
   "cell_type": "code",
   "execution_count": 1,
   "id": "c59d68da",
   "metadata": {},
   "outputs": [],
   "source": [
    "TV = [True,False]"
   ]
  },
  {
   "cell_type": "code",
   "execution_count": 2,
   "id": "287160b4",
   "metadata": {},
   "outputs": [
    {
     "name": "stdout",
     "output_type": "stream",
     "text": [
      "True False\n",
      "False True\n"
     ]
    }
   ],
   "source": [
    "for p in TV:\n",
    "    print(p, not p)"
   ]
  },
  {
   "cell_type": "code",
   "execution_count": 3,
   "id": "ea4ded35",
   "metadata": {},
   "outputs": [
    {
     "name": "stdout",
     "output_type": "stream",
     "text": [
      "True True True\n",
      "True False False\n",
      "False True False\n",
      "False False False\n"
     ]
    }
   ],
   "source": [
    "for p in TV:\n",
    "    for q in TV:\n",
    "        print(p, q, p and q)"
   ]
  },
  {
   "cell_type": "code",
   "execution_count": 4,
   "id": "d2a5c454",
   "metadata": {},
   "outputs": [
    {
     "name": "stdout",
     "output_type": "stream",
     "text": [
      "True True True\n",
      "True False True\n",
      "False True True\n",
      "False False False\n"
     ]
    }
   ],
   "source": [
    "for p in TV:\n",
    "    for q in TV:\n",
    "        print(p, q, p or q)"
   ]
  },
  {
   "cell_type": "code",
   "execution_count": 5,
   "id": "e1716a7d",
   "metadata": {},
   "outputs": [
    {
     "name": "stdout",
     "output_type": "stream",
     "text": [
      "True True False False\n",
      "True False True True\n",
      "False True True True\n",
      "False False True True\n"
     ]
    }
   ],
   "source": [
    "for p in TV:\n",
    "    for q in TV:\n",
    "        print(p, q, not(p and q), not p or not q)"
   ]
  },
  {
   "cell_type": "code",
   "execution_count": 7,
   "id": "fd3b4747",
   "metadata": {},
   "outputs": [
    {
     "name": "stdout",
     "output_type": "stream",
     "text": [
      "True\n"
     ]
    }
   ],
   "source": [
    "list1 = []\n",
    "list2 = []\n",
    "for p in TV:\n",
    "    for q in TV:\n",
    "        list1.append(not (p and q))\n",
    "        list2.append(not p or not q)\n",
    "print(list1 == list2)"
   ]
  },
  {
   "cell_type": "code",
   "execution_count": 8,
   "id": "d543cbdf",
   "metadata": {},
   "outputs": [
    {
     "name": "stdout",
     "output_type": "stream",
     "text": [
      "True\n"
     ]
    }
   ],
   "source": [
    "list1 = []\n",
    "list2 = []\n",
    "for p in TV:\n",
    "    for q in TV:\n",
    "        list1.append(not (p or q))\n",
    "        list2.append(not p and not q)\n",
    "print(list1 == list2)"
   ]
  },
  {
   "cell_type": "code",
   "execution_count": 10,
   "id": "1b97d0a3",
   "metadata": {},
   "outputs": [
    {
     "name": "stdout",
     "output_type": "stream",
     "text": [
      "True\n"
     ]
    }
   ],
   "source": [
    "list1 = []\n",
    "list2 = []\n",
    "for p in TV:\n",
    "    for q in TV:\n",
    "        for r in TV:\n",
    "            list1.append(p and (q and r))\n",
    "            list2.append((p and q) and r)\n",
    "\n",
    "print(list1 == list2)"
   ]
  },
  {
   "cell_type": "code",
   "execution_count": 11,
   "id": "53912939",
   "metadata": {},
   "outputs": [
    {
     "name": "stdout",
     "output_type": "stream",
     "text": [
      "True\n"
     ]
    }
   ],
   "source": [
    "list1 = []\n",
    "list2 = []\n",
    "for p in TV:\n",
    "    for q in TV:\n",
    "        for r in TV:\n",
    "            list1.append(p and (q or r))\n",
    "            list2.append((p and q) or (p and r))\n",
    "print(list1 == list2)"
   ]
  },
  {
   "cell_type": "code",
   "execution_count": 12,
   "id": "ad3bea15",
   "metadata": {},
   "outputs": [
    {
     "name": "stdout",
     "output_type": "stream",
     "text": [
      "True\n"
     ]
    }
   ],
   "source": [
    "list1 = []\n",
    "list2 = []\n",
    "for p in TV:\n",
    "    for q in TV:\n",
    "        for r in TV:\n",
    "            list1.append(p or (q and r))\n",
    "            list2.append((p or q) and (p or r))\n",
    "print(list1 == list2)"
   ]
  },
  {
   "cell_type": "code",
   "execution_count": 29,
   "id": "7c50f8f2",
   "metadata": {},
   "outputs": [
    {
     "name": "stdout",
     "output_type": "stream",
     "text": [
      "True\n"
     ]
    }
   ],
   "source": [
    "def f(x):\n",
    "    return True\n",
    "def g(x):\n",
    "    return True\n",
    "\n",
    "def compare(f,g):\n",
    "    return f == g\n",
    "\n",
    "a = None\n",
    "b = None\n",
    "print(compare(f(a),g(b)))"
   ]
  },
  {
   "cell_type": "code",
   "execution_count": 30,
   "id": "7848635d",
   "metadata": {},
   "outputs": [
    {
     "data": {
      "text/plain": [
       "False"
      ]
     },
     "execution_count": 30,
     "metadata": {},
     "output_type": "execute_result"
    }
   ],
   "source": [
    "def compare(f,g):\n",
    "    TV = [True,False]\n",
    "    list1 = []\n",
    "    list2 = []\n",
    "    \n",
    "    for p in TV:\n",
    "        for q in TV:\n",
    "            list1.append(f(p,q))\n",
    "            list2.append(g(p,q))\n",
    "    return list1 == list2\n",
    "\n",
    "def f1(a,b):\n",
    "    return not a and not b\n",
    "def f2(c,d):\n",
    "    return not(c or d)\n",
    "\n",
    "compare(f1,f2)"
   ]
  },
  {
   "cell_type": "code",
   "execution_count": 32,
   "id": "45e06f12",
   "metadata": {},
   "outputs": [],
   "source": [
    "#create truth table to compare the logical values"
   ]
  },
  {
   "cell_type": "code",
   "execution_count": null,
   "id": "3a4d4cda",
   "metadata": {},
   "outputs": [],
   "source": []
  }
 ],
 "metadata": {
  "kernelspec": {
   "display_name": "Python 3 (ipykernel)",
   "language": "python",
   "name": "python3"
  },
  "language_info": {
   "codemirror_mode": {
    "name": "ipython",
    "version": 3
   },
   "file_extension": ".py",
   "mimetype": "text/x-python",
   "name": "python",
   "nbconvert_exporter": "python",
   "pygments_lexer": "ipython3",
   "version": "3.10.6"
  }
 },
 "nbformat": 4,
 "nbformat_minor": 5
}
