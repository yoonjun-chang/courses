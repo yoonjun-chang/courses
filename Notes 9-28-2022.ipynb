{
 "cells": [
  {
   "cell_type": "code",
   "execution_count": 1,
   "id": "d26dceb7",
   "metadata": {},
   "outputs": [
    {
     "name": "stdout",
     "output_type": "stream",
     "text": [
      "<class 'set'> <class 'list'> <class 'tuple'>\n"
     ]
    }
   ],
   "source": [
    "ASet = {\"cat\", \"dog\", \"parrot\"}\n",
    "AList = [\"cat\", \"dog\", \"parrot\"]\n",
    "ATuple = (\"cat\", \"dog\", \"parrot\")\n",
    "\n",
    "print(type(ASet), type(AList), type(ATuple))"
   ]
  },
  {
   "cell_type": "code",
   "execution_count": 3,
   "id": "012a7fa9",
   "metadata": {},
   "outputs": [
    {
     "name": "stdout",
     "output_type": "stream",
     "text": [
      "cat cat\n"
     ]
    }
   ],
   "source": [
    "print(AList[0], ATuple[0])"
   ]
  },
  {
   "cell_type": "code",
   "execution_count": 4,
   "id": "77efbece",
   "metadata": {},
   "outputs": [
    {
     "ename": "TypeError",
     "evalue": "'set' object is not subscriptable",
     "output_type": "error",
     "traceback": [
      "\u001b[1;31m---------------------------------------------------------------------------\u001b[0m",
      "\u001b[1;31mTypeError\u001b[0m                                 Traceback (most recent call last)",
      "Input \u001b[1;32mIn [4]\u001b[0m, in \u001b[0;36m<cell line: 1>\u001b[1;34m()\u001b[0m\n\u001b[1;32m----> 1\u001b[0m \u001b[38;5;28mprint\u001b[39m(\u001b[43mASet\u001b[49m\u001b[43m[\u001b[49m\u001b[38;5;241;43m0\u001b[39;49m\u001b[43m]\u001b[49m)\n",
      "\u001b[1;31mTypeError\u001b[0m: 'set' object is not subscriptable"
     ]
    }
   ],
   "source": [
    "print(ASet[0])"
   ]
  },
  {
   "cell_type": "code",
   "execution_count": 16,
   "id": "88b77813",
   "metadata": {},
   "outputs": [
    {
     "name": "stdout",
     "output_type": "stream",
     "text": [
      "cat dog parrot\n",
      "cat dog parrot\n",
      "cat dog parrot\n"
     ]
    }
   ],
   "source": [
    "for i,j,k in AList, ATuple, ASet:\n",
    "    print(i,j,k)"
   ]
  },
  {
   "cell_type": "code",
   "execution_count": 17,
   "id": "3788cd9f",
   "metadata": {},
   "outputs": [],
   "source": [
    "BSet = {\"dog\", \"parrot\", \"cat\"}\n",
    "BList = [\"dog\", \"parrot\", \"cat\"]\n",
    "BTuple = (\"dog\", \"parrot\", \"cat\")"
   ]
  },
  {
   "cell_type": "code",
   "execution_count": 20,
   "id": "511dbaee",
   "metadata": {},
   "outputs": [
    {
     "name": "stdout",
     "output_type": "stream",
     "text": [
      "True\n",
      "False\n",
      "False\n"
     ]
    }
   ],
   "source": [
    "print(ASet == BSet)\n",
    "print(AList == BList)\n",
    "print(ATuple == BTuple)"
   ]
  },
  {
   "cell_type": "code",
   "execution_count": 25,
   "id": "518eb66e",
   "metadata": {},
   "outputs": [],
   "source": [
    "CSet = {\"cat\", \"dog\", \"parrot\", \"dog\"}\n",
    "CList = [\"cat\", \"dog\", \"parrot\", \"dog\"]\n",
    "CTuple = (\"cat\", \"dog\", \"parrot\", \"dog\")"
   ]
  },
  {
   "cell_type": "code",
   "execution_count": 26,
   "id": "eb4cf509",
   "metadata": {},
   "outputs": [
    {
     "name": "stdout",
     "output_type": "stream",
     "text": [
      "{'cat', 'dog', 'parrot'}\n",
      "['cat', 'dog', 'parrot', 'dog']\n",
      "('cat', 'dog', 'parrot', 'dog')\n"
     ]
    }
   ],
   "source": [
    "print(CSet)\n",
    "print(CList)\n",
    "print(CTuple)"
   ]
  },
  {
   "cell_type": "code",
   "execution_count": 29,
   "id": "21066bb8",
   "metadata": {},
   "outputs": [],
   "source": [
    "pets_set = {\"Cool guy\", \"Rover\", \"Fido\"}\n",
    "sorted_pets = sorted(pets_set)"
   ]
  },
  {
   "cell_type": "code",
   "execution_count": 32,
   "id": "870901e2",
   "metadata": {},
   "outputs": [
    {
     "name": "stdout",
     "output_type": "stream",
     "text": [
      "<class 'set'>\n",
      "['Cool guy', 'Fido', 'Rover'] <class 'list'>\n"
     ]
    }
   ],
   "source": [
    "print(type(pets_set))\n",
    "print(sorted_pets, type(sorted_pets))"
   ]
  },
  {
   "cell_type": "code",
   "execution_count": 35,
   "id": "3517d3ad",
   "metadata": {},
   "outputs": [
    {
     "ename": "TypeError",
     "evalue": "'set' object cannot be interpreted as an integer",
     "output_type": "error",
     "traceback": [
      "\u001b[1;31m---------------------------------------------------------------------------\u001b[0m",
      "\u001b[1;31mTypeError\u001b[0m                                 Traceback (most recent call last)",
      "Input \u001b[1;32mIn [35]\u001b[0m, in \u001b[0;36m<cell line: 1>\u001b[1;34m()\u001b[0m\n\u001b[1;32m----> 1\u001b[0m \u001b[38;5;28;43mrange\u001b[39;49m\u001b[43m(\u001b[49m\u001b[43mpets_set\u001b[49m\u001b[43m)\u001b[49m\n",
      "\u001b[1;31mTypeError\u001b[0m: 'set' object cannot be interpreted as an integer"
     ]
    }
   ],
   "source": [
    "range(pets_set)"
   ]
  },
  {
   "cell_type": "code",
   "execution_count": 45,
   "id": "9c6f4224",
   "metadata": {
    "scrolled": true
   },
   "outputs": [
    {
     "name": "stdout",
     "output_type": "stream",
     "text": [
      "{0, 1, 2, 3, 4, 5, 6, 7, 8, 9}\n"
     ]
    }
   ],
   "source": [
    "lst = set(range(0,10))\n",
    "print(lst)"
   ]
  },
  {
   "cell_type": "code",
   "execution_count": 48,
   "id": "fd8d81c8",
   "metadata": {},
   "outputs": [
    {
     "name": "stdout",
     "output_type": "stream",
     "text": [
      "31\n"
     ]
    }
   ],
   "source": [
    "num = 2**100\n",
    "num = str(num)\n",
    "print(len(num))"
   ]
  },
  {
   "cell_type": "code",
   "execution_count": 49,
   "id": "048e9a07",
   "metadata": {},
   "outputs": [],
   "source": [
    "I100 = set(range(1,101))"
   ]
  },
  {
   "cell_type": "code",
   "execution_count": 50,
   "id": "d019e2ad",
   "metadata": {},
   "outputs": [],
   "source": [
    "Universe = I100"
   ]
  },
  {
   "cell_type": "code",
   "execution_count": 59,
   "id": "e6f8d6c3",
   "metadata": {},
   "outputs": [
    {
     "name": "stdout",
     "output_type": "stream",
     "text": [
      "{2, 4, 6, 8, 10, 12, 14, 16, 18, 20, 22, 24, 26, 28, 30, 32, 34, 36, 38, 40, 42, 44, 46, 48, 50, 52, 54, 56, 58, 60, 62, 64, 66, 68, 70, 72, 74, 76, 78, 80, 82, 84, 86, 88, 90, 92, 94, 96, 98, 100}\n"
     ]
    }
   ],
   "source": [
    "Evens = set()\n",
    "\n",
    "for i in Universe:\n",
    "    if i %2 == 0:\n",
    "        Evens.add(i)\n",
    "print(Evens)"
   ]
  },
  {
   "cell_type": "code",
   "execution_count": 60,
   "id": "59571b3c",
   "metadata": {},
   "outputs": [
    {
     "name": "stdout",
     "output_type": "stream",
     "text": [
      "{2, 4, 6, 8, 10, 12, 14, 16, 18, 20, 22, 24, 26, 28, 30, 32, 34, 36, 38, 40, 42, 44, 46, 48, 50, 52, 54, 56, 58, 60, 62, 64, 66, 68, 70, 72, 74, 76, 78, 80, 82, 84, 86, 88, 90, 92, 94, 96, 98, 100}\n"
     ]
    }
   ],
   "source": [
    "Evens_comp = {x for x in Universe if x%2 == 0}\n",
    "print(Evens_comp)"
   ]
  },
  {
   "cell_type": "code",
   "execution_count": 61,
   "id": "81a053bb",
   "metadata": {},
   "outputs": [
    {
     "name": "stdout",
     "output_type": "stream",
     "text": [
      "True\n"
     ]
    }
   ],
   "source": [
    "print(Evens_comp == Evens)"
   ]
  },
  {
   "cell_type": "code",
   "execution_count": 63,
   "id": "7cfca671",
   "metadata": {},
   "outputs": [
    {
     "name": "stdout",
     "output_type": "stream",
     "text": [
      "{256, 1024, 2304, 4096, 4, 900, 1156, 3844, 4356, 6400, 8836, 9604, 10000, 16, 144, 400, 784, 1296, 1936, 2704, 3600, 4624, 5776, 9216, 36, 676, 1444, 3364, 4900, 8100, 7056, 7744, 64, 576, 1600, 3136, 196, 324, 2116, 2500, 5184, 6084, 6724, 8464, 100, 484, 1764, 2916, 5476, 7396}\n"
     ]
    }
   ],
   "source": [
    "Evens_comp = {x**2 for x in Universe if x%2 == 0}\n",
    "print(Evens_comp)"
   ]
  },
  {
   "cell_type": "code",
   "execution_count": 68,
   "id": "f1c19fb0",
   "metadata": {},
   "outputs": [
    {
     "name": "stdout",
     "output_type": "stream",
     "text": [
      "{1, 3, 5, 7, 9, 11, 13, 15, 17, 19, 21, 23, 25, 27, 29, 31, 33, 35, 37, 39, 41, 43, 45, 47, 49, 51, 53, 55, 57, 59, 61, 63, 65, 67, 69, 71, 73, 75, 77, 79, 81, 83, 85, 87, 89, 91, 93, 95, 97, 99}\n"
     ]
    }
   ],
   "source": [
    "odds_comp = {x for x in Universe if x%2 != 0}\n",
    "print(odds_comp)"
   ]
  },
  {
   "cell_type": "code",
   "execution_count": 70,
   "id": "920068b2",
   "metadata": {},
   "outputs": [
    {
     "name": "stdout",
     "output_type": "stream",
     "text": [
      "{1, 2, 3, 4, 5, 6, 7, 8, 9, 10, 11, 12, 13, 14, 15, 16, 17, 18, 19, 20, 21, 22, 23, 24, 25, 26, 27, 28, 29, 30, 31, 32, 33, 34, 35, 36, 37, 38, 39, 40, 41, 42, 43, 44, 45, 46, 47, 48, 49, 50}\n"
     ]
    }
   ],
   "source": [
    "HalfOne = {x for x in Universe if x <= 50}\n",
    "print(HalfOne)"
   ]
  },
  {
   "cell_type": "code",
   "execution_count": 76,
   "id": "8d347440",
   "metadata": {},
   "outputs": [
    {
     "name": "stdout",
     "output_type": "stream",
     "text": [
      "{3, 6, 9, 12, 15, 18, 21, 24, 27, 30, 33, 36, 39, 42, 45, 48, 51, 54, 57, 60, 63, 66, 69, 72, 75, 78, 81, 84, 87, 90, 93, 96, 99}\n",
      "{4, 8, 12, 16, 20, 24, 28, 32, 36, 40, 44, 48, 52, 56, 60, 64, 68, 72, 76, 80, 84, 88, 92, 96, 100}\n",
      "{5, 10, 15, 20, 25, 30, 35, 40, 45, 50, 55, 60, 65, 70, 75, 80, 85, 90, 95, 100}\n"
     ]
    }
   ],
   "source": [
    "Div3 = {x for x in Universe if x %3 == 0}\n",
    "Div4 = {x for x in Universe if x %4 == 0}\n",
    "Div5 = {x for x in Universe if x %5 == 0}\n",
    "\n",
    "print(Div3)\n",
    "print(Div4)\n",
    "print(Div5)"
   ]
  },
  {
   "cell_type": "code",
   "execution_count": 79,
   "id": "af3b2707",
   "metadata": {},
   "outputs": [
    {
     "name": "stdout",
     "output_type": "stream",
     "text": [
      "{96, 36, 72, 12, 48, 84, 24, 60}\n",
      "{96, 36, 72, 12, 48, 84, 24, 60}\n"
     ]
    }
   ],
   "source": [
    "print(Div3 & Div4) #intersection"
   ]
  },
  {
   "cell_type": "code",
   "execution_count": 86,
   "id": "e6b8d5d6",
   "metadata": {},
   "outputs": [
    {
     "name": "stdout",
     "output_type": "stream",
     "text": [
      "{3, 5, 6, 9, 10, 12, 15, 18, 20, 21, 24, 25, 27, 30, 33, 35, 36, 39, 40, 42, 45, 48, 50, 51, 54, 55, 57, 60, 63, 65, 66, 69, 70, 72, 75, 78, 80, 81, 84, 85, 87, 90, 93, 95, 96, 99, 100}\n"
     ]
    }
   ],
   "source": [
    "print(Div3 | Div5) #union"
   ]
  },
  {
   "cell_type": "code",
   "execution_count": 89,
   "id": "28579455",
   "metadata": {},
   "outputs": [
    {
     "name": "stdout",
     "output_type": "stream",
     "text": [
      "{3, 6, 9, 12, 18, 21, 24, 27, 33, 36, 39, 42, 48, 51, 54, 57, 63, 66, 69, 72, 78, 81, 84, 87, 93, 96, 99}\n"
     ]
    }
   ],
   "source": [
    "print(Div3 - Div5) #difference"
   ]
  },
  {
   "cell_type": "code",
   "execution_count": 90,
   "id": "b83c4d4a",
   "metadata": {},
   "outputs": [
    {
     "name": "stdout",
     "output_type": "stream",
     "text": [
      "{3, 5, 6, 9, 10, 12, 18, 20, 21, 24, 25, 27, 33, 35, 36, 39, 40, 42, 48, 50, 51, 54, 55, 57, 63, 65, 66, 69, 70, 72, 78, 80, 81, 84, 85, 87, 93, 95, 96, 99, 100}\n"
     ]
    }
   ],
   "source": [
    "print(Div3 ^ Div5) #symmetric_difference"
   ]
  },
  {
   "cell_type": "code",
   "execution_count": 93,
   "id": "7a4d2968",
   "metadata": {},
   "outputs": [
    {
     "name": "stdout",
     "output_type": "stream",
     "text": [
      "{1, 3, 5, 7, 9, 11, 13, 15, 17, 19, 21, 23, 25, 27, 29, 31, 33, 35, 37, 39, 41, 43, 45, 47, 49, 51, 53, 55, 57, 59, 61, 63, 65, 67, 69, 71, 73, 75, 77, 79, 81, 83, 85, 87, 89, 91, 93, 95, 97, 99}\n"
     ]
    }
   ],
   "source": [
    "def comp(a_set):\n",
    "    return Universe - a_set\n",
    "\n",
    "print(comp(Evens))"
   ]
  },
  {
   "cell_type": "code",
   "execution_count": 95,
   "id": "f6eeadd8",
   "metadata": {},
   "outputs": [
    {
     "data": {
      "text/plain": [
       "True"
      ]
     },
     "execution_count": 95,
     "metadata": {},
     "output_type": "execute_result"
    }
   ],
   "source": [
    "Div3 | (Div4 & Div5) == ((Div3 | Div4) & (Div3 | Div5)) "
   ]
  },
  {
   "cell_type": "code",
   "execution_count": null,
   "id": "6047819b",
   "metadata": {},
   "outputs": [],
   "source": []
  }
 ],
 "metadata": {
  "kernelspec": {
   "display_name": "Python 3 (ipykernel)",
   "language": "python",
   "name": "python3"
  },
  "language_info": {
   "codemirror_mode": {
    "name": "ipython",
    "version": 3
   },
   "file_extension": ".py",
   "mimetype": "text/x-python",
   "name": "python",
   "nbconvert_exporter": "python",
   "pygments_lexer": "ipython3",
   "version": "3.10.6"
  }
 },
 "nbformat": 4,
 "nbformat_minor": 5
}
