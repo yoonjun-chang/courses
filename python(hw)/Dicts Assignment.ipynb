{
 "cells": [
  {
   "cell_type": "markdown",
   "metadata": {},
   "source": [
    "## Problem 1\n",
    "There are 5 students in a class who have taken a test and received scores as follows.  Tom got a 75. Joe Got a 65. Alice got an 85. Bob got a 45. Jane got a 99.  Create two lists, names and scores, to hold this information. "
   ]
  },
  {
   "cell_type": "code",
   "execution_count": 1,
   "metadata": {},
   "outputs": [],
   "source": [
    "names = [\"Tom\", \"Joe\", \"Alice\", \"Bob\", \"Jane\"]\n",
    "scores = [75, 65, 85, 45, 99]"
   ]
  },
  {
   "cell_type": "markdown",
   "metadata": {},
   "source": [
    "## Problem 2\n",
    "\n",
    "Create a function make_score_dict. The function has two parameters: names and scores, both of which are lists. It returns a dictionary in which the keys are the names and the values are the scores. Test your function with the names and scores you create in Problem 1. Print the dictionary returned by the function. You should have named the returned dictionary score_dict."
   ]
  },
  {
   "cell_type": "code",
   "execution_count": 2,
   "metadata": {},
   "outputs": [
    {
     "name": "stdout",
     "output_type": "stream",
     "text": [
      "{'Tom': 75, 'Joe': 65, 'Alice': 85, 'Bob': 45, 'Jane': 99}\n"
     ]
    }
   ],
   "source": [
    "def make_score_dict(x,y):\n",
    "    d = {}\n",
    "    for key, value in zip(x,y):\n",
    "        d[key] = d.get(key,0) + value\n",
    "    return d\n",
    "score_dict = make_score_dict(names,scores)\n",
    "print(score_dict)"
   ]
  },
  {
   "cell_type": "markdown",
   "metadata": {},
   "source": [
    "## Problem 3\n",
    "\n",
    "Using score_dict, find the score for Joe."
   ]
  },
  {
   "cell_type": "code",
   "execution_count": 3,
   "metadata": {},
   "outputs": [
    {
     "name": "stdout",
     "output_type": "stream",
     "text": [
      "65\n"
     ]
    }
   ],
   "source": [
    "print(score_dict[\"Joe\"])"
   ]
  },
  {
   "cell_type": "markdown",
   "metadata": {},
   "source": [
    "## Problem 4\n",
    "\n",
    "Oops, we forgot Ralph.  Add him to the dictionary with a score of 80 and display the result."
   ]
  },
  {
   "cell_type": "code",
   "execution_count": 4,
   "metadata": {},
   "outputs": [
    {
     "name": "stdout",
     "output_type": "stream",
     "text": [
      "{'Tom': 75, 'Joe': 65, 'Alice': 85, 'Bob': 45, 'Jane': 99, 'Ralph': 80}\n"
     ]
    }
   ],
   "source": [
    "score_dict[\"Ralph\"] = 80\n",
    "print(score_dict)"
   ]
  },
  {
   "cell_type": "markdown",
   "metadata": {},
   "source": [
    "## Problem 5\n",
    "\n",
    "Oops again!! Bob's score was supposed to be 75.  Fix that in the doctionary and display the result."
   ]
  },
  {
   "cell_type": "code",
   "execution_count": 5,
   "metadata": {},
   "outputs": [
    {
     "name": "stdout",
     "output_type": "stream",
     "text": [
      "{'Tom': 75, 'Joe': 65, 'Alice': 85, 'Bob': 75, 'Jane': 99, 'Ralph': 80}\n"
     ]
    }
   ],
   "source": [
    "score_dict[\"Bob\"] = 75\n",
    "print(score_dict)"
   ]
  },
  {
   "cell_type": "markdown",
   "metadata": {},
   "source": [
    "## Problem 6.\n",
    "\n",
    "I regret to inform you that our best student, Jane has dropped the class.  Delete her from the dictionary and display the result."
   ]
  },
  {
   "cell_type": "code",
   "execution_count": 6,
   "metadata": {},
   "outputs": [
    {
     "name": "stdout",
     "output_type": "stream",
     "text": [
      "{'Tom': 75, 'Joe': 65, 'Alice': 85, 'Bob': 75, 'Ralph': 80}\n"
     ]
    }
   ],
   "source": [
    "del score_dict[\"Jane\"]\n",
    "print(score_dict)"
   ]
  },
  {
   "cell_type": "code",
   "execution_count": null,
   "metadata": {},
   "outputs": [],
   "source": []
  }
 ],
 "metadata": {
  "kernelspec": {
   "display_name": "Python 3 (ipykernel)",
   "language": "python",
   "name": "python3"
  },
  "language_info": {
   "codemirror_mode": {
    "name": "ipython",
    "version": 3
   },
   "file_extension": ".py",
   "mimetype": "text/x-python",
   "name": "python",
   "nbconvert_exporter": "python",
   "pygments_lexer": "ipython3",
   "version": "3.10.6"
  }
 },
 "nbformat": 4,
 "nbformat_minor": 4
}
