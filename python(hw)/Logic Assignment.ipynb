{
 "cells": [
  {
   "cell_type": "markdown",
   "metadata": {},
   "source": [
    "# Logic Assignment\n",
    "The following problems are based on Chapter 1 of the 3rd edition of the Finite Math text found at https://math.dartmouth.edu/~doyle/docs/finite/fm3/scan/1.pdf"
   ]
  },
  {
   "cell_type": "markdown",
   "metadata": {},
   "source": [
    "## Problem 1\n",
    "Do Exercise 1 a on page 10 using nested for loops."
   ]
  },
  {
   "cell_type": "code",
   "execution_count": 2,
   "metadata": {},
   "outputs": [
    {
     "name": "stdout",
     "output_type": "stream",
     "text": [
      "[True, True]\n"
     ]
    }
   ],
   "source": [
    "TV = [True,False]\n",
    "exp1 = []\n",
    "\n",
    "for q in TV:\n",
    "    exp1.append(q or not q)\n",
    "    \n",
    "print(exp1)"
   ]
  },
  {
   "cell_type": "markdown",
   "metadata": {},
   "source": [
    "## Problem 2\n",
    "Do Exercise 9 a on page 10 using nested for loops."
   ]
  },
  {
   "cell_type": "code",
   "execution_count": 6,
   "metadata": {
    "scrolled": true
   },
   "outputs": [
    {
     "name": "stdout",
     "output_type": "stream",
     "text": [
      "[True, False, True, True] [True, True, False, True]\n",
      "[True, False, False, True]\n"
     ]
    }
   ],
   "source": [
    "exp1 = []\n",
    "exp2 = []\n",
    "\n",
    "for p in TV:\n",
    "    for q in TV:\n",
    "        exp1.append(not p or q)\n",
    "        exp2.append(p or not q)\n",
    "print(exp1,exp2)\n",
    "\n",
    "exp3 = [p and q for p, q in zip(exp1, exp2)]\n",
    "print(exp3)"
   ]
  },
  {
   "cell_type": "markdown",
   "metadata": {},
   "source": [
    "## Problem 3\n",
    "Do Exercise 2 b on page 14 using nested for loops."
   ]
  },
  {
   "cell_type": "code",
   "execution_count": 9,
   "metadata": {},
   "outputs": [
    {
     "name": "stdout",
     "output_type": "stream",
     "text": [
      "[True, True, True, True]\n"
     ]
    }
   ],
   "source": [
    "exp1 = []\n",
    "exp2 = []\n",
    "\n",
    "for p in TV:\n",
    "    for q in TV:\n",
    "        exp1.append(p and q)\n",
    "        exp2.append(p or q)\n",
    "\n",
    "def implies(p,q):\n",
    "    return not p or q\n",
    "\n",
    "exp3 = []\n",
    "        \n",
    "exp3 = [implies(p,q) for p, q in zip(exp1, exp2)]\n",
    "print(exp3)"
   ]
  },
  {
   "cell_type": "code",
   "execution_count": null,
   "metadata": {},
   "outputs": [],
   "source": []
  }
 ],
 "metadata": {
  "kernelspec": {
   "display_name": "Python 3 (ipykernel)",
   "language": "python",
   "name": "python3"
  },
  "language_info": {
   "codemirror_mode": {
    "name": "ipython",
    "version": 3
   },
   "file_extension": ".py",
   "mimetype": "text/x-python",
   "name": "python",
   "nbconvert_exporter": "python",
   "pygments_lexer": "ipython3",
   "version": "3.10.6"
  }
 },
 "nbformat": 4,
 "nbformat_minor": 4
}
