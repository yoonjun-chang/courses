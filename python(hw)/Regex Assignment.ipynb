{
 "cells": [
  {
   "cell_type": "markdown",
   "metadata": {},
   "source": [
    "## Problem 1\n",
    "\n",
    "Create a regular expression to identify a string beginning with \"C\" and ending with \"s\".\n",
    "\n",
    "Test it with the following strings:\n",
    "    \n",
    "\"Charles\"\n",
    "\n",
    "\"Charles \"\n",
    "\n"
   ]
  },
  {
   "cell_type": "code",
   "execution_count": 10,
   "metadata": {},
   "outputs": [
    {
     "name": "stdout",
     "output_type": "stream",
     "text": [
      "Charles: Yes\n",
      "Charles : No\n"
     ]
    }
   ],
   "source": [
    "import re\n",
    "\n",
    "exp = \"Charles\"\n",
    "exp1 = \"Charles \"\n",
    "\n",
    "print(\"Charles:\", end = \" \")\n",
    "if re.search(\"^C[a-z]+s$\", exp):\n",
    "    print(\"Yes\")\n",
    "else:\n",
    "    print(\"No\")\n",
    "\n",
    "print(\"Charles :\", end = \" \")\n",
    "if re.search(\"^C[a-z]+s$\", exp1):\n",
    "    print(\"Yes\")\n",
    "else:\n",
    "    print(\"No\")"
   ]
  },
  {
   "cell_type": "markdown",
   "metadata": {},
   "source": [
    "## Problem 2\n",
    "\n",
    "Create a regular expression to identify a string with a blank space followed by three digits followed by two blank spaces followed by two lower case letters.\n",
    "\n",
    "Test it once with a string that matches and once with a string that does not match."
   ]
  },
  {
   "cell_type": "code",
   "execution_count": 13,
   "metadata": {},
   "outputs": [
    {
     "name": "stdout",
     "output_type": "stream",
     "text": [
      "Expression #1: Yes\n",
      "Expression #2: No\n"
     ]
    }
   ],
   "source": [
    "exp = \" 123  ab\"\n",
    "exp1 = \" 12 abc\"\n",
    "\n",
    "print(\"Expression #1:\", end = \" \")\n",
    "if re.search(\"\\s{1}\\d{3}\\s{2}\\w{2}\", exp):\n",
    "    print(\"Yes\")\n",
    "else:\n",
    "    print(\"No\")\n",
    "\n",
    "print(\"Expression #2:\", end = \" \")    \n",
    "if re.search(\"\\s{1}\\d{3}\\s{2}\\w{2}\", exp1):\n",
    "    print(\"Yes\")\n",
    "else:\n",
    "    print(\"No\")"
   ]
  },
  {
   "cell_type": "markdown",
   "metadata": {},
   "source": [
    "## Problem 3\n",
    "\n",
    "Use a regular expression to count the number of times the word \"Raven\" or \"raven\" appears in the file \"the raven.txt\""
   ]
  },
  {
   "cell_type": "code",
   "execution_count": 54,
   "metadata": {},
   "outputs": [
    {
     "name": "stdout",
     "output_type": "stream",
     "text": [
      "['Raven']\n",
      "['Raven']\n",
      "['Raven']\n",
      "['Raven']\n",
      "['Raven']\n",
      "['Raven']\n",
      "['Raven']\n",
      "['Raven']\n",
      "['Raven']\n",
      "['Raven']\n",
      "10\n"
     ]
    }
   ],
   "source": [
    "fname = open(\"The Raven.txt\", \"r\")\n",
    "\n",
    "count = 0\n",
    "for line in fname:\n",
    "    found = re.findall(\"Raven| raven\", line)\n",
    "    if len(found) > 0:\n",
    "        print(found)\n",
    "        count += len(found)\n",
    "print(count)"
   ]
  },
  {
   "cell_type": "code",
   "execution_count": null,
   "metadata": {},
   "outputs": [],
   "source": []
  }
 ],
 "metadata": {
  "kernelspec": {
   "display_name": "Python 3 (ipykernel)",
   "language": "python",
   "name": "python3"
  },
  "language_info": {
   "codemirror_mode": {
    "name": "ipython",
    "version": 3
   },
   "file_extension": ".py",
   "mimetype": "text/x-python",
   "name": "python",
   "nbconvert_exporter": "python",
   "pygments_lexer": "ipython3",
   "version": "3.10.6"
  }
 },
 "nbformat": 4,
 "nbformat_minor": 4
}
