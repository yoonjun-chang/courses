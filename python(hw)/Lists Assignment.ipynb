{
 "cells": [
  {
   "cell_type": "markdown",
   "metadata": {},
   "source": [
    "# Lists Assignment"
   ]
  },
  {
   "cell_type": "markdown",
   "metadata": {},
   "source": [
    "## Problem 1\n",
    "\n",
    "Convert the string \"Silent night, holy night\" to a list of characters, char_list. Then print char_list."
   ]
  },
  {
   "cell_type": "code",
   "execution_count": 1,
   "metadata": {},
   "outputs": [
    {
     "name": "stdout",
     "output_type": "stream",
     "text": [
      "['S', 'i', 'l', 'e', 'n', 't', ' ', 'n', 'i', 'g', 'h', 't', ',', ' ', 'h', 'o', 'l', 'y', ' ', 'n', 'i', 'g', 'h', 't']\n"
     ]
    }
   ],
   "source": [
    "myString = \"Silent night, holy night\"\n",
    "char_list = list(myString)\n",
    "print(char_list)"
   ]
  },
  {
   "cell_type": "markdown",
   "metadata": {},
   "source": [
    "## Problem 2\n",
    "Convert the string above to a list of words, word_list. Then print word_list. A word is defined as a sequence of non-blank characters.\n"
   ]
  },
  {
   "cell_type": "code",
   "execution_count": 2,
   "metadata": {},
   "outputs": [
    {
     "name": "stdout",
     "output_type": "stream",
     "text": [
      "['Silent', 'night,', 'holy', 'night']\n"
     ]
    }
   ],
   "source": [
    "word_list = list(myString.split())\n",
    "print(word_list)"
   ]
  },
  {
   "cell_type": "markdown",
   "metadata": {},
   "source": [
    "## Problem 3\n",
    "Extend word_list so that it also contains two more items, the words \"merry\" and \"Christmas\". Call the new list word_list_2. Print it."
   ]
  },
  {
   "cell_type": "code",
   "execution_count": 3,
   "metadata": {},
   "outputs": [
    {
     "name": "stdout",
     "output_type": "stream",
     "text": [
      "['Silent', 'night,', 'holy', 'night', 'merry', 'Christmas']\n"
     ]
    }
   ],
   "source": [
    "word_list.append(\"merry\")\n",
    "word_list.append(\"Christmas\")\n",
    "word_list_2 = word_list\n",
    "print(word_list_2)"
   ]
  },
  {
   "cell_type": "markdown",
   "metadata": {},
   "source": [
    "## Problem 4\n",
    "Modify word_list_2 by emoving the \"word\" which contains a comma. Print this list.\n"
   ]
  },
  {
   "cell_type": "code",
   "execution_count": 4,
   "metadata": {},
   "outputs": [
    {
     "name": "stdout",
     "output_type": "stream",
     "text": [
      "['Silent', 'holy', 'night', 'merry', 'Christmas']\n"
     ]
    }
   ],
   "source": [
    "word_list_2.pop(1)\n",
    "print(word_list_2)"
   ]
  },
  {
   "cell_type": "markdown",
   "metadata": {},
   "source": [
    "## Problem 5\n",
    "\n",
    "Sometimes we would like to preserve an original list before we modify it in some way. As an example, suppose we have list_1, which contains the letters A, B, C and D.  We want to hold onto this list and also have a new list, list_2, which contains the letter X inserted between B and C, in addition to the original members of list_1. The following code looks like it should work. In the markdown cell following the code, explain what happened. "
   ]
  },
  {
   "cell_type": "code",
   "execution_count": 5,
   "metadata": {},
   "outputs": [
    {
     "name": "stdout",
     "output_type": "stream",
     "text": [
      "['A', 'B', 'X', 'C', 'D']\n",
      "['A', 'B', 'X', 'C', 'D']\n"
     ]
    }
   ],
   "source": [
    "# Create list_1\n",
    "list_1 = [\"A\",\"B\",\"C\",\"D\"]\n",
    "\n",
    "# Make a copy in list_2\n",
    "list_2 = list_1\n",
    "\n",
    "# Modify list_2\n",
    "list_2.insert(2,\"X\")\n",
    "\n",
    "# Check list_2\n",
    "print(list_2)\n",
    "\n",
    "# Check list_1\n",
    "print(list_1)"
   ]
  },
  {
   "cell_type": "markdown",
   "metadata": {},
   "source": [
    "## Answer to Problem 5\n",
    "\n",
    "Explain what happened.\n",
    "\n"
   ]
  },
  {
   "cell_type": "markdown",
   "metadata": {},
   "source": [
    "The list_1 and list_2 are considered as identical because they are same objects since list_2 is also referring to the same list as list_1 is referring to. Therefore, if you make changes to either one, it is gonna affect the other list as well."
   ]
  },
  {
   "cell_type": "markdown",
   "metadata": {},
   "source": [
    "## Problem 6\n",
    "\n",
    "Modify the code in Problem 5 so that it works."
   ]
  },
  {
   "cell_type": "code",
   "execution_count": 6,
   "metadata": {},
   "outputs": [
    {
     "name": "stdout",
     "output_type": "stream",
     "text": [
      "['A', 'B', 'X', 'C', 'D']\n",
      "['A', 'B', 'C', 'D']\n"
     ]
    }
   ],
   "source": [
    "# Create list_1\n",
    "list_1 = [\"A\",\"B\",\"C\",\"D\"]\n",
    "\n",
    "# Make a copy in list_2\n",
    "list_2 = list(list_1)\n",
    "\n",
    "# Modify list_2\n",
    "list_2.insert(2,\"X\")\n",
    "\n",
    "# Check list_2\n",
    "print(list_2)\n",
    "\n",
    "# Check list_1\n",
    "print(list_1)"
   ]
  }
 ],
 "metadata": {
  "kernelspec": {
   "display_name": "Python 3 (ipykernel)",
   "language": "python",
   "name": "python3"
  },
  "language_info": {
   "codemirror_mode": {
    "name": "ipython",
    "version": 3
   },
   "file_extension": ".py",
   "mimetype": "text/x-python",
   "name": "python",
   "nbconvert_exporter": "python",
   "pygments_lexer": "ipython3",
   "version": "3.9.12"
  }
 },
 "nbformat": 4,
 "nbformat_minor": 4
}
