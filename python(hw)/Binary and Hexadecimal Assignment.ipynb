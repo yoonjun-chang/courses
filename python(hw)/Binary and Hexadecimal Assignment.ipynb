{
 "cells": [
  {
   "cell_type": "markdown",
   "metadata": {},
   "source": [
    "# Binary and Hexadecimal Assignment"
   ]
  },
  {
   "cell_type": "markdown",
   "metadata": {},
   "source": [
    "## Problem 1 \n",
    "\n",
    "Write python code to calculate the decimal value of the binary integer represented by the string \"11110101\". Your code should show how this string is interpreted as a sum of powers of 2."
   ]
  },
  {
   "cell_type": "code",
   "execution_count": 3,
   "metadata": {},
   "outputs": [
    {
     "name": "stdout",
     "output_type": "stream",
     "text": [
      "245\n"
     ]
    }
   ],
   "source": [
    "s = \"11110101\"\n",
    "exp = len(s) - 1\n",
    "sum = 0\n",
    "\n",
    "for c in s:\n",
    "    sum += int(c) * (2**exp)\n",
    "    exp -= 1  \n",
    "    \n",
    "print(sum)"
   ]
  },
  {
   "cell_type": "markdown",
   "metadata": {},
   "source": [
    "# Problem 2\n",
    "\n",
    "Use a python utility function to do the conversion you did in Problem 1."
   ]
  },
  {
   "cell_type": "code",
   "execution_count": 4,
   "metadata": {},
   "outputs": [
    {
     "name": "stdout",
     "output_type": "stream",
     "text": [
      "245\n"
     ]
    }
   ],
   "source": [
    "print(int('11110101',2))"
   ]
  },
  {
   "cell_type": "markdown",
   "metadata": {},
   "source": [
    "## Problem 3\n",
    "\n",
    "Write python code to calculate the decimal value of the hexadecimal integer represented by the string \"FF2E\". Your code should show how this string is interpreted as a sum of powers of 16. Hint: Start by creating a dictionary to show the decimal value of the hexadecimal digits 0 through F.\n"
   ]
  },
  {
   "cell_type": "code",
   "execution_count": 5,
   "metadata": {
    "scrolled": true
   },
   "outputs": [
    {
     "name": "stdout",
     "output_type": "stream",
     "text": [
      "{'0': 0, '1': 1, '2': 2, '3': 3, '4': 4, '5': 5, '6': 6, '7': 7, '8': 8, '9': 9, 'A': 10, 'B': 11, 'C': 12, 'D': 13, 'E': 14, 'F': 15}\n",
      "65326\n"
     ]
    }
   ],
   "source": [
    "s = \"0123456789ABCDEF\"\n",
    "d = {}\n",
    "num = 0\n",
    "for c in s:\n",
    "    d[c] = d.get(c,0) + num\n",
    "    num +=1\n",
    "print(d)\n",
    "\n",
    "s = \"FF2E\"\n",
    "exp = len(s) - 1\n",
    "sum = 0\n",
    "for c in s:\n",
    "    sum += d[c] * (16**exp)\n",
    "    exp -= 1  \n",
    "print(sum)"
   ]
  },
  {
   "cell_type": "markdown",
   "metadata": {},
   "source": [
    "## Problem 4\n",
    "\n",
    "Use a python utility function to do the conversion you did in Problem 3."
   ]
  },
  {
   "cell_type": "code",
   "execution_count": 6,
   "metadata": {},
   "outputs": [
    {
     "name": "stdout",
     "output_type": "stream",
     "text": [
      "65326\n"
     ]
    }
   ],
   "source": [
    "print(int('FF2E',16))"
   ]
  }
 ],
 "metadata": {
  "kernelspec": {
   "display_name": "Python 3 (ipykernel)",
   "language": "python",
   "name": "python3"
  },
  "language_info": {
   "codemirror_mode": {
    "name": "ipython",
    "version": 3
   },
   "file_extension": ".py",
   "mimetype": "text/x-python",
   "name": "python",
   "nbconvert_exporter": "python",
   "pygments_lexer": "ipython3",
   "version": "3.9.12"
  }
 },
 "nbformat": 4,
 "nbformat_minor": 4
}
