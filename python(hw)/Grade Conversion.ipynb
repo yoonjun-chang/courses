{
 "cells": [
  {
   "cell_type": "markdown",
   "metadata": {},
   "source": [
    "## Problem 1\n",
    "\n",
    "In the following code cell, I have place the first few lines of a grade conversion program. The purpose is to print a letter grade based on a numerical grade using the table in the syllabus for this course.  Your task is to create the remainder of the program.  I have used a numerical grade of 96 as an example. Your program should be able to work with any value from 0 to 100\n",
    "\n"
   ]
  },
  {
   "cell_type": "code",
   "execution_count": 2,
   "metadata": {},
   "outputs": [
    {
     "name": "stdout",
     "output_type": "stream",
     "text": [
      "The numerical grade is 96 and The letter grade is A\n"
     ]
    }
   ],
   "source": [
    "try:\n",
    "    numerical_grade = 96\n",
    "\n",
    "    if numerical_grade <= 100 and numerical_grade >=0:\n",
    "        if numerical_grade >= 95:\n",
    "            letter_grade = \"A\"\n",
    "        \n",
    "        elif numerical_grade >= 90:\n",
    "            letter_grade = 'A-'\n",
    "            \n",
    "        elif numerical_grade >= 86:\n",
    "            letter_grade = 'B+'\n",
    "\n",
    "        elif numerical_grade >= 83:\n",
    "            letter_grade = 'B'\n",
    "        \n",
    "        elif numerical_grade >= 80:\n",
    "            letter_grade = 'B-'\n",
    "\n",
    "        elif numerical_grdae >= 76:\n",
    "            letter_grade = 'C+'\n",
    "            \n",
    "        elif numerical_grade >= 73:\n",
    "            letter_grade = 'C'\n",
    "            \n",
    "        elif numerical_grade >= 70:\n",
    "            letter_grade = 'C-'\n",
    "\n",
    "        elif numerical_grade >= 65:\n",
    "            letter_grade = 'D+'\n",
    "        \n",
    "        elif numerical_grade >= 60:\n",
    "            letter_grade = 'D'\n",
    "\n",
    "        elif numerical_grade >= 0:\n",
    "            letter_grade = 'F'\n",
    "\n",
    "        print(\"The numerical grade is\",numerical_grade,\"and The letter grade is\",letter_grade)\n",
    "    else:\n",
    "        print(\"Out of range\")\n",
    "except:\n",
    "    print(\"Bad input\")"
   ]
  },
  {
   "cell_type": "markdown",
   "metadata": {},
   "source": [
    "## Problem 2\n",
    "\n",
    "Copy the code, but change the numerical grade to 80."
   ]
  },
  {
   "cell_type": "code",
   "execution_count": 3,
   "metadata": {},
   "outputs": [
    {
     "name": "stdout",
     "output_type": "stream",
     "text": [
      "The numerical grade is 80 and The letter grade is B-\n"
     ]
    }
   ],
   "source": [
    "try:\n",
    "    numerical_grade = 80\n",
    "\n",
    "    if numerical_grade <= 100 and numerical_grade >=0:\n",
    "        if numerical_grade >= 95:\n",
    "            letter_grade = \"A\"\n",
    "        \n",
    "        elif numerical_grade >= 90:\n",
    "            letter_grade = 'A-'\n",
    "            \n",
    "        elif numerical_grade >= 86:\n",
    "            letter_grade = 'B+'\n",
    "\n",
    "        elif numerical_grade >= 83:\n",
    "            letter_grade = 'B'\n",
    "        \n",
    "        elif numerical_grade >= 80:\n",
    "            letter_grade = 'B-'\n",
    "\n",
    "        elif numerical_grdae >= 76:\n",
    "            letter_grade = 'C+'\n",
    "            \n",
    "        elif numerical_grade >= 73:\n",
    "            letter_grade = 'C'\n",
    "            \n",
    "        elif numerical_grade >= 70:\n",
    "            letter_grade = 'C-'\n",
    "\n",
    "        elif numerical_grade >= 65:\n",
    "            letter_grade = 'D+'\n",
    "        \n",
    "        elif numerical_grade >= 60:\n",
    "            letter_grade = 'D'\n",
    "\n",
    "        elif numerical_grade >= 0:\n",
    "            letter_grade = 'F'\n",
    "\n",
    "        print(\"The numerical grade is\",numerical_grade,\"and The letter grade is\",letter_grade)\n",
    "    else:\n",
    "        print(\"Out of range\")\n",
    "except:\n",
    "    print(\"Bad input\")"
   ]
  },
  {
   "cell_type": "markdown",
   "metadata": {},
   "source": [
    "## Problem 3\n",
    "\n",
    "Copy the code, but change the numerical grade to 81.\n"
   ]
  },
  {
   "cell_type": "code",
   "execution_count": 4,
   "metadata": {},
   "outputs": [
    {
     "name": "stdout",
     "output_type": "stream",
     "text": [
      "The numerical grade is 81 and The letter grade is B-\n"
     ]
    }
   ],
   "source": [
    "try:\n",
    "    numerical_grade = 81\n",
    "\n",
    "    if numerical_grade <= 100 and numerical_grade >=0:\n",
    "        if numerical_grade >= 95:\n",
    "            letter_grade = \"A\"\n",
    "        \n",
    "        elif numerical_grade >= 90:\n",
    "            letter_grade = 'A-'\n",
    "            \n",
    "        elif numerical_grade >= 86:\n",
    "            letter_grade = 'B+'\n",
    "\n",
    "        elif numerical_grade >= 83:\n",
    "            letter_grade = 'B'\n",
    "        \n",
    "        elif numerical_grade >= 80:\n",
    "            letter_grade = 'B-'\n",
    "\n",
    "        elif numerical_grdae >= 76:\n",
    "            letter_grade = 'C+'\n",
    "            \n",
    "        elif numerical_grade >= 73:\n",
    "            letter_grade = 'C'\n",
    "            \n",
    "        elif numerical_grade >= 70:\n",
    "            letter_grade = 'C-'\n",
    "\n",
    "        elif numerical_grade >= 65:\n",
    "            letter_grade = 'D+'\n",
    "        \n",
    "        elif numerical_grade >= 60:\n",
    "            letter_grade = 'D'\n",
    "\n",
    "        elif numerical_grade >= 0:\n",
    "            letter_grade = 'F'\n",
    "\n",
    "        print(\"The numerical grade is\",numerical_grade,\"and The letter grade is\",letter_grade)\n",
    "    else:\n",
    "        print(\"Out of range\")\n",
    "except:\n",
    "    print(\"Bad input\")"
   ]
  },
  {
   "cell_type": "markdown",
   "metadata": {},
   "source": [
    "## Problem 4\n",
    "\n",
    "Copy the code, but change the numerical grade to 50.\n",
    "\n"
   ]
  },
  {
   "cell_type": "code",
   "execution_count": 5,
   "metadata": {},
   "outputs": [
    {
     "name": "stdout",
     "output_type": "stream",
     "text": [
      "The numerical grade is 50 and The letter grade is F\n"
     ]
    }
   ],
   "source": [
    "try:\n",
    "    numerical_grade = 50\n",
    "\n",
    "    if numerical_grade <= 100 and numerical_grade >=0:\n",
    "        if numerical_grade >= 95:\n",
    "            letter_grade = \"A\"\n",
    "        \n",
    "        elif numerical_grade >= 90:\n",
    "            letter_grade = 'A-'\n",
    "            \n",
    "        elif numerical_grade >= 86:\n",
    "            letter_grade = 'B+'\n",
    "\n",
    "        elif numerical_grade >= 83:\n",
    "            letter_grade = 'B'\n",
    "        \n",
    "        elif numerical_grade >= 80:\n",
    "            letter_grade = 'B-'\n",
    "\n",
    "        elif numerical_grade >= 76:\n",
    "            letter_grade = 'C+'\n",
    "            \n",
    "        elif numerical_grade >= 73:\n",
    "            letter_grade = 'C'\n",
    "            \n",
    "        elif numerical_grade >= 70:\n",
    "            letter_grade = 'C-'\n",
    "\n",
    "        elif numerical_grade >= 65:\n",
    "            letter_grade = 'D+'\n",
    "        \n",
    "        elif numerical_grade >= 60:\n",
    "            letter_grade = 'D'\n",
    "\n",
    "        elif numerical_grade >= 0:\n",
    "            letter_grade = 'F'\n",
    "\n",
    "        print(\"The numerical grade is\",numerical_grade,\"and The letter grade is\",letter_grade)\n",
    "    else:\n",
    "        print(\"Out of range\")\n",
    "except:\n",
    "    print(\"Bad input\")"
   ]
  },
  {
   "cell_type": "code",
   "execution_count": null,
   "metadata": {},
   "outputs": [],
   "source": []
  }
 ],
 "metadata": {
  "kernelspec": {
   "display_name": "Python 3 (ipykernel)",
   "language": "python",
   "name": "python3"
  },
  "language_info": {
   "codemirror_mode": {
    "name": "ipython",
    "version": 3
   },
   "file_extension": ".py",
   "mimetype": "text/x-python",
   "name": "python",
   "nbconvert_exporter": "python",
   "pygments_lexer": "ipython3",
   "version": "3.9.12"
  }
 },
 "nbformat": 4,
 "nbformat_minor": 4
}
