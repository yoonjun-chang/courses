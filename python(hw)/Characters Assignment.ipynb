{
 "cells": [
  {
   "cell_type": "markdown",
   "metadata": {},
   "source": [
    "# Characters Assignment\n",
    "\n",
    "I want you to find three examples of unfamiliar characters in the wild and use your unicode knowledge to investigate them. For each example, I want four things.\n",
    "\n",
    "1. Where did you find the example?  \n",
    "2. Display the sequence of codepoint values along with the characters as I did in class.\n",
    "3. Display the character names.\n",
    "4. What \"family\" does your sequence of characters come from."
   ]
  },
  {
   "cell_type": "markdown",
   "metadata": {},
   "source": [
    "## Example 1\n",
    "\n"
   ]
  },
  {
   "cell_type": "code",
   "execution_count": 8,
   "metadata": {},
   "outputs": [
    {
     "name": "stdout",
     "output_type": "stream",
     "text": [
      "か 12363 0x304b HIRAGANA LETTER KA\n",
      "た 12383 0x305f HIRAGANA LETTER TA\n",
      "か 12363 0x304b HIRAGANA LETTER KA\n",
      "な 12394 0x306a HIRAGANA LETTER NA\n"
     ]
    }
   ],
   "source": [
    "import unicodedata\n",
    "\n",
    "s = \"かたかな\"\n",
    "\n",
    "for c in s:\n",
    "    print(c, ord(c), hex(ord(c)), unicodedata.name(c))\n",
    "\n",
    "#1. google\n",
    "#4. Hiragana"
   ]
  },
  {
   "cell_type": "markdown",
   "metadata": {},
   "source": [
    "## Example 2\n"
   ]
  },
  {
   "cell_type": "code",
   "execution_count": 9,
   "metadata": {},
   "outputs": [
    {
     "name": "stdout",
     "output_type": "stream",
     "text": [
      "안 50504 0xc548 HANGUL SYLLABLE AN\n",
      "녕 45397 0xb155 HANGUL SYLLABLE NYEONG\n",
      "하 54616 0xd558 HANGUL SYLLABLE HA\n",
      "세 49464 0xc138 HANGUL SYLLABLE SE\n",
      "요 50836 0xc694 HANGUL SYLLABLE YO\n"
     ]
    }
   ],
   "source": [
    "s = \"안녕하세요\"\n",
    "\n",
    "for c in s:\n",
    "    print(c, ord(c), hex(ord(c)), unicodedata.name(c))\n",
    "    \n",
    "#1. google\n",
    "#4. Hangul"
   ]
  },
  {
   "cell_type": "markdown",
   "metadata": {},
   "source": [
    "## Example 3\n"
   ]
  },
  {
   "cell_type": "code",
   "execution_count": 11,
   "metadata": {},
   "outputs": [
    {
     "name": "stdout",
     "output_type": "stream",
     "text": [
      "ي 1610 0x64a ARABIC LETTER YEH\n",
      "ش 1588 0x634 ARABIC LETTER SHEEN\n",
      "ر 1585 0x631 ARABIC LETTER REH\n",
      "ب 1576 0x628 ARABIC LETTER BEH\n"
     ]
    }
   ],
   "source": [
    "s = \"يشرب\"\n",
    "\n",
    "for c in s:\n",
    "    print(c, ord(c), hex(ord(c)), unicodedata.name(c))\n",
    "    \n",
    "#1. google\n",
    "#4. Arabic "
   ]
  },
  {
   "cell_type": "code",
   "execution_count": null,
   "metadata": {},
   "outputs": [],
   "source": []
  }
 ],
 "metadata": {
  "kernelspec": {
   "display_name": "Python 3 (ipykernel)",
   "language": "python",
   "name": "python3"
  },
  "language_info": {
   "codemirror_mode": {
    "name": "ipython",
    "version": 3
   },
   "file_extension": ".py",
   "mimetype": "text/x-python",
   "name": "python",
   "nbconvert_exporter": "python",
   "pygments_lexer": "ipython3",
   "version": "3.10.6"
  }
 },
 "nbformat": 4,
 "nbformat_minor": 4
}
