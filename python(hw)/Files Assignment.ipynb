{
 "cells": [
  {
   "cell_type": "markdown",
   "metadata": {},
   "source": [
    "# Files Assignment\n"
   ]
  },
  {
   "cell_type": "markdown",
   "metadata": {},
   "source": [
    "## Problem 1\n",
    "You have a file “Crime and Punishment.txt” in this folder. Write a program to read the contents of the file line by line into a list called lines. In the reading loop, count the number of lines you read. Compare this with the length of the list you get from the len() function.\n",
    "\n"
   ]
  },
  {
   "cell_type": "code",
   "execution_count": 1,
   "metadata": {},
   "outputs": [
    {
     "name": "stdout",
     "output_type": "stream",
     "text": [
      "21970 21970\n"
     ]
    }
   ],
   "source": [
    "fname = open(\"Crime and Punishment.txt\")\n",
    "count = 0\n",
    "lines = []\n",
    "for line in fname:\n",
    "    count += 1\n",
    "    lines.append(line)\n",
    "    \n",
    "print(len(lines), count)"
   ]
  },
  {
   "cell_type": "markdown",
   "metadata": {},
   "source": [
    "## Problem 2\n",
    "Use the type() function to determine the type of items in the list."
   ]
  },
  {
   "cell_type": "code",
   "execution_count": 2,
   "metadata": {},
   "outputs": [
    {
     "name": "stdout",
     "output_type": "stream",
     "text": [
      "<class 'str'>\n"
     ]
    }
   ],
   "source": [
    "print(type(lines[0]))"
   ]
  },
  {
   "cell_type": "markdown",
   "metadata": {},
   "source": [
    "## Problem 3\n",
    "Compute the average length of a line.\n"
   ]
  },
  {
   "cell_type": "code",
   "execution_count": 3,
   "metadata": {},
   "outputs": [
    {
     "name": "stdout",
     "output_type": "stream",
     "text": [
      "51.45817023213473\n"
     ]
    }
   ],
   "source": [
    "total = 0\n",
    "for line in lines:\n",
    "    total += len(line)\n",
    "    \n",
    "avg = total/len(lines)\n",
    "print(avg)"
   ]
  },
  {
   "cell_type": "markdown",
   "metadata": {},
   "source": [
    "## Problem 4\n",
    "Consider a word to be defined as any sequence of non-blank characters separated by whitespace. Create a list of all of the words in the file. Use the string method split(). Print out the first 100 words in the list of words. Print the length of the list of words."
   ]
  },
  {
   "cell_type": "code",
   "execution_count": 17,
   "metadata": {},
   "outputs": [
    {
     "name": "stdout",
     "output_type": "stream",
     "text": [
      "CRIME\n",
      "AND\n",
      "PUNISHMENT\n",
      "PART\n",
      "I\n",
      "CHAPTER\n",
      "I\n",
      "On\n",
      "an\n",
      "exceptionally\n",
      "hot\n",
      "evening\n",
      "early\n",
      "in\n",
      "July\n",
      "a\n",
      "young\n",
      "man\n",
      "came\n",
      "out\n",
      "of\n",
      "the\n",
      "garret\n",
      "in\n",
      "which\n",
      "he\n",
      "lodged\n",
      "in\n",
      "S.\n",
      "Place\n",
      "and\n",
      "walked\n",
      "slowly,\n",
      "as\n",
      "though\n",
      "in\n",
      "hesitation,\n",
      "towards\n",
      "K.\n",
      "bridge.\n",
      "He\n",
      "had\n",
      "successfully\n",
      "avoided\n",
      "meeting\n",
      "his\n",
      "landlady\n",
      "on\n",
      "the\n",
      "staircase.\n",
      "His\n",
      "garret\n",
      "was\n",
      "under\n",
      "the\n",
      "roof\n",
      "of\n",
      "a\n",
      "high,\n",
      "five-storied\n",
      "house\n",
      "and\n",
      "was\n",
      "more\n",
      "like\n",
      "a\n",
      "cupboard\n",
      "than\n",
      "a\n",
      "room.\n",
      "The\n",
      "landlady\n",
      "who\n",
      "provided\n",
      "him\n",
      "with\n",
      "garret,\n",
      "dinners,\n",
      "and\n",
      "attendance,\n",
      "lived\n",
      "on\n",
      "the\n",
      "floor\n",
      "below,\n",
      "and\n",
      "every\n",
      "time\n",
      "he\n",
      "went\n",
      "out\n",
      "he\n",
      "was\n",
      "obliged\n",
      "to\n",
      "pass\n",
      "her\n",
      "kitchen,\n",
      "the\n",
      "door\n"
     ]
    }
   ],
   "source": [
    "words_list = []\n",
    "\n",
    "for line in lines:\n",
    "    words = line.split()\n",
    "    for word in words:\n",
    "        words_list.append(word)\n",
    "\n",
    "count = 0\n",
    "for i in range(100):\n",
    "    count += 1\n",
    "    print(words_list[i])"
   ]
  },
  {
   "cell_type": "markdown",
   "metadata": {},
   "source": [
    "## Problem 5\n",
    "Count the number of occurrences of the word “is” in the list of words. Be sure to allow for capitalization. What fraction of all the words is this?\n"
   ]
  },
  {
   "cell_type": "code",
   "execution_count": 18,
   "metadata": {},
   "outputs": [
    {
     "name": "stdout",
     "output_type": "stream",
     "text": [
      "0.006092447338562478\n"
     ]
    }
   ],
   "source": [
    "count = 0\n",
    "for word in words_list:\n",
    "    if word == \"is\":\n",
    "        count += 1\n",
    "\n",
    "print(count/len(words_list))"
   ]
  },
  {
   "cell_type": "code",
   "execution_count": null,
   "metadata": {},
   "outputs": [],
   "source": []
  }
 ],
 "metadata": {
  "kernelspec": {
   "display_name": "Python 3 (ipykernel)",
   "language": "python",
   "name": "python3"
  },
  "language_info": {
   "codemirror_mode": {
    "name": "ipython",
    "version": 3
   },
   "file_extension": ".py",
   "mimetype": "text/x-python",
   "name": "python",
   "nbconvert_exporter": "python",
   "pygments_lexer": "ipython3",
   "version": "3.10.6"
  }
 },
 "nbformat": 4,
 "nbformat_minor": 4
}
