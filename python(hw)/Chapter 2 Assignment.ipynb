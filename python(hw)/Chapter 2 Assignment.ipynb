{
 "cells": [
  {
   "cell_type": "markdown",
   "id": "874fe2f1",
   "metadata": {},
   "source": [
    "# Chapter 2 Assignment\n",
    "\n",
    "Your task is to make notes and an example of the five most important points in Chapter 2 of the PY4E text. For each point, expand the markdown to describe the point. Your description may include some quoted text. Be sure to include quote marks. Followin the markdown cell, there shoul be a code cell demonstrating the point."
   ]
  },
  {
   "cell_type": "markdown",
   "id": "56e01fe5",
   "metadata": {},
   "source": [
    "## Point 1\n"
   ]
  },
  {
   "cell_type": "markdown",
   "id": "ce76d4b7",
   "metadata": {},
   "source": [
    "Asking the user for input\n",
    "\n",
    "One of the important points from Chapter 2 was asking the user for input. It enables user to enter whatever they want for the program. \"When the user presses Return or Enter, the program resumes and input returns what the user typed as a string.\" This part was most important because the input is recognized only as a string. Therefore, if variables types other than string were to be entered, it needs to be converted using the functions."
   ]
  },
  {
   "cell_type": "code",
   "execution_count": 1,
   "id": "a0df784e",
   "metadata": {
    "scrolled": true
   },
   "outputs": [
    {
     "name": "stdout",
     "output_type": "stream",
     "text": [
      "34\n"
     ]
    },
    {
     "data": {
      "text/plain": [
       "str"
      ]
     },
     "execution_count": 1,
     "metadata": {},
     "output_type": "execute_result"
    }
   ],
   "source": [
    "inp = input()\n",
    "type(inp)"
   ]
  },
  {
   "cell_type": "code",
   "execution_count": 2,
   "id": "ded317b6",
   "metadata": {},
   "outputs": [
    {
     "name": "stdout",
     "output_type": "stream",
     "text": [
      "34\n"
     ]
    },
    {
     "data": {
      "text/plain": [
       "int"
      ]
     },
     "execution_count": 2,
     "metadata": {},
     "output_type": "execute_result"
    }
   ],
   "source": [
    "inp = int(input())\n",
    "type(inp)"
   ]
  },
  {
   "cell_type": "markdown",
   "id": "16200b23",
   "metadata": {},
   "source": [
    "## Point 2\n",
    "\n"
   ]
  },
  {
   "cell_type": "markdown",
   "id": "e4258dcd",
   "metadata": {},
   "source": [
    "Comments\n",
    "\n",
    "Other important part of chapter 2 is the comments. As the codes get longer and longer, it would be hard for other programmers or users to read the codes. Other than having correct indentations, having comments would help understand the programs. \"Comments are most useful when they document non-obvious features of the code. It is reasonable to assume that the reader can figure out what the code does; it is much more useful to explain why.\" This means that you don't comment every single line which will make the code even more confusing than before. Rather than commenting on what the code does, it is better to explain why the code was included."
   ]
  },
  {
   "cell_type": "code",
   "execution_count": 4,
   "id": "5be0aeff",
   "metadata": {},
   "outputs": [
    {
     "name": "stdout",
     "output_type": "stream",
     "text": [
      "212.0\n"
     ]
    }
   ],
   "source": [
    "temp_celsius = 100\n",
    "temp_fahrenheit = temp_celsius * (9/5) + 32 #formula for converting temperature\n",
    "\n",
    "#this kind of commenting is useless because unless the user doesn't know the formula for temperature conversion,\n",
    "#it is useless\n",
    "\n",
    "print(temp_fahrenheit)"
   ]
  },
  {
   "cell_type": "markdown",
   "id": "ce72d550",
   "metadata": {},
   "source": [
    "## Point 3\n"
   ]
  },
  {
   "cell_type": "markdown",
   "id": "9a5c3a55",
   "metadata": {},
   "source": [
    "Debugging\n",
    "\n",
    "As a programmer, debugging is something that you constantly do. It is important to understand what the error messages mean. \"At this point, the syntax error you are most likely to make is an illegal variable name, like class and yield, which are keywords.\" It is important to know and get familiarized with the keywords."
   ]
  },
  {
   "cell_type": "code",
   "execution_count": 5,
   "id": "e14e4305",
   "metadata": {},
   "outputs": [
    {
     "ename": "SyntaxError",
     "evalue": "assignment to yield expression not possible (141192470.py, line 1)",
     "output_type": "error",
     "traceback": [
      "\u001b[1;36m  Input \u001b[1;32mIn [5]\u001b[1;36m\u001b[0m\n\u001b[1;33m    yield = 4\u001b[0m\n\u001b[1;37m    ^\u001b[0m\n\u001b[1;31mSyntaxError\u001b[0m\u001b[1;31m:\u001b[0m assignment to yield expression not possible\n"
     ]
    }
   ],
   "source": [
    "yield = 4"
   ]
  },
  {
   "cell_type": "code",
   "execution_count": 6,
   "id": "0e75b41b",
   "metadata": {},
   "outputs": [
    {
     "ename": "SyntaxError",
     "evalue": "invalid binary literal (3154846895.py, line 1)",
     "output_type": "error",
     "traceback": [
      "\u001b[1;36m  Input \u001b[1;32mIn [6]\u001b[1;36m\u001b[0m\n\u001b[1;33m    0badname = 3\u001b[0m\n\u001b[1;37m     ^\u001b[0m\n\u001b[1;31mSyntaxError\u001b[0m\u001b[1;31m:\u001b[0m invalid binary literal\n"
     ]
    }
   ],
   "source": [
    "0badname = 3"
   ]
  },
  {
   "cell_type": "markdown",
   "id": "4813c3a2",
   "metadata": {},
   "source": [
    "## Point 4\n",
    "\n"
   ]
  },
  {
   "cell_type": "markdown",
   "id": "0ca1b4b1",
   "metadata": {},
   "source": [
    "Choosing mnemonic variable names\n",
    "\n",
    "When choosing names for variables, it is important to pick appropriate name that describes the variables. \"As long as you follow the simple rules of variable naming, and avoid reserved words, you have a lot of choice when you name your variables.\" As mentioned before, keywords cannot be used as a name for variable since they are reserved words for program."
   ]
  },
  {
   "cell_type": "code",
   "execution_count": 7,
   "id": "41b6ba94",
   "metadata": {},
   "outputs": [
    {
     "name": "stdout",
     "output_type": "stream",
     "text": [
      "164.0\n"
     ]
    }
   ],
   "source": [
    "#let's assume you are writing program to calculate employees' salaries.\n",
    "\n",
    "a = 8\n",
    "b = 20.50\n",
    "c = a * b\n",
    "\n",
    "print(c)"
   ]
  },
  {
   "cell_type": "code",
   "execution_count": 8,
   "id": "73ee7d09",
   "metadata": {},
   "outputs": [
    {
     "name": "stdout",
     "output_type": "stream",
     "text": [
      "164.0\n"
     ]
    }
   ],
   "source": [
    "#Without any explanation, it would be hard to tell the a is hours employee worked, b is the pay rate, and c is pay amount.\n",
    "#Where names for these variables are:\n",
    "\n",
    "hours = 8\n",
    "pay_rate = 20.50\n",
    "pay_amount = hours * pay_rate\n",
    "\n",
    "print(pay_amount)"
   ]
  },
  {
   "cell_type": "markdown",
   "id": "fdb9a20c",
   "metadata": {},
   "source": [
    "## Point 5\n",
    "\n"
   ]
  },
  {
   "cell_type": "markdown",
   "id": "dd419230",
   "metadata": {},
   "source": [
    "Point 5\n",
    "Order of operations\n",
    "\n",
    "Order of operations is important because it could completely change the result. \"Python follows mathematical convention. The acronym PEMDAS is a useful way to remember the rules.\" Just like actual mathematics, python also follows order of operations and they are parenthesis, exponentiation, multiplication, division, addition, and subtraction"
   ]
  },
  {
   "cell_type": "code",
   "execution_count": 9,
   "id": "714de0e4",
   "metadata": {},
   "outputs": [
    {
     "data": {
      "text/plain": [
       "2417851639229258349412352"
      ]
     },
     "execution_count": 9,
     "metadata": {},
     "output_type": "execute_result"
    }
   ],
   "source": [
    "#Although following two expressions look similar, the result is completely different\n",
    "\n",
    "2**3**4"
   ]
  },
  {
   "cell_type": "code",
   "execution_count": 10,
   "id": "eeed5460",
   "metadata": {},
   "outputs": [
    {
     "data": {
      "text/plain": [
       "4096"
      ]
     },
     "execution_count": 10,
     "metadata": {},
     "output_type": "execute_result"
    }
   ],
   "source": [
    "(2**3)**4"
   ]
  },
  {
   "cell_type": "code",
   "execution_count": null,
   "id": "6157c35d",
   "metadata": {},
   "outputs": [],
   "source": []
  }
 ],
 "metadata": {
  "kernelspec": {
   "display_name": "Python 3 (ipykernel)",
   "language": "python",
   "name": "python3"
  },
  "language_info": {
   "codemirror_mode": {
    "name": "ipython",
    "version": 3
   },
   "file_extension": ".py",
   "mimetype": "text/x-python",
   "name": "python",
   "nbconvert_exporter": "python",
   "pygments_lexer": "ipython3",
   "version": "3.9.12"
  }
 },
 "nbformat": 4,
 "nbformat_minor": 5
}
