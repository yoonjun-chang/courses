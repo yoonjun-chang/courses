{
 "cells": [
  {
   "cell_type": "markdown",
   "metadata": {},
   "source": [
    "# Sets Assignment"
   ]
  },
  {
   "cell_type": "markdown",
   "metadata": {},
   "source": [
    "## Problem 1\n",
    "\n",
    "Create lists a_list, b_list and c_list by selecting 50 random numbers for each from the integers from 1 to 250 inclusive.\n",
    "Print the lists."
   ]
  },
  {
   "cell_type": "code",
   "execution_count": 2,
   "metadata": {
    "scrolled": true
   },
   "outputs": [
    {
     "name": "stdout",
     "output_type": "stream",
     "text": [
      "[151, 42, 63, 198, 36, 34, 58, 10, 93, 69, 124, 35, 222, 231, 163, 67, 143, 32, 57, 95, 137, 146, 142, 96, 49, 77, 127, 4, 170, 37, 19, 88, 247, 64, 104, 241, 14, 209, 118, 235, 116, 18, 169, 20, 24, 108, 31, 134, 161, 52]\n"
     ]
    }
   ],
   "source": [
    "import random\n",
    "a_list = random.sample(range(1,251),50)\n",
    "b_list = random.sample(range(1,251),50)\n",
    "c_list = random.sample(range(1,251),50)\n",
    " \n",
    "print(a_list)"
   ]
  },
  {
   "cell_type": "code",
   "execution_count": 3,
   "metadata": {
    "scrolled": true
   },
   "outputs": [
    {
     "name": "stdout",
     "output_type": "stream",
     "text": [
      "[87, 166, 178, 151, 3, 232, 67, 213, 7, 52, 144, 110, 25, 143, 154, 15, 140, 185, 189, 85, 233, 129, 135, 248, 246, 80, 23, 39, 224, 5, 59, 102, 167, 96, 29, 11, 212, 214, 155, 188, 186, 130, 68, 40, 157, 72, 194, 162, 148, 114]\n"
     ]
    }
   ],
   "source": [
    "print(b_list)"
   ]
  },
  {
   "cell_type": "code",
   "execution_count": 4,
   "metadata": {
    "scrolled": true
   },
   "outputs": [
    {
     "name": "stdout",
     "output_type": "stream",
     "text": [
      "[235, 60, 137, 136, 94, 67, 63, 150, 7, 193, 239, 62, 117, 133, 138, 89, 41, 13, 236, 96, 113, 159, 88, 129, 165, 83, 72, 244, 219, 70, 152, 230, 120, 197, 151, 154, 4, 76, 37, 79, 246, 217, 243, 232, 11, 245, 39, 141, 158, 176]\n"
     ]
    }
   ],
   "source": [
    "print(c_list)"
   ]
  },
  {
   "cell_type": "markdown",
   "metadata": {},
   "source": [
    "## Problem 2\n",
    "\n",
    "Convert the lists from Problem 1 into corresonding sets a, b, and c. Print the sets."
   ]
  },
  {
   "cell_type": "code",
   "execution_count": 5,
   "metadata": {},
   "outputs": [
    {
     "name": "stdout",
     "output_type": "stream",
     "text": [
      "{4, 134, 137, 10, 142, 143, 14, 146, 19, 18, 20, 151, 24, 31, 32, 161, 34, 35, 36, 163, 37, 169, 42, 170, 49, 52, 57, 58, 63, 64, 67, 69, 198, 77, 209, 88, 93, 222, 95, 96, 231, 104, 235, 108, 241, 116, 118, 247, 124, 127}\n"
     ]
    }
   ],
   "source": [
    "a = set(a_list)\n",
    "b = set(b_list)\n",
    "c = set(c_list)\n",
    "\n",
    "\n",
    "print(a)"
   ]
  },
  {
   "cell_type": "code",
   "execution_count": 6,
   "metadata": {},
   "outputs": [
    {
     "name": "stdout",
     "output_type": "stream",
     "text": [
      "{129, 130, 3, 5, 7, 135, 11, 140, 143, 144, 15, 148, 151, 23, 25, 154, 155, 29, 157, 162, 166, 39, 167, 40, 178, 52, 185, 186, 59, 188, 189, 194, 67, 68, 72, 80, 212, 213, 85, 87, 214, 224, 96, 102, 232, 233, 110, 114, 246, 248}\n"
     ]
    }
   ],
   "source": [
    "print(b)"
   ]
  },
  {
   "cell_type": "code",
   "execution_count": 7,
   "metadata": {},
   "outputs": [
    {
     "name": "stdout",
     "output_type": "stream",
     "text": [
      "{129, 4, 133, 7, 136, 137, 138, 11, 13, 141, 150, 151, 152, 154, 158, 159, 165, 37, 39, 41, 176, 60, 62, 63, 193, 67, 197, 70, 72, 76, 79, 83, 88, 89, 217, 219, 94, 96, 230, 232, 235, 236, 239, 113, 243, 244, 117, 246, 245, 120}\n"
     ]
    }
   ],
   "source": [
    "print(c)"
   ]
  },
  {
   "cell_type": "markdown",
   "metadata": {},
   "source": [
    "## Problem 3\n",
    "\n",
    "Compute the union of a and b and print it."
   ]
  },
  {
   "cell_type": "code",
   "execution_count": 8,
   "metadata": {},
   "outputs": [
    {
     "name": "stdout",
     "output_type": "stream",
     "text": [
      "{3, 4, 5, 7, 10, 11, 14, 15, 18, 19, 20, 23, 24, 25, 29, 31, 32, 34, 35, 36, 37, 39, 40, 42, 49, 52, 57, 58, 59, 63, 64, 67, 68, 69, 72, 77, 80, 85, 87, 88, 93, 95, 96, 102, 104, 108, 110, 114, 116, 118, 124, 127, 129, 130, 134, 135, 137, 140, 142, 143, 144, 146, 148, 151, 154, 155, 157, 161, 162, 163, 166, 167, 169, 170, 178, 185, 186, 188, 189, 194, 198, 209, 212, 213, 214, 222, 224, 231, 232, 233, 235, 241, 246, 247, 248}\n"
     ]
    }
   ],
   "source": [
    "print(a | b)"
   ]
  },
  {
   "cell_type": "markdown",
   "metadata": {},
   "source": [
    "## Problem 4\n",
    "\n",
    "Compute the intersection of b and c and print it."
   ]
  },
  {
   "cell_type": "code",
   "execution_count": 9,
   "metadata": {},
   "outputs": [
    {
     "name": "stdout",
     "output_type": "stream",
     "text": [
      "{96, 129, 67, 7, 39, 72, 232, 11, 246, 151, 154}\n"
     ]
    }
   ],
   "source": [
    "print(b & c)"
   ]
  },
  {
   "cell_type": "markdown",
   "metadata": {},
   "source": [
    "## Problem 5\n",
    "\n",
    "Define U as the smallest appropriate universe (the union of a, b, and c) for this problem set. Create it explicitly as a set. Print it."
   ]
  },
  {
   "cell_type": "code",
   "execution_count": 10,
   "metadata": {},
   "outputs": [
    {
     "name": "stdout",
     "output_type": "stream",
     "text": [
      "{3, 4, 5, 7, 10, 11, 13, 14, 15, 18, 19, 20, 23, 24, 25, 29, 31, 32, 34, 35, 36, 37, 39, 40, 41, 42, 49, 52, 57, 58, 59, 60, 62, 63, 64, 67, 68, 69, 70, 72, 76, 77, 79, 80, 83, 85, 87, 88, 89, 93, 94, 95, 96, 102, 104, 108, 110, 113, 114, 116, 117, 118, 120, 124, 127, 129, 130, 133, 134, 135, 136, 137, 138, 140, 141, 142, 143, 144, 146, 148, 150, 151, 152, 154, 155, 157, 158, 159, 161, 162, 163, 165, 166, 167, 169, 170, 176, 178, 185, 186, 188, 189, 193, 194, 197, 198, 209, 212, 213, 214, 217, 219, 222, 224, 230, 231, 232, 233, 235, 236, 239, 241, 243, 244, 245, 246, 247, 248}\n"
     ]
    }
   ],
   "source": [
    "U = set(a | b | c)\n",
    "print(U)"
   ]
  },
  {
   "cell_type": "markdown",
   "metadata": {},
   "source": [
    "## Problem 6\n",
    "\n",
    "Define a function comp(s). Its single parameter s is a set and it returns the complement of its input. "
   ]
  },
  {
   "cell_type": "code",
   "execution_count": 11,
   "metadata": {},
   "outputs": [],
   "source": [
    "def comp(s):\n",
    "    return U - s"
   ]
  },
  {
   "cell_type": "markdown",
   "metadata": {},
   "source": [
    "## Problem 7\n",
    "\n",
    "Using the function comp(), compute the complement of the set a and call it a_comp. Using an appropriate method or operation show that a_comp really is the complement of a."
   ]
  },
  {
   "cell_type": "code",
   "execution_count": 12,
   "metadata": {},
   "outputs": [
    {
     "name": "stdout",
     "output_type": "stream",
     "text": [
      "True\n"
     ]
    }
   ],
   "source": [
    "a_comp = comp(a)\n",
    "print(a_comp | a == U)"
   ]
  },
  {
   "cell_type": "markdown",
   "metadata": {},
   "source": [
    "## Problem 8\n",
    "\n",
    "Show that for these particular sets, the associativity of the operations union and intersection can be verfied. Note that you don't need to visually examine the results. Just test for equality. "
   ]
  },
  {
   "cell_type": "code",
   "execution_count": 13,
   "metadata": {},
   "outputs": [
    {
     "name": "stdout",
     "output_type": "stream",
     "text": [
      "True\n"
     ]
    }
   ],
   "source": [
    "b_comp = comp(b)\n",
    "c_comp = comp(c)\n",
    "\n",
    "print(a_comp&b_comp == U-(a|b))"
   ]
  }
 ],
 "metadata": {
  "kernelspec": {
   "display_name": "Python 3 (ipykernel)",
   "language": "python",
   "name": "python3"
  },
  "language_info": {
   "codemirror_mode": {
    "name": "ipython",
    "version": 3
   },
   "file_extension": ".py",
   "mimetype": "text/x-python",
   "name": "python",
   "nbconvert_exporter": "python",
   "pygments_lexer": "ipython3",
   "version": "3.10.6"
  }
 },
 "nbformat": 4,
 "nbformat_minor": 4
}
